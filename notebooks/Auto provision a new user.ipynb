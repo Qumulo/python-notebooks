{
 "cells": [
  {
   "cell_type": "markdown",
   "metadata": {},
   "source": [
    "# Auto-provision a new user\n",
    "\n",
    "- Create a home directory\n",
    "- Create NFS export\n",
    "- Create SMB share\n",
    "- Create quota\n",
    "- Set up daily snapshots\n",
    "\n",
    "### Prerequisites\n",
    "\n",
    "- Install the qumulo api via `pip install qumulo_api`, or download it from your Qumulo cluster on the API & Tools page\n",
    "- set up all the variables in the cell below"
   ]
  },
  {
   "cell_type": "code",
   "execution_count": null,
   "metadata": {
    "collapsed": true
   },
   "outputs": [],
   "source": [
    "cluster = 'XXXXX'    # Qumulo cluster hostname or IP where you're setting up users\n",
    "api_user = 'XXXXX'     # Qumulo api user name\n",
    "api_password = 'XXXXX' # Qumulo api password\n",
    "base_dir = 'XXXXX' # the parent path where the users will be created.\n",
    "\n",
    "user_name = 'XXXXX' # the new \"user\" to set up."
   ]
  },
  {
   "cell_type": "code",
   "execution_count": null,
   "metadata": {
    "collapsed": true,
    "scrolled": true
   },
   "outputs": [],
   "source": [
    "import os\n",
    "import sys\n",
    "import traceback\n",
    "\n",
    "from qumulo.rest_client import RestClient\n",
    "from qumulo.rest.nfs import NFSRestriction"
   ]
  },
  {
   "cell_type": "code",
   "execution_count": null,
   "metadata": {
    "collapsed": true
   },
   "outputs": [],
   "source": [
    "full_path = '/'+ base_dir + '/' + user_name"
   ]
  },
  {
   "cell_type": "code",
   "execution_count": null,
   "metadata": {
    "collapsed": true
   },
   "outputs": [],
   "source": [
    "rc = RestClient(cluster, 8000)\n",
    "rc.login(api_user, api_password)"
   ]
  },
  {
   "cell_type": "code",
   "execution_count": null,
   "metadata": {
    "collapsed": true
   },
   "outputs": [],
   "source": [
    "def create_dir(rc, name, dir_path='/'):\n",
    "    try:\n",
    "        rc.fs.create_directory(name = name, dir_path = dir_path)\n",
    "    except:\n",
    "        exc_type, exc_value, exc_traceback = sys.exc_info()\n",
    "        print(\"Exception: %s\" % exc_value)"
   ]
  },
  {
   "cell_type": "code",
   "execution_count": null,
   "metadata": {
    "collapsed": true
   },
   "outputs": [],
   "source": [
    "# Create base user directory, if it doesn't already exist\n",
    "create_dir(rc, name=base_dir, dir_path='/')"
   ]
  },
  {
   "cell_type": "markdown",
   "metadata": {},
   "source": [
    "### Create directory"
   ]
  },
  {
   "cell_type": "code",
   "execution_count": null,
   "metadata": {
    "collapsed": true
   },
   "outputs": [],
   "source": [
    "dir_res = rc.fs.create_directory(name=user_name, dir_path='/'+ base_dir)\n",
    "print(\"Directory '%s' created with id: %s\" % (full_path, dir_res['file_number']))\n",
    "dir_id = dir_res['file_number']"
   ]
  },
  {
   "cell_type": "markdown",
   "metadata": {},
   "source": [
    "### Create 20GB Quota"
   ]
  },
  {
   "cell_type": "code",
   "execution_count": null,
   "metadata": {
    "collapsed": true
   },
   "outputs": [],
   "source": [
    "quota_res = rc.quota.create_quota(id_ = dir_id, limit_in_bytes = 20000000000)"
   ]
  },
  {
   "cell_type": "markdown",
   "metadata": {},
   "source": [
    "### Create NFS export"
   ]
  },
  {
   "cell_type": "code",
   "execution_count": null,
   "metadata": {
    "collapsed": true
   },
   "outputs": [],
   "source": [
    "nfs_res = rc.nfs.nfs_add_share(export_path = '/' + user_name,\n",
    "                        fs_path = full_path,\n",
    "                        description = \"%s home directory\" % user_name,\n",
    "                        restrictions = [NFSRestriction({\n",
    "                                            'read_only': False, \n",
    "                                            'host_restrictions': [],\n",
    "                                            'user_mapping': 'NFS_MAP_NONE', \n",
    "                                            'map_to_user_id': '0'})]\n",
    "                    )\n",
    "print(\"NFS export created: %s with id %s\" % (full_path, nfs_res['id']))"
   ]
  },
  {
   "cell_type": "markdown",
   "metadata": {},
   "source": [
    "### Create SMB share"
   ]
  },
  {
   "cell_type": "code",
   "execution_count": null,
   "metadata": {
    "collapsed": true
   },
   "outputs": [],
   "source": [
    "smb_res = rc.smb.smb_add_share(share_name = user_name, \n",
    "                           fs_path = full_path, \n",
    "                           description = \"%s home directory\" % user_name\n",
    "                          )\n",
    "print(\"SMB share created: %s with id %s\" % (full_path, smb_res['id']))"
   ]
  },
  {
   "cell_type": "markdown",
   "metadata": {},
   "source": [
    "### Set up snapshot policy"
   ]
  },
  {
   "cell_type": "code",
   "execution_count": null,
   "metadata": {
    "collapsed": true
   },
   "outputs": [],
   "source": [
    "snap_res = rc.snapshot.create_policy(name = \"User %s\" % user_name, \n",
    "                                schedule_info = {\"creation_schedule\":\n",
    "                                                 {\"frequency\":\"SCHEDULE_DAILY_OR_WEEKLY\",\n",
    "                                                  \"hour\":2,\"minute\":15,\n",
    "                                                  \"on_days\":[\"MON\",\"TUE\",\"WED\",\"THU\",\"FRI\",\"SAT\",\"SUN\"],\n",
    "                                                  \"timezone\":\"America/Los_Angeles\"},\n",
    "                                                 \"expiration_time_to_live\":\"7days\"\n",
    "                                                },\n",
    "                                directory_id = str(dir_id),\n",
    "                                enabled = True)\n",
    "print(\"Snapshot policy created with id %s\" % snap_res['id'])"
   ]
  },
  {
   "cell_type": "markdown",
   "metadata": {},
   "source": [
    "### Clean up everything"
   ]
  },
  {
   "cell_type": "code",
   "execution_count": null,
   "metadata": {
    "collapsed": true
   },
   "outputs": [],
   "source": [
    "rc.quota.delete_quota(id_ = quota_res['id'])\n",
    "rc.snapshot.delete_policy(policy_id = snap_res['id'])\n",
    "rc.smb.smb_delete_share(id_ = smb_res['id'])\n",
    "rc.nfs.nfs_delete_share(id_ = nfs_res['id'])\n",
    "if full_path != '/': # small sanity check since tree delete is rather powerful.\n",
    "    rc.fs.delete_tree(path = full_path)\n",
    "print(\"Everything is cleaned up!\")"
   ]
  },
  {
   "cell_type": "code",
   "execution_count": null,
   "metadata": {
    "collapsed": true
   },
   "outputs": [],
   "source": []
  }
 ],
 "metadata": {
  "kernelspec": {
   "display_name": "Python 2",
   "language": "python",
   "name": "python2"
  },
  "language_info": {
   "codemirror_mode": {
    "name": "ipython",
    "version": 2
   },
   "file_extension": ".py",
   "mimetype": "text/x-python",
   "name": "python",
   "nbconvert_exporter": "python",
   "pygments_lexer": "ipython2",
   "version": "2.7.12"
  }
 },
 "nbformat": 4,
 "nbformat_minor": 2
}
