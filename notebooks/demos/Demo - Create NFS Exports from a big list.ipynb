{
 "cells": [
  {
   "cell_type": "markdown",
   "metadata": {},
   "source": [
    "# Create NFS Exports from a big list "
   ]
  },
  {
   "cell_type": "markdown",
   "metadata": {},
   "source": [
    "### nfs.nfs_add_share() endpoint documentation\n",
    "\n",
    "##### Input parameters\n",
    "\n",
    "* export_path - NFS export path. Must include the leading slash.\n",
    "* fs_path - filesystem path of the exported directory. Must include the leading slash /\n",
    "* description - Description of this NFS export. Use this to organize or \"spec\" your shares.\n",
    "* restrictions - A list (or array) of NFS restriction settings, where each setting is a dictionary of the following:\n",
    "     - read_only - Sets the NFS export to read-only\n",
    "     - host_restrictions - List of IP addresses, ranges, or network segments to restrict the share to\n",
    "     - user_mapping - NFS user mapping (squash) support. Valid values include: 0 - Do not map users, 1 - Map root user (uid 0), 2 - Map all users.\n",
    "     - map_to_user_id - The user ID to map (see /users)\n",
    "* allow_fs_path_create - Specifies whether the file system path can be created if it does not already exist. This will also recursively create the non-existent directory\n",
    "\n",
    "##### Output\n",
    "\n",
    "Returns json for the new share object that has been created which is simply the attributes specified in the Input arguments.\n",
    "\n",
    "#### python example code\n",
    "```python\n",
    "from qumulo.rest_client import RestClient\n",
    "from qumulo.rest.nfs import NFSRestriction\n",
    "\n",
    "rc = RestClient(\"product\", 8000)\n",
    "rc.login(\"admin\", \"secret\")\n",
    "\n",
    "out = rc.nfs.nfs_add_share(export_path = '/users/export1',\n",
    "                    fs_path = '/users/export1',\n",
    "                    description = 'User Export 1',\n",
    "                    restrictions = [NFSRestriction({\n",
    "                                        'read_only': False, \n",
    "                                        'host_restrictions': ['10.20.217.62'],\n",
    "                                        'user_mapping': 'NFS_MAP_NONE', \n",
    "                                        'map_to_user_id': '0'})],\n",
    "                    allow_fs_path_create = True)\n",
    "\n",
    "print(out)\n",
    "```"
   ]
  },
  {
   "cell_type": "markdown",
   "metadata": {},
   "source": [
    "# Create ~1,000 shares from a csv"
   ]
  },
  {
   "cell_type": "code",
   "execution_count": 26,
   "metadata": {
    "collapsed": true
   },
   "outputs": [],
   "source": [
    "# Set up rest client\n",
    "import pandas\n",
    "import sys\n",
    "import traceback\n",
    "import os\n",
    "\n",
    "from qumulo.rest_client import RestClient\n",
    "from qumulo.rest.nfs import NFSRestriction\n",
    "\n",
    "rc = RestClient(\"<qumulo-cluster>\", 8000)\n",
    "rc.login(\"<qumulo-user>\", \"<qumulo-password>\");"
   ]
  },
  {
   "cell_type": "code",
   "execution_count": 27,
   "metadata": {
    "collapsed": true
   },
   "outputs": [],
   "source": [
    "# a csv list of celbrity names and twitter handles\n",
    "USER_LIST_URL = \"https://gist.githubusercontent.com/mbejda/9c3353780270e7298763/raw/1bfc4810db4240d85947e6aef85fcae71f475493/Top-1000-Celebrity-Twitter-Accounts.csv\"\n",
    "user_list_df = pandas.read_csv(USER_LIST_URL, encoding = 'utf8')"
   ]
  },
  {
   "cell_type": "code",
   "execution_count": 28,
   "metadata": {},
   "outputs": [
    {
     "name": "stdout",
     "output_type": "stream",
     "text": [
      "{u'restrictions': [{u'read_only': False, u'host_restrictions': [], u'user_mapping': u'NFS_MAP_NONE', u'map_to_user_id': u'0'}], u'description': u'KATY PERRY', u'id': u'8911', u'fs_path': u'/users/k/katyperry', u'export_path': u'/users/k/katyperry'}\n",
      "name 'dir_id' is not defined\n",
      "Finished create user directories and NFS exports\n"
     ]
    }
   ],
   "source": [
    "# loop through the celbrity names and create nfs shares\n",
    "for idx, row in user_list_df.iterrows():\n",
    "    user_dir = '/users/%s/%s' % (row['twitter'][0].lower(), row['twitter'])\n",
    "    try:\n",
    "        share = rc.nfs.nfs_add_share(export_path = user_dir,\n",
    "                        fs_path = user_dir,\n",
    "                        description = row['name'],\n",
    "                        restrictions = [NFSRestriction({\n",
    "                                            'read_only': False, \n",
    "                                            'host_restrictions': [],\n",
    "                                            'user_mapping': 'NFS_MAP_NONE', \n",
    "                                            'map_to_user_id': '0'})],\n",
    "                        allow_fs_path_create = True)\n",
    "        print(share)\n",
    "        quota_res = rc.quota.create_quota(id_ = dir_id, limit_in_bytes = 20000000000)\n",
    "    except:\n",
    "        exc_type, exc_value, exc_traceback = sys.exc_info()\n",
    "        lines = traceback.format_exception(exc_type, exc_value, exc_traceback)\n",
    "        print \"%s\" % (str(exc_value)[0:110], )\n",
    "    break\n",
    "print(\"Finished create user directories and NFS exports\")"
   ]
  },
  {
   "cell_type": "markdown",
   "metadata": {},
   "source": [
    "### Go take a look at your creation: https://qumulo-cluster/nfs-exports\n",
    "-----"
   ]
  },
  {
   "cell_type": "markdown",
   "metadata": {},
   "source": [
    "# Delete all existing user shares and directories"
   ]
  },
  {
   "cell_type": "code",
   "execution_count": 25,
   "metadata": {
    "collapsed": true
   },
   "outputs": [],
   "source": [
    "# This better be a demo cluster\n",
    "for share in rc.nfs.nfs_list_shares():\n",
    "    if '/users' in share['fs_path']:\n",
    "        rc.nfs.nfs_delete_share(id_=share['id'])\n",
    "        rc.fs.delete_tree(path = share['fs_path'])\n"
   ]
  },
  {
   "cell_type": "code",
   "execution_count": null,
   "metadata": {
    "collapsed": true
   },
   "outputs": [],
   "source": [
    "# finish the cleanup job\n",
    "rc.fs.delete_tree(path = '/users')"
   ]
  },
  {
   "cell_type": "code",
   "execution_count": null,
   "metadata": {
    "collapsed": true
   },
   "outputs": [],
   "source": []
  }
 ],
 "metadata": {
  "kernelspec": {
   "display_name": "Python 2",
   "language": "python",
   "name": "python2"
  },
  "language_info": {
   "codemirror_mode": {
    "name": "ipython",
    "version": 2
   },
   "file_extension": ".py",
   "mimetype": "text/x-python",
   "name": "python",
   "nbconvert_exporter": "python",
   "pygments_lexer": "ipython2",
   "version": "2.7.12"
  }
 },
 "nbformat": 4,
 "nbformat_minor": 2
}
