{
 "cells": [
  {
   "cell_type": "markdown",
   "metadata": {},
   "source": [
    "# Auto-provision a new user\n",
    "\n",
    "- Create a home directory\n",
    "- Create NFS export\n",
    "- Create SMB share\n",
    "- Set up daily snapshots\n",
    "- Set up replication and replicate data"
   ]
  },
  {
   "cell_type": "code",
   "execution_count": 72,
   "metadata": {
    "collapsed": true,
    "scrolled": true
   },
   "outputs": [],
   "source": [
    "# Set up rest client\n",
    "import os\n",
    "import sys\n",
    "import traceback\n",
    "\n",
    "from qumulo.rest_client import RestClient\n",
    "from qumulo.rest.nfs import NFSRestriction"
   ]
  },
  {
   "cell_type": "code",
   "execution_count": 73,
   "metadata": {
    "collapsed": true
   },
   "outputs": [],
   "source": [
    "cluster = 'product'\n",
    "base_dir = 'users-replicated'\n",
    "user_name = 'tommy-at-qumulo'\n",
    "dest_ip = '10.120.200.31'\n",
    "dest_dir = 'users-backup'\n",
    "full_path = '/'+ base_dir + '/' + user_name"
   ]
  },
  {
   "cell_type": "code",
   "execution_count": 74,
   "metadata": {
    "collapsed": true
   },
   "outputs": [],
   "source": [
    "rc = RestClient(cluster, 8000)\n",
    "rc.login(\"admin\", \"admin\")\n",
    "\n",
    "rc_dest = RestClient(dest_ip, 8000)\n",
    "rc_dest.login(\"admin\", \"admin\");"
   ]
  },
  {
   "cell_type": "code",
   "execution_count": 75,
   "metadata": {
    "collapsed": true
   },
   "outputs": [],
   "source": [
    "def create_dir(rc, name, dir_path='/'):\n",
    "    try:\n",
    "        rc.fs.create_directory(name = name, dir_path = dir_path)\n",
    "    except:\n",
    "        exc_type, exc_value, exc_traceback = sys.exc_info()\n",
    "        print(\"Exception: %s\" % exc_value)"
   ]
  },
  {
   "cell_type": "code",
   "execution_count": 76,
   "metadata": {},
   "outputs": [
    {
     "name": "stdout",
     "output_type": "stream",
     "text": [
      "Exception: Error 409: fs_entry_exists_error: { ino=252355565 }\n"
     ]
    }
   ],
   "source": [
    "# Create base user directory, if it doesn't already exist\n",
    "create_dir(rc, name=base_dir, dir_path='/')"
   ]
  },
  {
   "cell_type": "markdown",
   "metadata": {},
   "source": [
    "### Create directory"
   ]
  },
  {
   "cell_type": "code",
   "execution_count": 77,
   "metadata": {},
   "outputs": [
    {
     "name": "stdout",
     "output_type": "stream",
     "text": [
      "Directory '/users-replicated/tommy-at-qumulo' created with id: 306365198\n"
     ]
    }
   ],
   "source": [
    "dir_res = rc.fs.create_directory(name=user_name, dir_path='/'+ base_dir)\n",
    "print(\"Directory '%s' created with id: %s\" % (full_path, dir_res['file_number']))\n",
    "dir_id = dir_res['file_number']"
   ]
  },
  {
   "cell_type": "markdown",
   "metadata": {},
   "source": [
    "### Create 20GB Quota"
   ]
  },
  {
   "cell_type": "code",
   "execution_count": 78,
   "metadata": {
    "collapsed": true
   },
   "outputs": [],
   "source": [
    "quota_res = rc.quota.create_quota(id_ = dir_id, limit_in_bytes = 20000000000)"
   ]
  },
  {
   "cell_type": "markdown",
   "metadata": {},
   "source": [
    "### Create NFS export"
   ]
  },
  {
   "cell_type": "code",
   "execution_count": 79,
   "metadata": {},
   "outputs": [
    {
     "name": "stdout",
     "output_type": "stream",
     "text": [
      "NFS export created: /users-replicated/tommy-at-qumulo with id 8909\n"
     ]
    }
   ],
   "source": [
    "nfs_res = rc.nfs.nfs_add_share(export_path = '/' + user_name,\n",
    "                        fs_path = full_path,\n",
    "                        description = \"%s home directory\" % user_name,\n",
    "                        restrictions = [NFSRestriction({\n",
    "                                            'read_only': False, \n",
    "                                            'host_restrictions': [],\n",
    "                                            'user_mapping': 'NFS_MAP_NONE', \n",
    "                                            'map_to_user_id': '0'})]\n",
    "                    )\n",
    "print(\"NFS export created: %s with id %s\" % (full_path, nfs_res['id']))"
   ]
  },
  {
   "cell_type": "markdown",
   "metadata": {},
   "source": [
    "### Create SMB share"
   ]
  },
  {
   "cell_type": "code",
   "execution_count": 80,
   "metadata": {},
   "outputs": [
    {
     "name": "stdout",
     "output_type": "stream",
     "text": [
      "SMB share created: /users-replicated/tommy-at-qumulo with id 8910\n"
     ]
    }
   ],
   "source": [
    "smb_res = rc.smb.smb_add_share(share_name = user_name, \n",
    "                           fs_path = full_path, \n",
    "                           description = \"%s home directory\" % user_name\n",
    "                          )\n",
    "print(\"SMB share created: %s with id %s\" % (full_path, smb_res['id']))"
   ]
  },
  {
   "cell_type": "markdown",
   "metadata": {},
   "source": [
    "### Set up snapshot policy"
   ]
  },
  {
   "cell_type": "code",
   "execution_count": 81,
   "metadata": {},
   "outputs": [
    {
     "name": "stdout",
     "output_type": "stream",
     "text": [
      "Snapshot policy created with id 9\n"
     ]
    }
   ],
   "source": [
    "snap_res = rc.snapshot.create_policy(name = \"User %s\" % user_name, \n",
    "                                schedule_info = {\"creation_schedule\":\n",
    "                                                 {\"frequency\":\"SCHEDULE_DAILY_OR_WEEKLY\",\n",
    "                                                  \"hour\":2,\"minute\":15,\n",
    "                                                  \"on_days\":[\"MON\",\"TUE\",\"WED\",\"THU\",\"FRI\",\"SAT\",\"SUN\"],\n",
    "                                                  \"timezone\":\"America/Los_Angeles\"},\n",
    "                                                 \"expiration_time_to_live\":\"7days\"\n",
    "                                                },\n",
    "                                directory_id = str(dir_id),\n",
    "                                enabled = True)\n",
    "print(\"Snapshot policy created with id %s\" % snap_res['id'])"
   ]
  },
  {
   "cell_type": "markdown",
   "metadata": {},
   "source": [
    "### Set up replication"
   ]
  },
  {
   "cell_type": "code",
   "execution_count": 82,
   "metadata": {},
   "outputs": [
    {
     "name": "stdout",
     "output_type": "stream",
     "text": [
      "Exception: Error 409: fs_entry_exists_error: { ino=3700990136 }\n",
      "Replication relationship status: ESTABLISHED\n"
     ]
    }
   ],
   "source": [
    "replic_res = rc.replication.create_relationship(source_path = full_path,\n",
    "                                    target_path = '/%s/%s' % (dest_dir,  user_name),\n",
    "                                    address = dest_ip,\n",
    "                                  )\n",
    "\n",
    "create_dir(rc_dest, name=dest_dir, dir_path='/')\n",
    "create_dir(rc_dest, name=user_name, dir_path='/' + dest_dir + '/')\n",
    "\n",
    "replic_auth_res = rc_dest.replication.authorize(relationship_id = replic_res['id'])\n",
    "\n",
    "print(\"Replication relationship status: %s\" % replic_auth_res['state'])"
   ]
  },
  {
   "cell_type": "code",
   "execution_count": 83,
   "metadata": {
    "collapsed": true
   },
   "outputs": [],
   "source": [
    "# mount the share. Create a file.\n",
    "# sudo mount product:/tommy-at-qumulo /mnt/tommyatqumulo\n",
    "# dd if=/dev/zero of=/mnt/tommyatqumulo/file1.txt bs=1000000 count=1000"
   ]
  },
  {
   "cell_type": "code",
   "execution_count": 84,
   "metadata": {},
   "outputs": [
    {
     "data": {
      "text/plain": [
       "{u'monitor_uri': u'/v1/replication/source-relationships/eea3f5b4-9631-4472-b598-f40d8298ecff/status'}"
      ]
     },
     "execution_count": 84,
     "metadata": {},
     "output_type": "execute_result"
    }
   ],
   "source": [
    "# run this after writing the file\n",
    "rc.replication.replicate(relationship = replic_res['id'])"
   ]
  },
  {
   "cell_type": "markdown",
   "metadata": {},
   "source": [
    "### Clean up everything"
   ]
  },
  {
   "cell_type": "code",
   "execution_count": 85,
   "metadata": {},
   "outputs": [
    {
     "name": "stdout",
     "output_type": "stream",
     "text": [
      "Everything is cleaned up!\n"
     ]
    }
   ],
   "source": [
    "rc.quota.delete_quota(id_ = quota_res['id'])\n",
    "rc.snapshot.delete_policy(policy_id = snap_res['id'])\n",
    "rc.replication.delete_relationship(relationship_id = replic_res['id'])\n",
    "rc_dest.fs.delete_tree(path = '/users-backup/%s' % user_name)\n",
    "rc.smb.smb_delete_share(id_ = smb_res['id'])\n",
    "rc.nfs.nfs_delete_share(id_ = nfs_res['id'])\n",
    "rc.fs.delete_tree(path = full_path)\n",
    "print(\"Everything is cleaned up!\")"
   ]
  },
  {
   "cell_type": "code",
   "execution_count": null,
   "metadata": {
    "collapsed": true
   },
   "outputs": [],
   "source": []
  }
 ],
 "metadata": {
  "kernelspec": {
   "display_name": "Python 2",
   "language": "python",
   "name": "python2"
  },
  "language_info": {
   "codemirror_mode": {
    "name": "ipython",
    "version": 2
   },
   "file_extension": ".py",
   "mimetype": "text/x-python",
   "name": "python",
   "nbconvert_exporter": "python",
   "pygments_lexer": "ipython2",
   "version": "2.7.6"
  }
 },
 "nbformat": 4,
 "nbformat_minor": 2
}
