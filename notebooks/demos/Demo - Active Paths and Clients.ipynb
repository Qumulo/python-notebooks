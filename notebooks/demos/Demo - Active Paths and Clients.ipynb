{
 "cells": [
  {
   "cell_type": "code",
   "execution_count": 40,
   "metadata": {},
   "outputs": [],
   "source": [
    "%matplotlib inline\n",
    "\n",
    "import os\n",
    "import StringIO\n",
    "import time\n",
    "import numpy\n",
    "import pandas\n",
    "import seaborn\n",
    "import matplotlib\n",
    "import numpy as np\n",
    "import matplotlib.pyplot as plt\n",
    "from qumulo.rest_client import RestClient"
   ]
  },
  {
   "cell_type": "code",
   "execution_count": 41,
   "metadata": {},
   "outputs": [],
   "source": [
    "rc = RestClient(\"<qumulo-cluster>\", 8000)\n",
    "rc.login(\"<qumulo-user>\", \"<qumulo-password>\");"
   ]
  },
  {
   "cell_type": "code",
   "execution_count": 47,
   "metadata": {},
   "outputs": [
    {
     "name": "stdout",
     "output_type": "stream",
     "text": [
      "Resolve 1344 paths\n",
      "Create the data 'array'\n"
     ]
    }
   ],
   "source": [
    "dir_depth = 1\n",
    "\n",
    "act_types = [u'file-iops-read', u'file-iops-write', \n",
    "             u'file-throughput-read', u'file-throughput-write', \n",
    "             u'metadata-iops-read', u'metadata-iops-write',\n",
    "             u'total-tput', u'total-iops']\n",
    "activity_data = rc.analytics.current_activity_get()\n",
    "\n",
    "ids = {}\n",
    "for e in activity_data['entries']:\n",
    "    ids[e['id']] = 1\n",
    "ids = ids.keys()\n",
    "\n",
    "id_path = {}\n",
    "resolve_ids = []\n",
    "\n",
    "print(\"Resolve %s paths\" % len(ids))\n",
    "while len(ids) > 0:\n",
    "    resolve_ids.append(ids.pop())\n",
    "    if len(resolve_ids) > 200 or len(ids) == 0:\n",
    "        res = rc.fs.resolve_paths(resolve_ids)\n",
    "        for d in res:\n",
    "            id_path[d['id']] = d['path']\n",
    "        resolve_ids = []\n",
    "\n",
    "print(\"Create the data 'array'\")\n",
    "data = {}\n",
    "for e in activity_data['entries']:\n",
    "    if e['id'] in id_path:\n",
    "        path = id_path[e['id']]\n",
    "        path_parts = path.split(\"/\")\n",
    "        if len(path_parts) > 1:\n",
    "            k = '/'.join(path_parts[:(1+dir_depth)]) + ':' + e['ip']\n",
    "            if k not in data:\n",
    "                data[k] = {}\n",
    "                for t in act_types:\n",
    "                    data[k][t] = 0\n",
    "            data[k][e['type']] += e['rate']\n",
    "            if 'throughput' in e['type']:\n",
    "                data[k]['total-tput'] += e['rate']\n",
    "            if 'iops' in e['type']:\n",
    "                data[k]['total-iops'] += e['rate']\n"
   ]
  },
  {
   "cell_type": "code",
   "execution_count": 48,
   "metadata": {},
   "outputs": [],
   "source": [
    "data_arr = []\n",
    "for k, v in data.iteritems():\n",
    "    (path, ip) = k.split(\":\")\n",
    "    data_arr.append([path, ip, v['file-throughput-write'], v['file-iops-write'], v['file-throughput-read'], v['file-iops-read']])\n",
    "df = pandas.DataFrame(data_arr, columns=['path', 'ip', 'write_tput', 'write_iops', 'read_tput', 'read_iops'])\n"
   ]
  },
  {
   "cell_type": "code",
   "execution_count": 55,
   "metadata": {},
   "outputs": [],
   "source": [
    "dfp = pandas.pivot_table(df, index='path', columns='ip', values='read_iops', aggfunc=numpy.sum)"
   ]
  },
  {
   "cell_type": "code",
   "execution_count": 56,
   "metadata": {},
   "outputs": [
    {
     "data": {
      "text/html": [
       "<div>\n",
       "<style scoped>\n",
       "    .dataframe tbody tr th:only-of-type {\n",
       "        vertical-align: middle;\n",
       "    }\n",
       "\n",
       "    .dataframe tbody tr th {\n",
       "        vertical-align: top;\n",
       "    }\n",
       "\n",
       "    .dataframe thead th {\n",
       "        text-align: right;\n",
       "    }\n",
       "</style>\n",
       "<table border=\"1\" class=\"dataframe\">\n",
       "  <thead>\n",
       "    <tr style=\"text-align: right;\">\n",
       "      <th>ip</th>\n",
       "      <th>10.116.201.105</th>\n",
       "      <th>10.120.247.91</th>\n",
       "      <th>10.120.247.92</th>\n",
       "      <th>10.120.247.95</th>\n",
       "      <th>10.20.217.62</th>\n",
       "      <th>127.0.0.1</th>\n",
       "    </tr>\n",
       "    <tr>\n",
       "      <th>path</th>\n",
       "      <th></th>\n",
       "      <th></th>\n",
       "      <th></th>\n",
       "      <th></th>\n",
       "      <th></th>\n",
       "      <th></th>\n",
       "    </tr>\n",
       "  </thead>\n",
       "  <tbody>\n",
       "    <tr>\n",
       "      <th>/</th>\n",
       "      <td>0.0</td>\n",
       "      <td>0.0</td>\n",
       "      <td>0.0</td>\n",
       "      <td>NaN</td>\n",
       "      <td>0.0</td>\n",
       "      <td>0.0</td>\n",
       "    </tr>\n",
       "    <tr>\n",
       "      <th>/file-transfer-app</th>\n",
       "      <td>NaN</td>\n",
       "      <td>0.0</td>\n",
       "      <td>NaN</td>\n",
       "      <td>NaN</td>\n",
       "      <td>NaN</td>\n",
       "      <td>NaN</td>\n",
       "    </tr>\n",
       "    <tr>\n",
       "      <th>/music</th>\n",
       "      <td>NaN</td>\n",
       "      <td>NaN</td>\n",
       "      <td>NaN</td>\n",
       "      <td>NaN</td>\n",
       "      <td>0.0</td>\n",
       "      <td>NaN</td>\n",
       "    </tr>\n",
       "    <tr>\n",
       "      <th>/product-dsr</th>\n",
       "      <td>NaN</td>\n",
       "      <td>0.0</td>\n",
       "      <td>NaN</td>\n",
       "      <td>NaN</td>\n",
       "      <td>NaN</td>\n",
       "      <td>NaN</td>\n",
       "    </tr>\n",
       "    <tr>\n",
       "      <th>/query_db</th>\n",
       "      <td>0.0</td>\n",
       "      <td>NaN</td>\n",
       "      <td>NaN</td>\n",
       "      <td>18.75</td>\n",
       "      <td>NaN</td>\n",
       "      <td>NaN</td>\n",
       "    </tr>\n",
       "    <tr>\n",
       "      <th>/qumulo-historical-data</th>\n",
       "      <td>NaN</td>\n",
       "      <td>NaN</td>\n",
       "      <td>0.0</td>\n",
       "      <td>NaN</td>\n",
       "      <td>NaN</td>\n",
       "      <td>NaN</td>\n",
       "    </tr>\n",
       "    <tr>\n",
       "      <th>/releases_db</th>\n",
       "      <td>NaN</td>\n",
       "      <td>NaN</td>\n",
       "      <td>NaN</td>\n",
       "      <td>NaN</td>\n",
       "      <td>0.0</td>\n",
       "      <td>NaN</td>\n",
       "    </tr>\n",
       "    <tr>\n",
       "      <th>/test</th>\n",
       "      <td>0.0</td>\n",
       "      <td>NaN</td>\n",
       "      <td>NaN</td>\n",
       "      <td>NaN</td>\n",
       "      <td>NaN</td>\n",
       "      <td>NaN</td>\n",
       "    </tr>\n",
       "    <tr>\n",
       "      <th>/tv-shows</th>\n",
       "      <td>0.0</td>\n",
       "      <td>0.0</td>\n",
       "      <td>NaN</td>\n",
       "      <td>NaN</td>\n",
       "      <td>NaN</td>\n",
       "      <td>NaN</td>\n",
       "    </tr>\n",
       "    <tr>\n",
       "      <th>/upgrades</th>\n",
       "      <td>NaN</td>\n",
       "      <td>NaN</td>\n",
       "      <td>NaN</td>\n",
       "      <td>NaN</td>\n",
       "      <td>0.0</td>\n",
       "      <td>NaN</td>\n",
       "    </tr>\n",
       "  </tbody>\n",
       "</table>\n",
       "</div>"
      ],
      "text/plain": [
       "ip                       10.116.201.105  10.120.247.91  10.120.247.92  \\\n",
       "path                                                                    \n",
       "/                                   0.0            0.0            0.0   \n",
       "/file-transfer-app                  NaN            0.0            NaN   \n",
       "/music                              NaN            NaN            NaN   \n",
       "/product-dsr                        NaN            0.0            NaN   \n",
       "/query_db                           0.0            NaN            NaN   \n",
       "/qumulo-historical-data             NaN            NaN            0.0   \n",
       "/releases_db                        NaN            NaN            NaN   \n",
       "/test                               0.0            NaN            NaN   \n",
       "/tv-shows                           0.0            0.0            NaN   \n",
       "/upgrades                           NaN            NaN            NaN   \n",
       "\n",
       "ip                       10.120.247.95  10.20.217.62  127.0.0.1  \n",
       "path                                                             \n",
       "/                                  NaN           0.0        0.0  \n",
       "/file-transfer-app                 NaN           NaN        NaN  \n",
       "/music                             NaN           0.0        NaN  \n",
       "/product-dsr                       NaN           NaN        NaN  \n",
       "/query_db                        18.75           NaN        NaN  \n",
       "/qumulo-historical-data            NaN           NaN        NaN  \n",
       "/releases_db                       NaN           0.0        NaN  \n",
       "/test                              NaN           NaN        NaN  \n",
       "/tv-shows                          NaN           NaN        NaN  \n",
       "/upgrades                          NaN           0.0        NaN  "
      ]
     },
     "execution_count": 56,
     "metadata": {},
     "output_type": "execute_result"
    }
   ],
   "source": [
    "dfp"
   ]
  },
  {
   "cell_type": "code",
   "execution_count": 57,
   "metadata": {},
   "outputs": [
    {
     "data": {
      "text/plain": [
       "<matplotlib.axes._subplots.AxesSubplot at 0x7f2b43fb8d90>"
      ]
     },
     "execution_count": 57,
     "metadata": {},
     "output_type": "execute_result"
    },
    {
     "data": {
      "image/png": "[encoded data removed]",
      "text/plain": [
       "<matplotlib.figure.Figure at 0x7f2b4408d390>"
      ]
     },
     "metadata": {},
     "output_type": "display_data"
    }
   ],
   "source": [
    "f, ax = plt.subplots(figsize=(12, 7))\n",
    "cmap = seaborn.cubehelix_palette(light=1, as_cmap=True)\n",
    "seaborn.heatmap(dfp, cmap=cmap)\n"
   ]
  },
  {
   "cell_type": "code",
   "execution_count": null,
   "metadata": {},
   "outputs": [],
   "source": []
  }
 ],
 "metadata": {
  "kernelspec": {
   "display_name": "Python 2",
   "language": "python",
   "name": "python2"
  },
  "language_info": {
   "codemirror_mode": {
    "name": "ipython",
    "version": 2
   },
   "file_extension": ".py",
   "mimetype": "text/x-python",
   "name": "python",
   "nbconvert_exporter": "python",
   "pygments_lexer": "ipython2",
   "version": "2.7.12"
  }
 },
 "nbformat": 4,
 "nbformat_minor": 2
}
