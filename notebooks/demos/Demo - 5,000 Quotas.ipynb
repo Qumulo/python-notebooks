{
 "cells": [
  {
   "cell_type": "code",
   "execution_count": 1,
   "metadata": {
    "scrolled": false
   },
   "outputs": [],
   "source": [
    "# imports\n",
    "import os\n",
    "import sys\n",
    "import time\n",
    "import traceback\n",
    "import threading\n",
    "\n",
    "from qumulo.rest_client import RestClient"
   ]
  },
  {
   "cell_type": "markdown",
   "metadata": {},
   "source": [
    "### Setup credentials, create the parent directory"
   ]
  },
  {
   "cell_type": "code",
   "execution_count": 2,
   "metadata": {
    "scrolled": true
   },
   "outputs": [
    {
     "name": "stdout",
     "output_type": "stream",
     "text": [
      "Exception: Error 409: fs_entry_exists_error: { ino=190000930 }\n"
     ]
    }
   ],
   "source": [
    "rc = RestClient(\"<qumulo-cluster>\", 8000)\n",
    "rc.login(\"<qumulo-user>\", \"<qumulo-password>\")\n",
    "\n",
    "def create_dir(rc, name, dir_path='/'):\n",
    "    try:\n",
    "        rc.fs.create_directory(name = name, dir_path = dir_path)\n",
    "    except:\n",
    "        exc_type, exc_value, exc_traceback = sys.exc_info()\n",
    "        print(\"Exception: %s\" % exc_value)\n",
    "\n",
    "# Create base user directory, if it doesn't already exist\n",
    "create_dir(rc, name='users', dir_path='/')\n",
    "create_dir(rc, name='dept', dir_path='/users')"
   ]
  },
  {
   "cell_type": "markdown",
   "metadata": {},
   "source": [
    "### Create 5,000 Quotas"
   ]
  },
  {
   "cell_type": "code",
   "execution_count": 3,
   "metadata": {
    "scrolled": true
   },
   "outputs": [
    {
     "name": "stdout",
     "output_type": "stream",
     "text": [
      "0\n",
      "539\n",
      "1140\n",
      "1765\n",
      "2348\n",
      "2980\n",
      "3614\n",
      "4199\n",
      "4823\n",
      "Done!\n"
     ]
    }
   ],
   "source": [
    "threads = []\n",
    "thread_count = 20\n",
    "dir_count = 5000\n",
    "\n",
    "def create_quotas(start_dir, end_dir):\n",
    "    rc = RestClient(\"product\", 8000)\n",
    "    rc.login(\"admin\", \"admin\")\n",
    "    for dir_num in range(start_dir, end_dir):\n",
    "        dir_name = 'u-' + str(dir_num)\n",
    "        try:\n",
    "            dir_res = rc.fs.get_attr(path='/users/dept/' + dir_name)\n",
    "        except:\n",
    "            dir_res = rc.fs.create_directory(name=dir_name, dir_path='/users/dept')\n",
    "        dir_id = dir_res['file_number']\n",
    "        quota_res = rc.quota.create_quota(id_ = dir_id, limit_in_bytes = 1000000000)\n",
    "\n",
    "        \n",
    "for proc_num in range(0, thread_count):\n",
    "    start_dir = proc_num*dir_count / thread_count\n",
    "    end_dir = (proc_num+1)*dir_count / thread_count\n",
    "    t = threading.Thread(target=create_quotas, args=(start_dir, end_dir))\n",
    "    threads.append(t)\n",
    "    t.start()\n",
    "\n",
    "# Check aggregates to see when all directories and quotas exist\n",
    "while int(rc.fs.read_dir_aggregates(path='/users/dept/')['total_directories']) < 5000:\n",
    "    print(int(rc.fs.read_dir_aggregates(path='/users/dept/')['total_directories']))\n",
    "    time.sleep(2.5)\n",
    "\n",
    "print(\"Done!\")"
   ]
  },
  {
   "cell_type": "markdown",
   "metadata": {},
   "source": [
    "### Enumerate all quotas and show a specific one"
   ]
  },
  {
   "cell_type": "code",
   "execution_count": 4,
   "metadata": {
    "scrolled": true
   },
   "outputs": [
    {
     "name": "stdout",
     "output_type": "stream",
     "text": [
      "{u'path': u'/users/dept/u-238/', u'capacity_usage': u'4096', u'limit': u'1000000000', u'id': u'3078036753'}\n"
     ]
    }
   ],
   "source": [
    "new_q = None\n",
    "for d in rc.quota.get_all_quotas_with_status():\n",
    "    for q in d['quotas']:\n",
    "        if q['path'] == '/users/dept/u-238/':\n",
    "            print q\n",
    "            new_q = q"
   ]
  },
  {
   "cell_type": "code",
   "execution_count": 5,
   "metadata": {
    "scrolled": true
   },
   "outputs": [
    {
     "data": {
      "text/plain": [
       "{u'capacity_usage': u'4096',\n",
       " u'id': u'3078036753',\n",
       " u'limit': u'1000000000',\n",
       " u'path': u'/users/dept/u-238/'}"
      ]
     },
     "execution_count": 5,
     "metadata": {},
     "output_type": "execute_result"
    }
   ],
   "source": [
    "rc.quota.get_quota_with_status(new_q['id'])"
   ]
  },
  {
   "cell_type": "markdown",
   "metadata": {},
   "source": [
    "### Create and write a 1 GB file"
   ]
  },
  {
   "cell_type": "code",
   "execution_count": 6,
   "metadata": {
    "scrolled": true
   },
   "outputs": [],
   "source": [
    "new_file = rc.fs.create_file(name=\"1GB.txt\", dir_path=\"/users/dept/u-238\")"
   ]
  },
  {
   "cell_type": "code",
   "execution_count": 7,
   "metadata": {
    "scrolled": true
   },
   "outputs": [],
   "source": [
    "import StringIO\n",
    "f = StringIO.StringIO()\n",
    "f.write('0'*1000000000)\n",
    "written_file = rc.fs.write_file(data_file = f, path=new_file['path'])"
   ]
  },
  {
   "cell_type": "markdown",
   "metadata": {},
   "source": [
    "### Can we still write to this directory?"
   ]
  },
  {
   "cell_type": "code",
   "execution_count": 8,
   "metadata": {
    "scrolled": true
   },
   "outputs": [
    {
     "ename": "RequestError",
     "evalue": "Error 500: fs_no_space_error: Quota for { ino=3078036753 } over limit",
     "output_type": "error",
     "traceback": [
      "\u001b[0;31m---------------------------------------------------------------------------\u001b[0m",
      "\u001b[0;31mRequestError\u001b[0m                              Traceback (most recent call last)",
      "\u001b[0;32m<ipython-input-8-fd5a009f3e49>\u001b[0m in \u001b[0;36m<module>\u001b[0;34m()\u001b[0m\n\u001b[0;32m----> 1\u001b[0;31m \u001b[0mnew_file\u001b[0m \u001b[0;34m=\u001b[0m \u001b[0mrc\u001b[0m\u001b[0;34m.\u001b[0m\u001b[0mfs\u001b[0m\u001b[0;34m.\u001b[0m\u001b[0mcreate_file\u001b[0m\u001b[0;34m(\u001b[0m\u001b[0mname\u001b[0m\u001b[0;34m=\u001b[0m\u001b[0;34m\"just-one-more-please.txt\"\u001b[0m\u001b[0;34m,\u001b[0m \u001b[0mdir_path\u001b[0m\u001b[0;34m=\u001b[0m\u001b[0;34m\"/users/dept/u-238\"\u001b[0m\u001b[0;34m)\u001b[0m\u001b[0;34m\u001b[0m\u001b[0m\n\u001b[0m",
      "\u001b[0;32m/Users/tommy/python-environments/data-analysis/lib/python2.7/site-packages/qumulo/rest_client.pyc\u001b[0m in \u001b[0;36mwrapper\u001b[0;34m(self, *args, **kwargs)\u001b[0m\n\u001b[1;32m     95\u001b[0m                 **kwargs)\n\u001b[1;32m     96\u001b[0m         \u001b[0;32mexcept\u001b[0m \u001b[0mrequest\u001b[0m\u001b[0;34m.\u001b[0m\u001b[0mRequestError\u001b[0m \u001b[0;32mas\u001b[0m \u001b[0me\u001b[0m\u001b[0;34m:\u001b[0m\u001b[0;34m\u001b[0m\u001b[0m\n\u001b[0;32m---> 97\u001b[0;31m             \u001b[0mself\u001b[0m\u001b[0;34m.\u001b[0m\u001b[0mclient\u001b[0m\u001b[0;34m.\u001b[0m\u001b[0mhandle_request_error\u001b[0m\u001b[0;34m(\u001b[0m\u001b[0me\u001b[0m\u001b[0;34m)\u001b[0m\u001b[0;34m\u001b[0m\u001b[0m\n\u001b[0m\u001b[1;32m     98\u001b[0m             response = request_method(\n\u001b[1;32m     99\u001b[0m                 \u001b[0mself\u001b[0m\u001b[0;34m.\u001b[0m\u001b[0mclient\u001b[0m\u001b[0;34m.\u001b[0m\u001b[0mconninfo\u001b[0m\u001b[0;34m,\u001b[0m\u001b[0;34m\u001b[0m\u001b[0m\n",
      "\u001b[0;32m/Users/tommy/python-environments/data-analysis/lib/python2.7/site-packages/qumulo/rest_client.pyc\u001b[0m in \u001b[0;36mwrapper\u001b[0;34m(self, *args, **kwargs)\u001b[0m\n\u001b[1;32m     93\u001b[0m                 \u001b[0mself\u001b[0m\u001b[0;34m.\u001b[0m\u001b[0mclient\u001b[0m\u001b[0;34m.\u001b[0m\u001b[0mcredentials\u001b[0m\u001b[0;34m,\u001b[0m\u001b[0;34m\u001b[0m\u001b[0m\n\u001b[1;32m     94\u001b[0m                 \u001b[0;34m*\u001b[0m\u001b[0margs\u001b[0m\u001b[0;34m,\u001b[0m\u001b[0;34m\u001b[0m\u001b[0m\n\u001b[0;32m---> 95\u001b[0;31m                 **kwargs)\n\u001b[0m\u001b[1;32m     96\u001b[0m         \u001b[0;32mexcept\u001b[0m \u001b[0mrequest\u001b[0m\u001b[0;34m.\u001b[0m\u001b[0mRequestError\u001b[0m \u001b[0;32mas\u001b[0m \u001b[0me\u001b[0m\u001b[0;34m:\u001b[0m\u001b[0;34m\u001b[0m\u001b[0m\n\u001b[1;32m     97\u001b[0m             \u001b[0mself\u001b[0m\u001b[0;34m.\u001b[0m\u001b[0mclient\u001b[0m\u001b[0;34m.\u001b[0m\u001b[0mhandle_request_error\u001b[0m\u001b[0;34m(\u001b[0m\u001b[0me\u001b[0m\u001b[0;34m)\u001b[0m\u001b[0;34m\u001b[0m\u001b[0m\n",
      "\u001b[0;32m/Users/tommy/python-environments/data-analysis/lib/python2.7/site-packages/qumulo/rest/fs.pyc\u001b[0m in \u001b[0;36mcreate_file\u001b[0;34m(conninfo, credentials, name, dir_path, dir_id)\u001b[0m\n\u001b[1;32m    274\u001b[0m     \u001b[0mmethod\u001b[0m \u001b[0;34m=\u001b[0m \u001b[0;34m\"POST\"\u001b[0m\u001b[0;34m\u001b[0m\u001b[0m\n\u001b[1;32m    275\u001b[0m     return request.rest_request(conninfo, credentials, method, unicode(uri),\n\u001b[0;32m--> 276\u001b[0;31m         body=config)\n\u001b[0m\u001b[1;32m    277\u001b[0m \u001b[0;34m\u001b[0m\u001b[0m\n\u001b[1;32m    278\u001b[0m \u001b[0;32mdef\u001b[0m \u001b[0mvalidate_major_minor_numbers\u001b[0m\u001b[0;34m(\u001b[0m\u001b[0mfile_type\u001b[0m\u001b[0;34m,\u001b[0m \u001b[0mmajor_minor_numbers\u001b[0m\u001b[0;34m)\u001b[0m\u001b[0;34m:\u001b[0m\u001b[0;34m\u001b[0m\u001b[0m\n",
      "\u001b[0;32m/Users/tommy/python-environments/data-analysis/lib/python2.7/site-packages/qumulo/lib/request.pyc\u001b[0m in \u001b[0;36mrest_request\u001b[0;34m(conninfo, credentials, method, uri, *args, **kwargs)\u001b[0m\n\u001b[1;32m    503\u001b[0m     \u001b[0mrest\u001b[0m \u001b[0;34m=\u001b[0m \u001b[0mAPIRequest\u001b[0m\u001b[0;34m(\u001b[0m\u001b[0mconninfo\u001b[0m\u001b[0;34m,\u001b[0m \u001b[0mcredentials\u001b[0m\u001b[0;34m,\u001b[0m \u001b[0mmethod\u001b[0m\u001b[0;34m,\u001b[0m \u001b[0muri\u001b[0m\u001b[0;34m,\u001b[0m \u001b[0;34m*\u001b[0m\u001b[0margs\u001b[0m\u001b[0;34m,\u001b[0m \u001b[0;34m**\u001b[0m\u001b[0mkwargs\u001b[0m\u001b[0;34m)\u001b[0m\u001b[0;34m\u001b[0m\u001b[0m\n\u001b[1;32m    504\u001b[0m     \u001b[0mrest\u001b[0m\u001b[0;34m.\u001b[0m\u001b[0msend_request\u001b[0m\u001b[0;34m(\u001b[0m\u001b[0;34m)\u001b[0m\u001b[0;34m\u001b[0m\u001b[0m\n\u001b[0;32m--> 505\u001b[0;31m     \u001b[0mrest\u001b[0m\u001b[0;34m.\u001b[0m\u001b[0mget_response\u001b[0m\u001b[0;34m(\u001b[0m\u001b[0;34m)\u001b[0m\u001b[0;34m\u001b[0m\u001b[0m\n\u001b[0m\u001b[1;32m    506\u001b[0m     \u001b[0;32mreturn\u001b[0m \u001b[0mRestResponse\u001b[0m\u001b[0;34m(\u001b[0m\u001b[0mrest\u001b[0m\u001b[0;34m.\u001b[0m\u001b[0mresponse_obj\u001b[0m\u001b[0;34m,\u001b[0m \u001b[0mrest\u001b[0m\u001b[0;34m.\u001b[0m\u001b[0mresponse_etag\u001b[0m\u001b[0;34m)\u001b[0m\u001b[0;34m\u001b[0m\u001b[0m\n\u001b[1;32m    507\u001b[0m \u001b[0;34m\u001b[0m\u001b[0m\n",
      "\u001b[0;32m/Users/tommy/python-environments/data-analysis/lib/python2.7/site-packages/qumulo/lib/request.pyc\u001b[0m in \u001b[0;36mget_response\u001b[0;34m(self)\u001b[0m\n\u001b[1;32m    463\u001b[0m         \u001b[0;32mif\u001b[0m \u001b[0;32mnot\u001b[0m \u001b[0mself\u001b[0m\u001b[0;34m.\u001b[0m\u001b[0m_success\u001b[0m\u001b[0;34m(\u001b[0m\u001b[0;34m)\u001b[0m\u001b[0;34m:\u001b[0m\u001b[0;34m\u001b[0m\u001b[0m\n\u001b[1;32m    464\u001b[0m             raise RequestError(self._status(), self._reason(),\n\u001b[0;32m--> 465\u001b[0;31m                 self.response_obj)\n\u001b[0m\u001b[1;32m    466\u001b[0m \u001b[0;34m\u001b[0m\u001b[0m\n\u001b[1;32m    467\u001b[0m     \u001b[0;32mdef\u001b[0m \u001b[0m_body_text\u001b[0m\u001b[0;34m(\u001b[0m\u001b[0mself\u001b[0m\u001b[0;34m,\u001b[0m \u001b[0mencoded\u001b[0m\u001b[0;34m=\u001b[0m\u001b[0mTrue\u001b[0m\u001b[0;34m)\u001b[0m\u001b[0;34m:\u001b[0m\u001b[0;34m\u001b[0m\u001b[0m\n",
      "\u001b[0;31mRequestError\u001b[0m: Error 500: fs_no_space_error: Quota for { ino=3078036753 } over limit"
     ]
    }
   ],
   "source": [
    "new_file = rc.fs.create_file(name=\"just-one-more-please.txt\", dir_path=\"/users/dept/u-238\")"
   ]
  },
  {
   "cell_type": "markdown",
   "metadata": {},
   "source": [
    "### Delete all quotas"
   ]
  },
  {
   "cell_type": "code",
   "execution_count": 9,
   "metadata": {
    "scrolled": true
   },
   "outputs": [],
   "source": [
    "d = rc.quota.get_all_quotas_with_status()\n",
    "for q in d:\n",
    "    for quota in q['quotas']:\n",
    "        # but only delete them if they are in /users/dept\n",
    "        if '/users/dept' in quota['path']:\n",
    "            rc.quota.delete_quota(id_ = quota['id'])"
   ]
  },
  {
   "cell_type": "markdown",
   "metadata": {},
   "source": [
    "### Tree delete all of the user directories and check if it's gone"
   ]
  },
  {
   "cell_type": "code",
   "execution_count": 10,
   "metadata": {
    "scrolled": true
   },
   "outputs": [
    {
     "data": {
      "text/plain": [
       "{u'monitor_uri': u'/v1/files/3192036729/delete-tree/status'}"
      ]
     },
     "execution_count": 10,
     "metadata": {},
     "output_type": "execute_result"
    }
   ],
   "source": [
    "rc.fs.delete_tree(path='/users/dept/')"
   ]
  },
  {
   "cell_type": "code",
   "execution_count": null,
   "metadata": {
    "scrolled": true
   },
   "outputs": [],
   "source": [
    "rc.fs.read_directory(path='/users/')"
   ]
  },
  {
   "cell_type": "code",
   "execution_count": null,
   "metadata": {
    "collapsed": true
   },
   "outputs": [],
   "source": []
  }
 ],
 "metadata": {
  "kernelspec": {
   "display_name": "Python 2",
   "language": "python",
   "name": "python2"
  },
  "language_info": {
   "codemirror_mode": {
    "name": "ipython",
    "version": 2
   },
   "file_extension": ".py",
   "mimetype": "text/x-python",
   "name": "python",
   "nbconvert_exporter": "python",
   "pygments_lexer": "ipython2",
   "version": "2.7.12"
  }
 },
 "nbformat": 4,
 "nbformat_minor": 2
}
