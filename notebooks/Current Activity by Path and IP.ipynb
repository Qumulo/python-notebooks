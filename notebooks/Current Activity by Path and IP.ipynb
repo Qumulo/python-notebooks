{
 "cells": [
  {
   "cell_type": "markdown",
   "metadata": {},
   "source": [
    "# Qumulo API Activity Data exmaples"
   ]
  },
  {
   "cell_type": "code",
   "execution_count": 1,
   "metadata": {
    "collapsed": true
   },
   "outputs": [],
   "source": [
    "from qumulo.rest_client import RestClient"
   ]
  },
  {
   "cell_type": "code",
   "execution_count": 3,
   "metadata": {
    "collapsed": true
   },
   "outputs": [],
   "source": [
    "# change these to your Qumulo API cluster and credentials\n",
    "rc = RestClient('<qumulo-cluster>', 8000)\n",
    "rc.login('<login>', '<password>');"
   ]
  },
  {
   "cell_type": "markdown",
   "metadata": {},
   "source": [
    "### make the current activity api call that we'll be using below"
   ]
  },
  {
   "cell_type": "code",
   "execution_count": null,
   "metadata": {
    "collapsed": true
   },
   "outputs": [],
   "source": [
    "activity_data = rc.analytics.current_activity_get()"
   ]
  },
  {
   "cell_type": "markdown",
   "metadata": {},
   "source": [
    "### Show all of types of activity data"
   ]
  },
  {
   "cell_type": "code",
   "execution_count": 21,
   "metadata": {
    "scrolled": true
   },
   "outputs": [
    {
     "data": {
      "text/plain": [
       "[u'file-iops-write',\n",
       " u'file-throughput-read',\n",
       " u'file-iops-read',\n",
       " u'metadata-iops-read',\n",
       " u'metadata-iops-write',\n",
       " u'file-throughput-write']"
      ]
     },
     "execution_count": 21,
     "metadata": {},
     "output_type": "execute_result"
    }
   ],
   "source": [
    "list(set([d['type'] for d in activity_data['entries']]))"
   ]
  },
  {
   "cell_type": "markdown",
   "metadata": {},
   "source": [
    "### Sum up the rates by activity type"
   ]
  },
  {
   "cell_type": "code",
   "execution_count": 38,
   "metadata": {
    "scrolled": true
   },
   "outputs": [
    {
     "name": "stdout",
     "output_type": "stream",
     "text": [
      "       file-iops-write - 211.3\n",
      "  file-throughput-read - 240571.7\n",
      "        file-iops-read - 5.0\n",
      "    metadata-iops-read - 13.8\n",
      "   metadata-iops-write - 1.8\n",
      " file-throughput-write - 2206720.0\n"
     ]
    }
   ],
   "source": [
    "types_data = {}\n",
    "for d in activity_data['entries']:\n",
    "    if d['type'] not in types_data:\n",
    "        types_data[d['type']] = 0\n",
    "    types_data[d['type']] += d['rate']\n",
    "for t, val in types_data.iteritems():\n",
    "    print(\"%22s - %.1f\" % (t, val))"
   ]
  },
  {
   "cell_type": "markdown",
   "metadata": {},
   "source": [
    "### Report clients by throughput from highest to lowest"
   ]
  },
  {
   "cell_type": "code",
   "execution_count": 50,
   "metadata": {},
   "outputs": [
    {
     "name": "stdout",
     "output_type": "stream",
     "text": [
      "         10.120.247.92 - 1172616.5\n",
      "         10.120.247.95 - 746564.3\n",
      "         10.120.247.91 - 528110.9\n"
     ]
    }
   ],
   "source": [
    "ip_data = {}\n",
    "for d in activity_data['entries']:\n",
    "    if 'throughput' in d['type']:\n",
    "        if d['ip'] not in ip_data:\n",
    "            ip_data[d['ip']] = 0\n",
    "        ip_data[d['ip']] += d['rate']\n",
    "for ip, val in sorted(ip_data.items(), key=lambda x: x[1], reverse=True):\n",
    "    print(\"%22s - %.1f\" % (ip, val))"
   ]
  },
  {
   "cell_type": "markdown",
   "metadata": {},
   "source": [
    "### Resolve ids to paths"
   ]
  },
  {
   "cell_type": "code",
   "execution_count": 37,
   "metadata": {},
   "outputs": [
    {
     "name": "stdout",
     "output_type": "stream",
     "text": [
      "Resolved 442 ids to paths.\n"
     ]
    }
   ],
   "source": [
    "batch_size = 1000\n",
    "ids_to_paths = {}\n",
    "\n",
    "ids = list(set([d['id'] for d in activity_data['entries']]))\n",
    "\n",
    "for offset in range(0, len(ids), batch_size):\n",
    "    resolve_data = rc.fs.resolve_paths(ids[offset:offset+batch_size])\n",
    "    for id_path in resolve_data:\n",
    "        ids_to_paths[id_path['id']] = id_path['path']\n",
    "\n",
    "print(\"Resolved %s ids to paths.\" % len(ids_to_paths))"
   ]
  },
  {
   "cell_type": "markdown",
   "metadata": {},
   "source": [
    "### Summarize the most active directories by IOPS"
   ]
  },
  {
   "cell_type": "code",
   "execution_count": 62,
   "metadata": {},
   "outputs": [
    {
     "name": "stdout",
     "output_type": "stream",
     "text": [
      "         /qumulo-historical-data - 866304.0\n",
      "                       /query_db - 553164.8\n",
      "                       /tv-shows - 528110.9\n",
      "                               / - 499712.0\n"
     ]
    }
   ],
   "source": [
    "directory_levels = 1\n",
    "path_data = {}\n",
    "\n",
    "for d in activity_data['entries']:\n",
    "    path = ids_to_paths[d['id']]\n",
    "    if path == '':\n",
    "        path = '/'\n",
    "    path = '/'.join(path.split('/')[0:directory_levels+1])\n",
    "    if 'throughput' in d['type']:\n",
    "        if path not in path_data:\n",
    "            path_data[path] = 0\n",
    "        path_data[path] += d['rate']\n",
    "\n",
    "for path, val in sorted(path_data.items(), key=lambda x: x[1], reverse=True):\n",
    "    print(\"%32s - %.1f\" % (path, val))"
   ]
  },
  {
   "cell_type": "code",
   "execution_count": null,
   "metadata": {
    "collapsed": true
   },
   "outputs": [],
   "source": []
  }
 ],
 "metadata": {
  "kernelspec": {
   "display_name": "Python 2",
   "language": "python",
   "name": "python2"
  },
  "language_info": {
   "codemirror_mode": {
    "name": "ipython",
    "version": 2
   },
   "file_extension": ".py",
   "mimetype": "text/x-python",
   "name": "python",
   "nbconvert_exporter": "python",
   "pygments_lexer": "ipython2",
   "version": "2.7.12"
  }
 },
 "nbformat": 4,
 "nbformat_minor": 2
}
