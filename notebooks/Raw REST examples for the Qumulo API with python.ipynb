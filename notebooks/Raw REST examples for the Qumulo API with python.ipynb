{
 "cells": [
  {
   "cell_type": "markdown",
   "metadata": {
    "deletable": true,
    "editable": true
   },
   "source": [
    "# Raw python requests for the Qumulo API via REST\n",
    "\n",
    "This Python example is intended to illustrate how raw RESTful requests might work against the Qumulo API. These patterns could be used if you wish to create other language bindings against Qumulo. While they are one method of using python to interact with Qumulo, we recommend using Qumulo's python bindings installed via <code>**pip install qumulo_api**</code>"
   ]
  },
  {
   "cell_type": "code",
   "execution_count": 1,
   "metadata": {
    "collapsed": false,
    "deletable": true,
    "editable": true
   },
   "outputs": [],
   "source": [
    "import os\n",
    "import requests\n",
    "import json\n",
    "import pprint\n",
    "# python + ssl on MacOSX is rather noisy against dev clusters\n",
    "requests.packages.urllib3.disable_warnings()"
   ]
  },
  {
   "cell_type": "code",
   "execution_count": 2,
   "metadata": {
    "collapsed": false,
    "deletable": true,
    "editable": true
   },
   "outputs": [],
   "source": [
    "# set your environment variables or fill in the variables below\n",
    "API_HOSTNAME = os.environ['API_HOSTNAME'] or '{your-cluster-hostname}'\n",
    "API_USER = os.environ['API_USER'] or '{api-cluster-user}'\n",
    "API_PASSWORD = os.environ['API_PASSWORD'] or '{api-cluster-password}'"
   ]
  },
  {
   "cell_type": "code",
   "execution_count": 3,
   "metadata": {
    "collapsed": true,
    "deletable": true,
    "editable": true
   },
   "outputs": [],
   "source": [
    "# Setting up URLs and default header parameters\n",
    "root_url = 'https://' + API_HOSTNAME + ':8000'\n",
    "\n",
    "who_am_i_url   = root_url + '/v1/session/who-am-i'\n",
    "login_url      = root_url + '/v1/session/login'\n",
    "\n",
    "default_header = {'content-type': 'application/json'}"
   ]
  },
  {
   "cell_type": "markdown",
   "metadata": {
    "deletable": true,
    "editable": true
   },
   "source": [
    "### Login to the Qumulo cluster via a \"POST\" to the login_url"
   ]
  },
  {
   "cell_type": "code",
   "execution_count": 4,
   "metadata": {
    "collapsed": false,
    "deletable": true,
    "editable": true
   },
   "outputs": [
    {
     "name": "stdout",
     "output_type": "stream",
     "text": [
      "{u'algorithm': u'hmac-sha-256',\n",
      " u'bearer_token': u'1:AUQAAABlSnlyZkhrcmdnRUlKTXR1ZzJrRElQN0N5QUFHakV3UW1obUpEZVBEMUxBRE1Sc1F4eVNtNUdibStRRlpBTVZjQ1QwPSAAAAA/LxgDRrzlezJ/f4wjsWThfQ297qKS4AgaG9E1pz/HmA==',\n",
      " u'key': u'Py8YA0a85Xsyf3+MI7Fk4X0Nve6ikuAIGhvRNac/x5g=',\n",
      " u'key_id': u'eJyrfHkrggEIJMtug2kDIP7CyAAGjEwQmhmJDePD1LADMRsQxySm5Gbm+QFZAMVcCT0='}\n"
     ]
    }
   ],
   "source": [
    "post_data = {'username': API_USER, 'password': API_PASSWORD}\n",
    "\n",
    "resp = requests.post(login_url, \n",
    "                  data=json.dumps(post_data), \n",
    "                  headers=default_header, \n",
    "                  verify=False)\n",
    "\n",
    "resp_data = json.loads(resp.text)\n",
    "\n",
    "# print the response for the login attempt\n",
    "pprint.pprint(resp_data)"
   ]
  },
  {
   "cell_type": "markdown",
   "metadata": {
    "deletable": true,
    "editable": true
   },
   "source": [
    "### Set up the Authorization bearer token header"
   ]
  },
  {
   "cell_type": "code",
   "execution_count": 5,
   "metadata": {
    "collapsed": false,
    "deletable": true,
    "editable": true
   },
   "outputs": [
    {
     "name": "stdout",
     "output_type": "stream",
     "text": [
      "{'Authorization': u'Bearer 1:AUQAAABlSnlyZkhrcmdnRUlKTXR1ZzJrRElQN0N5QUFHakV3UW1obUpEZVBEMUxBRE1Sc1F4eVNtNUdibStRRlpBTVZjQ1QwPSAAAAA/LxgDRrzlezJ/f4wjsWThfQ297qKS4AgaG9E1pz/HmA==',\n",
      " 'content-type': 'application/json'}\n"
     ]
    }
   ],
   "source": [
    "default_header['Authorization'] = 'Bearer ' + resp_data['bearer_token']\n",
    "\n",
    "# let's take a look at our default requests header now\n",
    "pprint.pprint(default_header)"
   ]
  },
  {
   "cell_type": "markdown",
   "metadata": {
    "deletable": true,
    "editable": true
   },
   "source": [
    "### Run who am I via a raw \"GET\" request"
   ]
  },
  {
   "cell_type": "code",
   "execution_count": 6,
   "metadata": {
    "collapsed": false,
    "deletable": true,
    "editable": true
   },
   "outputs": [
    {
     "name": "stdout",
     "output_type": "stream",
     "text": [
      "{u'id': u'500',\n",
      " u'name': u'admin',\n",
      " u'primary_group': u'513',\n",
      " u'sid': u'S-1-5-21-2200309403-3182498638-1868133574-500',\n",
      " u'uid': u'0'}\n"
     ]
    }
   ],
   "source": [
    "resp = requests.get(who_am_i_url, \n",
    "                  headers=default_header, \n",
    "                  verify=False)\n",
    "\n",
    "# print the response. Will include the id, sid, and uid\n",
    "pprint.pprint(json.loads(resp.text))"
   ]
  },
  {
   "cell_type": "code",
   "execution_count": null,
   "metadata": {
    "collapsed": true,
    "deletable": true,
    "editable": true
   },
   "outputs": [],
   "source": []
  }
 ],
 "metadata": {
  "kernelspec": {
   "display_name": "Python 2",
   "language": "python",
   "name": "python2"
  },
  "language_info": {
   "codemirror_mode": {
    "name": "ipython",
    "version": 2
   },
   "file_extension": ".py",
   "mimetype": "text/x-python",
   "name": "python",
   "nbconvert_exporter": "python",
   "pygments_lexer": "ipython2",
   "version": "2.7.13"
  }
 },
 "nbformat": 4,
 "nbformat_minor": 2
}
