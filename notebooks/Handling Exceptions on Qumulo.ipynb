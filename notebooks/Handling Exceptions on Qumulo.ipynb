{
 "cells": [
  {
   "cell_type": "markdown",
   "metadata": {},
   "source": [
    "# Handling Exceptions on Qumulo"
   ]
  },
  {
   "cell_type": "code",
   "execution_count": 9,
   "metadata": {},
   "outputs": [],
   "source": [
    "import os\n",
    "import sys\n",
    "from qumulo.rest_client import RestClient\n",
    "from qumulo.lib.request import RequestError"
   ]
  },
  {
   "cell_type": "code",
   "execution_count": 5,
   "metadata": {},
   "outputs": [
    {
     "data": {
      "text/plain": [
       "<qumulo.lib.auth.Credentials at 0x7ff4a07fc590>"
      ]
     },
     "execution_count": 5,
     "metadata": {},
     "output_type": "execute_result"
    }
   ],
   "source": [
    "rc = RestClient('product.eng.qumulo.com', 8000)\n",
    "rc.login(os.environ['QUSER'], os.environ['QUSER'])"
   ]
  },
  {
   "cell_type": "code",
   "execution_count": 21,
   "metadata": {},
   "outputs": [
    {
     "name": "stdout",
     "output_type": "stream",
     "text": [
      "Tried to create directory, but directory already exists { ino=14364043748 }\n"
     ]
    }
   ],
   "source": [
    "try:\n",
    "    dir_meta = rc.fs.create_directory(dir_path='/test', name='dir1')\n",
    "except RequestError as e:\n",
    "    if str(e.error_class) == 'fs_entry_exists_error':\n",
    "        print(\"Tried to create directory, but directory already exists %s\" % e.description)\n"
   ]
  },
  {
   "cell_type": "markdown",
   "metadata": {},
   "source": [
    "### RequestError attributes\n",
    "\n",
    "* **status_code** - HTTP status code\n",
    "* **error_class** - A short name describing the error. See more below.\n",
    "* **status_message** - A short message about the error\n",
    "* **description** - A short description that may include details about the error\n",
    "\n",
    "\n",
    "### Common error class values include:\n",
    "\n",
    "* **fs_no_such_path_error** - The dirname portion of the path contains a name that doesn't exist \n",
    "* **fs_no_such_inode_error** - The file system object does not exist\n",
    "* **fs_no_such_entry_error** - The name doesn't exist in the file system\n",
    "* **fs_entry_exists_error** - A file system object by the given name already exists\n",
    "* **fs_access_denied_error** - The user does not have access to perform the operation\n",
    "* **fs_file_not_covered_by_snapshot_error** - The file isn't covered by a particular snapshot"
   ]
  },
  {
   "cell_type": "code",
   "execution_count": null,
   "metadata": {},
   "outputs": [],
   "source": []
  }
 ],
 "metadata": {
  "kernelspec": {
   "display_name": "Python 3",
   "language": "python",
   "name": "python3"
  },
  "language_info": {
   "codemirror_mode": {
    "name": "ipython",
    "version": 3
   },
   "file_extension": ".py",
   "mimetype": "text/x-python",
   "name": "python",
   "nbconvert_exporter": "python",
   "pygments_lexer": "ipython3",
   "version": "3.7.7"
  }
 },
 "nbformat": 4,
 "nbformat_minor": 4
}
