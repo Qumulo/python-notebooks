{
 "cells": [
  {
   "cell_type": "markdown",
   "metadata": {},
   "source": [
    "# Snapshot Policy + Snapshot Diff Tool\n",
    "This tool will create an every minute snapshot policy. This will allow keeping track of every file create and/or modify. Use cases that this tool could help support include:\n",
    "* Watching for file changes to kick off a virus scan\n",
    "* Watching for the unexpected creation of files\n",
    "* Supporting a full index of the file system for search, find, etc"
   ]
  },
  {
   "cell_type": "code",
   "execution_count": 1,
   "metadata": {},
   "outputs": [],
   "source": [
    "import re\n",
    "import time\n",
    "import pprint\n",
    "from qumulo.rest_client import RestClient\n",
    "\n",
    "rc = RestClient(\"qumulo.test\", 8000)\n",
    "rc.login(\"admin\", \"*********\");"
   ]
  },
  {
   "cell_type": "markdown",
   "metadata": {},
   "source": [
    "## Create Snapshot Policy - Every Minute at Root\n",
    "Saves 10 minutes of snapshots as a small buffer."
   ]
  },
  {
   "cell_type": "code",
   "execution_count": 16,
   "metadata": {},
   "outputs": [],
   "source": [
    "def create_policy_for_diff(rc, policy_name=\"EveryMinuteForDiffs\", path='/', minutes=10):\n",
    "    try:\n",
    "        dets = rc.fs.get_file_attr(path=path)\n",
    "    except:\n",
    "        print(\"!!! Unable to find directory: %s\" % path)\n",
    "        return\n",
    "    policy = rc.snapshot.create_policy(\n",
    "        name = policy_name,\n",
    "        directory_id = dets['id'],\n",
    "        schedule_info = {\"creation_schedule\":{\n",
    "                        \"frequency\":\"SCHEDULE_HOURLY_OR_LESS\",\n",
    "                        \"fire_every\":1,\n",
    "                        \"fire_every_interval\":\"FIRE_IN_MINUTES\",\n",
    "                        \"window_start_hour\":0,\n",
    "                        \"window_start_minute\":0,\n",
    "                        \"window_end_hour\":23,\n",
    "                        \"window_end_minute\":59,\n",
    "                        \"on_days\":[\"MON\",\"TUE\",\"WED\",\"THU\",\"FRI\",\"SAT\",\"SUN\"],\n",
    "                        \"timezone\":\"America/Los_Angeles\"\n",
    "                        },\n",
    "                       \"expiration_time_to_live\":\"%sminutes\" % minutes\n",
    "                      }\n",
    "    )\n",
    "    print(\"Created policy on directory '%s': %s expires after %s\" % (\n",
    "                        path,\n",
    "                        policy['name'], \n",
    "                        policy['schedules'][0]['expiration_time_to_live']))"
   ]
  },
  {
   "cell_type": "markdown",
   "metadata": {},
   "source": [
    "## Diff all snapshots in the every minute policy"
   ]
  },
  {
   "cell_type": "code",
   "execution_count": 17,
   "metadata": {},
   "outputs": [],
   "source": [
    "def diff_snaps(rc, policy_name):\n",
    "    snap_count = 2 # set up for the 1st loop\n",
    "    paths = []\n",
    "    while snap_count >= 2:\n",
    "        all_snaps = rc.snapshot.list_snapshot_statuses()['entries']\n",
    "        short_list = filter(lambda s: s['name'] == policy_name, all_snaps)\n",
    "        snaps = sorted(short_list, key=lambda s: s['id'])\n",
    "        if len(snaps) < 2:\n",
    "            break\n",
    "        print(\"Diff times: %s -> %s\" % (snaps[0]['timestamp'][0:19], \n",
    "                                        snaps[1]['timestamp'][0:19]))\n",
    "        diff = rc.snapshot.get_all_snapshot_tree_diff(snaps[1]['id'], \n",
    "                                                      snaps[0]['id'])\n",
    "        for d in diff:\n",
    "            for e in d['entries']:\n",
    "                if e['path'][-1] == \"/\":\n",
    "                    continue # it's a directory\n",
    "                sz = None\n",
    "                owner = None\n",
    "                try:\n",
    "                    dets = rc.fs.get_file_attr(e['path'])\n",
    "                    sz = dets['size']\n",
    "                    owner = dets['owner_details']['id_value']\n",
    "                except:\n",
    "                    pass\n",
    "                if e['op'] == 'DELETE' and sz is not None:\n",
    "                    continue # don't add deletes for existing files\n",
    "                paths.append({'op': e['op'],\n",
    "                              'path': e['path'], \n",
    "                              'size': sz, \n",
    "                              'owner': owner,\n",
    "                              'snapshot_id': snaps[1]['id']})\n",
    "        # delete the oldest snapshot\n",
    "        rc.snapshot.delete_snapshot(snaps[0]['id'])\n",
    "        snap_count = len(snaps) - 1\n",
    "    return paths\n"
   ]
  },
  {
   "cell_type": "code",
   "execution_count": 18,
   "metadata": {},
   "outputs": [
    {
     "name": "stdout",
     "output_type": "stream",
     "text": [
      "Created policy on directory '/': EveryMinuteForDiffs expires after 10minutes\n"
     ]
    }
   ],
   "source": [
    "create_policy_for_diff(rc, 'EveryMinuteForDiffs')"
   ]
  },
  {
   "cell_type": "code",
   "execution_count": 19,
   "metadata": {},
   "outputs": [
    {
     "name": "stdout",
     "output_type": "stream",
     "text": [
      "Diff times: 2020-04-28T17:16:23 -> 2020-04-28T17:17:23\n",
      "Diff times: 2020-04-28T17:17:23 -> 2020-04-28T17:24:22\n",
      "Diff times: 2020-04-28T17:24:22 -> 2020-04-28T17:25:22\n",
      "Found 476 file changes.\n"
     ]
    }
   ],
   "source": [
    "diff_list = diff_snaps(rc, 'EveryMinuteForDiffs')\n",
    "print(\"Found %s file changes.\" % len(diff_list))"
   ]
  },
  {
   "cell_type": "code",
   "execution_count": 20,
   "metadata": {},
   "outputs": [
    {
     "name": "stdout",
     "output_type": "stream",
     "text": [
      "Ops: CREATE:57 | MODIFY:397 | DELETE:25\n",
      "Diff count: 3\n",
      "Owner count: 6\n"
     ]
    }
   ],
   "source": [
    "owners = {}\n",
    "ops = {}\n",
    "diffs = {}\n",
    "for d in diff_list:\n",
    "    owners[d['owner']] = 1\n",
    "    if d['op'] not in ops:\n",
    "        ops[d['op']] = 1\n",
    "    ops[d['op']] += 1\n",
    "    diffs[d['snapshot_id']] = 1\n",
    "print(\"Ops: %s\" % ' | '.join([\"%s:%s\" % (k,v) for k, v in ops.items()]))\n",
    "print(\"Diff count: %s\" % len(diffs))\n",
    "print(\"Owner count: %s\" % len(owners))"
   ]
  },
  {
   "cell_type": "code",
   "execution_count": null,
   "metadata": {},
   "outputs": [],
   "source": []
  }
 ],
 "metadata": {
  "kernelspec": {
   "display_name": "Python 2",
   "language": "python",
   "name": "python2"
  },
  "language_info": {
   "codemirror_mode": {
    "name": "ipython",
    "version": 2
   },
   "file_extension": ".py",
   "mimetype": "text/x-python",
   "name": "python",
   "nbconvert_exporter": "python",
   "pygments_lexer": "ipython2",
   "version": "2.7.16"
  }
 },
 "nbformat": 4,
 "nbformat_minor": 4
}
