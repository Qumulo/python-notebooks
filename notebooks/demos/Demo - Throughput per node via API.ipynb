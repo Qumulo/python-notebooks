{
 "cells": [
  {
   "cell_type": "code",
   "execution_count": 1,
   "metadata": {},
   "outputs": [],
   "source": [
    "import time\n",
    "from qumulo.rest_client import RestClient"
   ]
  },
  {
   "cell_type": "code",
   "execution_count": 2,
   "metadata": {},
   "outputs": [],
   "source": [
    "def get_throughput_data(rc):\n",
    "    results = {}\n",
    "    for node in rc.cluster.list_nodes():\n",
    "        node_id = node['id']\n",
    "        ns = rc.network.get_network_status_v2(1,node_id)\n",
    "        results[node_id] = ns['interface_details']\n",
    "    return results\n",
    "\n",
    "\n",
    "def sizeof_fmt(num, suffix='B'):\n",
    "    for unit in ['','K','M','G','T','P','E','Z']:\n",
    "        if abs(num) < 1000.0:\n",
    "            return \"%3.1f%s%s\" % (num, unit, suffix)\n",
    "        num /= 1000.0\n",
    "    return \"%.1f%s%s\" % (num, 'Yi', suffix)"
   ]
  },
  {
   "cell_type": "markdown",
   "metadata": {},
   "source": [
    "# Throughput by node, over time"
   ]
  },
  {
   "cell_type": "code",
   "execution_count": 4,
   "metadata": {},
   "outputs": [
    {
     "name": "stdout",
     "output_type": "stream",
     "text": [
      "Node:  1  --  sent: 19.5KB/s  --  recv: 40.5KB/s\n",
      "Node:  2  --  sent: 6.1KB/s  --  recv: 38.1KB/s\n",
      "Node:  3  --  sent: 11.3KB/s  --  recv: 18.9KB/s\n",
      "Node:  4  --  sent: 8.6KB/s  --  recv: 20.6KB/s\n",
      "\n",
      "Node:  1  --  sent: 38.6KB/s  --  recv: 103.7KB/s\n",
      "Node:  2  --  sent: 64.9KB/s  --  recv: 77.2KB/s\n",
      "Node:  3  --  sent: 238.0KB/s  --  recv: 114.7KB/s\n",
      "Node:  4  --  sent: 17.0KB/s  --  recv: 106.4KB/s\n",
      "\n",
      "Node:  1  --  sent: 9.4KB/s  --  recv: 30.8KB/s\n",
      "Node:  2  --  sent: 3.7KB/s  --  recv: 16.8KB/s\n",
      "Node:  3  --  sent: 6.3KB/s  --  recv: 21.5KB/s\n",
      "Node:  4  --  sent: 5.9KB/s  --  recv: 17.3KB/s\n",
      "\n",
      "Node:  1  --  sent: 16.7KB/s  --  recv: 29.7KB/s\n",
      "Node:  2  --  sent: 6.8KB/s  --  recv: 24.0KB/s\n",
      "Node:  3  --  sent: 10.7KB/s  --  recv: 25.3KB/s\n",
      "Node:  4  --  sent: 8.2KB/s  --  recv: 62.8KB/s\n",
      "\n",
      "Node:  1  --  sent: 3.2MB/s  --  recv: 3.2MB/s\n",
      "Node:  2  --  sent: 14.8KB/s  --  recv: 441.4KB/s\n",
      "Node:  3  --  sent: 244.4KB/s  --  recv: 1.7MB/s\n",
      "Node:  4  --  sent: 16.3KB/s  --  recv: 1.3MB/s\n",
      "\n"
     ]
    }
   ],
   "source": [
    "rc = RestClient(\"product\", 8000)\n",
    "rc.login(\"admin\", \"admin\")\n",
    "\n",
    "interval_count = 5\n",
    "interval_time_seconds = 5\n",
    "previous_result = None\n",
    "\n",
    "for i in range(0, interval_count+1):\n",
    "    current_result = get_throughput_data(rc)\n",
    "    if previous_result is not None:\n",
    "        for node_id, current_data in current_result.iteritems():\n",
    "            time_diff = (int(current_data['timestamp']) - int(previous_result[node_id]['timestamp'])) / 1000\n",
    "            sent_diff = int(current_data['bytes_sent']) - int(previous_result[node_id]['bytes_sent'])\n",
    "            recv_diff = int(current_data['bytes_received']) - int(previous_result[node_id]['bytes_received'])\n",
    "            print(\"Node:%3s  --  sent: %s/s  --  recv: %s/s\" % ( node_id,\n",
    "                                                            sizeof_fmt(sent_diff / time_diff),\n",
    "                                                            sizeof_fmt(recv_diff / time_diff),\n",
    "                                    ))\n",
    "        print(\"\") # line break\n",
    "    previous_result = current_result\n",
    "    time.sleep(interval_time_seconds)\n"
   ]
  },
  {
   "cell_type": "code",
   "execution_count": null,
   "metadata": {},
   "outputs": [],
   "source": []
  }
 ],
 "metadata": {
  "kernelspec": {
   "display_name": "Python 2",
   "language": "python",
   "name": "python2"
  },
  "language_info": {
   "codemirror_mode": {
    "name": "ipython",
    "version": 2
   },
   "file_extension": ".py",
   "mimetype": "text/x-python",
   "name": "python",
   "nbconvert_exporter": "python",
   "pygments_lexer": "ipython2",
   "version": "2.7.14"
  }
 },
 "nbformat": 4,
 "nbformat_minor": 2
}
