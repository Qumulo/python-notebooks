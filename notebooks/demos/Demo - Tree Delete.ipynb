{
 "cells": [
  {
   "cell_type": "markdown",
   "metadata": {},
   "source": [
    "# Tree delete and watch status"
   ]
  },
  {
   "cell_type": "code",
   "execution_count": 1,
   "metadata": {},
   "outputs": [],
   "source": [
    "%matplotlib inline\n",
    "\n",
    "import os\n",
    "import StringIO\n",
    "import time\n",
    "import numpy\n",
    "import pandas\n",
    "import seaborn\n",
    "import matplotlib\n",
    "import numpy as np\n",
    "import matplotlib.pyplot as plt\n",
    "from qumulo.rest_client import RestClient"
   ]
  },
  {
   "cell_type": "code",
   "execution_count": 2,
   "metadata": {},
   "outputs": [],
   "source": [
    "rc = RestClient(\"<qumulo-cluster>\", 8000)\n",
    "rc.login(\"<qumulo-user>\", \"<qumulo-password>\");"
   ]
  },
  {
   "cell_type": "code",
   "execution_count": 23,
   "metadata": {},
   "outputs": [
    {
     "name": "stdout",
     "output_type": "stream",
     "text": [
      "This test takes ~1 minute to run.\n",
      "Created 10000 files in 46 seconds\n",
      "Files remaining:  9990  -  deletes / second:   10\n",
      "Files remaining:  9028  -  deletes / second:  962\n",
      "Files remaining:  8081  -  deletes / second:  947\n",
      "Files remaining:  7139  -  deletes / second:  942\n",
      "Files remaining:  6140  -  deletes / second:  999\n",
      "Files remaining:  5141  -  deletes / second:  999\n",
      "Files remaining:  4216  -  deletes / second:  925\n",
      "Files remaining:  3287  -  deletes / second:  929\n",
      "Files remaining:  2323  -  deletes / second:  964\n",
      "Files remaining:  1364  -  deletes / second:  959\n",
      "Files remaining:   383  -  deletes / second:  981\n",
      "Done!\n"
     ]
    }
   ],
   "source": [
    "parent_path = \"/test\"\n",
    "dir_name = \"test1\"\n",
    "file_count = 10000\n",
    "\n",
    "print(\"This test takes ~1 minute to run.\")\n",
    "full_dir_path = parent_path + \"/\" + dir_name\n",
    "\n",
    "rc.fs.create_directory(name=\"test1\", dir_path=\"/test\")\n",
    "start_time = time.time()\n",
    "for file_num in range(file_count):\n",
    "    rc.fs.create_file(\"f%s.txt\" % file_num, dir_path = full_dir_path)\n",
    "print(\"Created %s files in %s seconds\" % (file_count, int(time.time() - start_time)))\n",
    "rc.fs.delete_tree(full_dir_path)\n",
    "last_rem = file_count\n",
    "while last_rem > 0:\n",
    "    try:\n",
    "        d = rc.fs.tree_delete_status(full_dir_path)\n",
    "        cur_rem = int(d['remaining_files'])\n",
    "        print(\"Files remaining: %5s  -  deletes / second: %4s\" % (cur_rem, last_rem - cur_rem))\n",
    "        last_rem = cur_rem\n",
    "    except:\n",
    "        break\n",
    "    time.sleep(1)\n",
    "print(\"Done!\")"
   ]
  },
  {
   "cell_type": "code",
   "execution_count": null,
   "metadata": {},
   "outputs": [],
   "source": []
  }
 ],
 "metadata": {
  "kernelspec": {
   "display_name": "Python 2",
   "language": "python",
   "name": "python2"
  },
  "language_info": {
   "codemirror_mode": {
    "name": "ipython",
    "version": 2
   },
   "file_extension": ".py",
   "mimetype": "text/x-python",
   "name": "python",
   "nbconvert_exporter": "python",
   "pygments_lexer": "ipython2",
   "version": "2.7.12"
  }
 },
 "nbformat": 4,
 "nbformat_minor": 2
}
