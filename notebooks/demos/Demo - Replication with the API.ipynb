{
 "cells": [
  {
   "cell_type": "code",
   "execution_count": 1,
   "metadata": {},
   "outputs": [],
   "source": [
    "# imports\n",
    "import os\n",
    "import sys\n",
    "import time\n",
    "import traceback\n",
    "import threading\n",
    "\n",
    "from qumulo.rest_client import RestClient"
   ]
  },
  {
   "cell_type": "markdown",
   "metadata": {},
   "source": [
    "### Recursive directory create function"
   ]
  },
  {
   "cell_type": "code",
   "execution_count": 2,
   "metadata": {},
   "outputs": [],
   "source": [
    "def create_dir(rc, path):\n",
    "    path_parts = path.split('/')\n",
    "    for i in range(2, len(path_parts)+1):\n",
    "        full_path = '/'.join(path_parts[0:i])\n",
    "        parent_path = '/'.join(path_parts[0:i-1])\n",
    "        if parent_path == '':\n",
    "            parent_path = '/'\n",
    "        name = path_parts[i-1]\n",
    "        dir_exists = False\n",
    "        try:\n",
    "            rc.fs.get_attr(path=full_path)\n",
    "            dir_exists = True\n",
    "        except Exception as e:\n",
    "            if \"Error 404: fs_no_such_entry_error\" not in str(e):\n",
    "                print(\"Unexpected excpetion: %s\" % e)\n",
    "        if not dir_exists:\n",
    "            rc.fs.create_directory(name = name, dir_path = parent_path)"
   ]
  },
  {
   "cell_type": "markdown",
   "metadata": {},
   "source": [
    "### Setup all of the variables"
   ]
  },
  {
   "cell_type": "code",
   "execution_count": 3,
   "metadata": {},
   "outputs": [],
   "source": [
    "cluster = '<qumulo-cluster>'    # Qumulo cluster hostname or IP where you're setting up users\n",
    "api_user = '<qumulo-user>'     # Qumulo api user name\n",
    "api_password = '<qumulo-password>' # Qumulo api password\n",
    "base_directory = 'users-replicated' # the parent path where the users will be created.\n",
    "user_name = 'tommy' # the \"username\"\n",
    "root_path = '/home/tommy'\n",
    "\n",
    "# If you're setting up replication, you'll need these variables\n",
    "replicate_to_cluster = '10.100.1.52' # must be an ip address\n",
    "replicate_to_api_user = '<qumulo-user>'\n",
    "replicate_to_api_password = '<qumulo-password>'\n",
    "replicate_to_directory = 'users-backup'"
   ]
  },
  {
   "cell_type": "markdown",
   "metadata": {},
   "source": [
    "### Initialize reset clients and set up initial directories"
   ]
  },
  {
   "cell_type": "code",
   "execution_count": 9,
   "metadata": {},
   "outputs": [
    {
     "name": "stdout",
     "output_type": "stream",
     "text": [
      "     Source path: product:/home/tommy/users-replicated/tommy\n",
      "Destination path: 10.100.1.52:/home/tommy/users-backup/tommy\n"
     ]
    }
   ],
   "source": [
    "rc = RestClient(cluster, 8000)\n",
    "rc.login(api_user, api_password)\n",
    "\n",
    "rc_dest = RestClient(replicate_to_cluster, 8000)\n",
    "rc_dest.login(replicate_to_api_user, replicate_to_api_password);\n",
    "\n",
    "source_path = '%s/%s/%s' % (root_path, base_directory,  user_name)\n",
    "destination_path = '%s/%s/%s' % (root_path, replicate_to_directory,  user_name)\n",
    "print(\"     Source path: %s:%s\" % (cluster, source_path))\n",
    "print(\"Destination path: %s:%s\" % (replicate_to_cluster, destination_path))\n",
    "\n",
    "create_dir(rc, source_path)\n",
    "create_dir(rc_dest, destination_path)"
   ]
  },
  {
   "cell_type": "markdown",
   "metadata": {},
   "source": [
    "### Set up the replication relationship"
   ]
  },
  {
   "cell_type": "code",
   "execution_count": 11,
   "metadata": {},
   "outputs": [
    {
     "name": "stdout",
     "output_type": "stream",
     "text": [
      "{u'blackout_window_timezone': u'', u'source_root_id': u'189001158', u'target_address': u'10.100.1.52', u'blackout_windows': [], u'target_port': 3712, u'continuous_replication_enabled': True, u'id': u'ed70a154-3c1b-4ac6-a313-3d6dabb09525'}\n"
     ]
    }
   ],
   "source": [
    "replic_res = None\n",
    "source_id = rc.fs.get_attr(path=source_path)['id']\n",
    "\n",
    "try:    \n",
    "    replic_res = rc.replication.create_source_relationship(source = source_id,\n",
    "                                        target_path = destination_path,\n",
    "                                        address = replicate_to_cluster,\n",
    "                                      )\n",
    "    print(\"Replication relationship id: %s\" % replic_res['id'])\n",
    "except:\n",
    "    exc_type, exc_value, exc_traceback = sys.exc_info()\n",
    "    print(\"!!! Exception: %s\" % exc_value)"
   ]
  },
  {
   "cell_type": "markdown",
   "metadata": {},
   "source": [
    "### Authorize the replication relationship"
   ]
  },
  {
   "cell_type": "code",
   "execution_count": 12,
   "metadata": {},
   "outputs": [
    {
     "name": "stdout",
     "output_type": "stream",
     "text": [
      "Replication relationship status: ESTABLISHED\n"
     ]
    }
   ],
   "source": [
    "replic_auth_res = None\n",
    "try:    \n",
    "    replic_auth_res = rc_dest.replication.authorize(relationship_id = replic_res['id'])\n",
    "    print(\"Replication relationship status: %s\" % replic_auth_res['state'])\n",
    "except:\n",
    "    exc_type, exc_value, exc_traceback = sys.exc_info()\n",
    "    print(\"!!! Exception: %s\" % exc_value)"
   ]
  },
  {
   "cell_type": "code",
   "execution_count": null,
   "metadata": {},
   "outputs": [],
   "source": [
    "# Kick off a replication job.\n",
    "if replic_res is not None:\n",
    "    rc.replication.replicate(relationship = replic_res['id'])"
   ]
  },
  {
   "cell_type": "markdown",
   "metadata": {},
   "source": [
    "### Delete the replication relationship and destination directory"
   ]
  },
  {
   "cell_type": "code",
   "execution_count": null,
   "metadata": {},
   "outputs": [],
   "source": [
    "if replic_res is not None:\n",
    "    rc.replication.delete_relationship(relationship_id = replic_res['id'])\n",
    "    rc_dest.fs.delete_tree(path = '/users-backup/%s' % user_name)"
   ]
  }
 ],
 "metadata": {
  "kernelspec": {
   "display_name": "Python 2",
   "language": "python",
   "name": "python2"
  },
  "language_info": {
   "codemirror_mode": {
    "name": "ipython",
    "version": 2
   },
   "file_extension": ".py",
   "mimetype": "text/x-python",
   "name": "python",
   "nbconvert_exporter": "python",
   "pygments_lexer": "ipython2",
   "version": "2.7.12"
  }
 },
 "nbformat": 4,
 "nbformat_minor": 2
}
