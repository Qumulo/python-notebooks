{
 "cells": [
  {
   "cell_type": "markdown",
   "metadata": {
    "deletable": true,
    "editable": true
   },
   "source": [
    "# Deep dive into the Qumulo API python bindings\n",
    "\n",
    "This notebook helps a user explore the Qumulo API python bindings. First, it will list out all of the supported Qunmulo API python modules and functions. **Don't forget to run <code>pip install qumulo_api</code> first.**\n",
    "\n",
    "After listing all of the defined python functions, it demonstrates one (ore more) functions inside each of python modules. All code examples below are will only read data and configuration from your Qumulo cluster."
   ]
  },
  {
   "cell_type": "code",
   "execution_count": 1,
   "metadata": {
    "collapsed": true,
    "deletable": true,
    "editable": true
   },
   "outputs": [],
   "source": [
    "import qumulo\n",
    "import os\n",
    "import glob\n",
    "import re\n",
    "import time\n",
    "import StringIO\n",
    "from datetime import datetime\n",
    "import dateutil.parser as date_parser\n",
    "from qumulo.rest_client import RestClient"
   ]
  },
  {
   "cell_type": "code",
   "execution_count": 2,
   "metadata": {
    "collapsed": false,
    "deletable": true,
    "editable": true
   },
   "outputs": [
    {
     "data": {
      "application/javascript": [
       "// this will prevent the large output window below from being boxed in.\n",
       "IPython.OutputArea.auto_scroll_threshold = 9999;"
      ],
      "text/plain": [
       "<IPython.core.display.Javascript object>"
      ]
     },
     "metadata": {},
     "output_type": "display_data"
    }
   ],
   "source": [
    "%%javascript\n",
    "// this will prevent the large output window below from being boxed in.\n",
    "IPython.OutputArea.auto_scroll_threshold = 9999;"
   ]
  },
  {
   "cell_type": "code",
   "execution_count": 3,
   "metadata": {
    "collapsed": true,
    "deletable": true,
    "editable": true
   },
   "outputs": [],
   "source": [
    "# set your environment variables or fill in the variables below\n",
    "API_HOSTNAME = os.environ['API_HOSTNAME'] or '{your-cluster-hostname}'\n",
    "API_USER = os.environ['API_USER'] or '{api-cluster-user}'\n",
    "API_PASSWORD = os.environ['API_PASSWORD'] or '{api-cluster-password}'"
   ]
  },
  {
   "cell_type": "markdown",
   "metadata": {
    "deletable": true,
    "editable": true
   },
   "source": [
    "### Inspect all of the Qumulo python bindings and show methods"
   ]
  },
  {
   "cell_type": "code",
   "execution_count": 4,
   "metadata": {
    "collapsed": false,
    "deletable": true,
    "editable": true
   },
   "outputs": [
    {
     "name": "stdout",
     "output_type": "stream",
     "text": [
      "\n",
      "--------------------------------------------------------------------------------\n",
      "Area: ad.py\n",
      "   rc.ad.list_ad()\n",
      "   rc.ad.poll_ad()\n",
      "   rc.ad.join_ad(domain, username, password, ou ...)\n",
      "   rc.ad.leave_ad(domain, username, password)\n",
      "   rc.ad.cancel_ad()\n",
      "   rc.ad.uid_to_sid_get(uid)\n",
      "   rc.ad.sid_to_uid_get(sid)\n",
      "   rc.ad.sid_to_gid_get(sid)\n",
      "   rc.ad.gid_to_sid_get(gid)\n",
      "   rc.ad.sid_to_expanded_group_sids_get(sid)\n",
      "   rc.ad.clear_cache_post()\n",
      "\n",
      "--------------------------------------------------------------------------------\n",
      "Area: analytics.py\n",
      "   rc.analytics.time_series_get(begin_time)\n",
      "   rc.analytics.iops_get(specific_type)\n",
      "   rc.analytics.current_activity_get(specific_type)\n",
      "   rc.analytics.capacity_history_get(interval, begin_time, end_time)\n",
      "   rc.analytics.capacity_history_files_get(timestamp)\n",
      "\n",
      "--------------------------------------------------------------------------------\n",
      "Area: auth.py\n",
      "   rc.auth.login(username, password)\n",
      "   rc.auth.change_password(old_password, new_password)\n",
      "   rc.auth.who_am_i()\n",
      "   rc.auth.auth_id_to_all_related_identities(auth_id)\n",
      "   rc.auth.posix_uid_to_all_related_identities(posix_uid)\n",
      "   rc.auth.posix_gid_to_all_related_identities(posix_gid)\n",
      "   rc.auth.sid_to_all_related_identities(sid)\n",
      "   rc.auth.local_username_to_all_related_identities(username)\n",
      "\n",
      "--------------------------------------------------------------------------------\n",
      "Area: cluster.py\n",
      "   rc.cluster.list_nodes()\n",
      "   rc.cluster.list_node(node)\n",
      "   rc.cluster.get_cluster_conf()\n",
      "   rc.cluster.put_cluster_conf(cluster_name)\n",
      "   rc.cluster.get_cluster_slots_status()\n",
      "   rc.cluster.get_cluster_slot_status(slot)\n",
      "   rc.cluster.get_restriper_status()\n",
      "   rc.cluster.get_protection_status()\n",
      "   rc.cluster.set_node_identify_light(node, light_visible)\n",
      "   rc.cluster.get_node_chassis_status(node)\n",
      "\n",
      "--------------------------------------------------------------------------------\n",
      "Area: dns.py\n",
      "   rc.dns.resolve(ips)\n",
      "\n",
      "--------------------------------------------------------------------------------\n",
      "Area: fs.py\n",
      "   rc.fs.read_fs_stats()\n",
      "   rc.fs.set_acl(path, id_, control, aces ...)\n",
      "   rc.fs.get_attr(path, id_, snapshot)\n",
      "   rc.fs.set_attr(mode, owner, group, modification_time ...)\n",
      "   rc.fs.get_file_attr(id_, path, snapshot)\n",
      "   rc.fs.set_file_attr(mode, owner, group, size ...)\n",
      "   rc.fs.write_file(data_file, path, id_, if_match)\n",
      "   rc.fs.get_acl(path, id_, snapshot)\n",
      "   rc.fs.read_directory(page_size, path, id_, snapshot)\n",
      "   rc.fs.read_file(file_, path, id_, snapshot)\n",
      "   rc.fs.create_file(name, dir_path, dir_id)\n",
      "   rc.fs.create_unix_file(name, file_type, major_minor_numbers, dir_path ...)\n",
      "   rc.fs.create_directory(name, dir_path, dir_id)\n",
      "   rc.fs.create_symlink(name, target, dir_path, dir_id ...)\n",
      "   rc.fs.create_link(name, target, dir_path, dir_id)\n",
      "   rc.fs.rename(name, source, dir_path, dir_id)\n",
      "   rc.fs.delete(path, id_)\n",
      "   rc.fs.read_dir_aggregates(path, recursive, max_entries, max_depth ...)\n",
      "   rc.fs.get_file_samples(path, count, by_value)\n",
      "   rc.fs.resolve_paths(ids, snapshot)\n",
      "   rc.fs.list_waiters_by_file(protocol, lock_type, file_path, file_id ...)\n",
      "   rc.fs.list_waiters_by_client(protocol, lock_type, owner_name, owner_address ...)\n",
      "   rc.fs.list_all_waiters_by_file(protocol, lock_type, file_path, file_id ...)\n",
      "   rc.fs.list_all_waiters_by_client(protocol, lock_type, owner_name, owner_address ...)\n",
      "   rc.fs.list_locks_by_file(protocol, lock_type, file_path, file_id ...)\n",
      "   rc.fs.list_locks_by_client(protocol, lock_type, owner_name, owner_address ...)\n",
      "   rc.fs.list_all_locks_by_file(protocol, lock_type, file_path, file_id ...)\n",
      "   rc.fs.list_all_locks_by_client(protocol, lock_type, owner_name, owner_address ...)\n",
      "   rc.fs.release_nlm_locks_by_client(owner_name, owner_address)\n",
      "   rc.fs.release_nlm_lock(offset, size, owner_id, file_path ...)\n",
      "   rc.fs.read_entire_directory(page_size, path, id_)\n",
      "   rc.fs.tree_walk_preorder(path)\n",
      "   rc.fs.tree_walk_postorder(path)\n",
      "\n",
      "--------------------------------------------------------------------------------\n",
      "Area: groups.py\n",
      "   rc.groups.list_groups()\n",
      "   rc.groups.add_group(name, gid)\n",
      "   rc.groups.list_group(group_id)\n",
      "   rc.groups.modify_group(group_id, name, gid, if_match)\n",
      "   rc.groups.delete_group(group_id)\n",
      "   rc.groups.group_get_members(group_id)\n",
      "   rc.groups.group_add_member(group_id, member_id)\n",
      "   rc.groups.group_remove_member(group_id, member_id)\n",
      "   rc.groups.get_group_id(value)\n",
      "\n",
      "--------------------------------------------------------------------------------\n",
      "Area: network.py\n",
      "   rc.network.get_cluster_network_config()\n",
      "   rc.network.modify_cluster_network_config(**kwargs)\n",
      "   rc.network.list_network_status()\n",
      "   rc.network.get_network_status(node)\n",
      "   rc.network.list_interfaces()\n",
      "   rc.network.get_interface(interface_id)\n",
      "   rc.network.list_networks(interface_id)\n",
      "   rc.network.get_network(interface_id, network_id)\n",
      "   rc.network.modify_interface(interface_id, **kwargs)\n",
      "   rc.network.add_network(interface_id, **kwargs)\n",
      "   rc.network.delete_network(interface_id, network_id)\n",
      "   rc.network.modify_network(interface_id, network_id, **kwargs)\n",
      "   rc.network.list_network_status_v2(interface_id)\n",
      "   rc.network.get_network_status_v2(interface_id, node_id)\n",
      "   rc.network.get_static_ip_allocation(try_ranges, try_netmask, try_floating_ranges)\n",
      "   rc.network.get_floating_ip_allocation()\n",
      "   rc.network.connections()\n",
      "\n",
      "--------------------------------------------------------------------------------\n",
      "Area: nfs.py\n",
      "   rc.nfs.nfs_list_shares()\n",
      "   rc.nfs.nfs_add_share(export_path, fs_path, description, restrictions ...)\n",
      "   rc.nfs.nfs_list_share(id_)\n",
      "   rc.nfs.nfs_modify_share(id_, export_path, fs_path, description ...)\n",
      "   rc.nfs.nfs_delete_share(id_)\n",
      "\n",
      "--------------------------------------------------------------------------------\n",
      "Area: node_state.py\n",
      "   rc.node_state.get_node_state()\n",
      "\n",
      "--------------------------------------------------------------------------------\n",
      "Area: quota.py\n",
      "   rc.quota.get_all_quotas(page_size, if_match)\n",
      "   rc.quota.get_all_quotas_with_status(page_size, if_match)\n",
      "   rc.quota.get_quota_with_status(id_, if_match)\n",
      "   rc.quota.get_quota(id_, if_match)\n",
      "   rc.quota.create_quota(id_, limit_in_bytes)\n",
      "   rc.quota.update_quota(id_, limit_in_bytes, if_match)\n",
      "   rc.quota.delete_quota(id_, if_match)\n",
      "\n",
      "--------------------------------------------------------------------------------\n",
      "Area: replication.py\n",
      "   rc.replication.replicate(relationship)\n",
      "   rc.replication.create_relationship(source_dir, target_dir, address, target_port)\n",
      "   rc.replication.list_relationships()\n",
      "   rc.replication.get_relationship(relationship_id)\n",
      "   rc.replication.delete_relationship(relationship_id)\n",
      "   rc.replication.list_relationship_statuses()\n",
      "   rc.replication.get_relationship_status(relationship_id)\n",
      "   rc.replication.authorize(relationship_id)\n",
      "\n",
      "--------------------------------------------------------------------------------\n",
      "Area: shutdown.py\n",
      "   rc.shutdown.halt()\n",
      "   rc.shutdown.restart()\n",
      "   rc.shutdown.halt_cluster()\n",
      "   rc.shutdown.restart_cluster()\n",
      "\n",
      "--------------------------------------------------------------------------------\n",
      "Area: smb.py\n",
      "   rc.smb.smb_list_shares()\n",
      "   rc.smb.smb_add_share(share_name, fs_path, description, read_only ...)\n",
      "   rc.smb.smb_list_share(id_)\n",
      "   rc.smb.smb_modify_share(id_, share_name, fs_path, description ...)\n",
      "   rc.smb.smb_delete_share(id_)\n",
      "\n",
      "--------------------------------------------------------------------------------\n",
      "Area: snapshot.py\n",
      "   rc.snapshot.create_snapshot(name, expiration, time_to_live)\n",
      "   rc.snapshot.modify_snapshot(snapshot_id, expiration, time_to_live)\n",
      "   rc.snapshot.list_snapshots()\n",
      "   rc.snapshot.get_snapshot(snapshot_id)\n",
      "   rc.snapshot.delete_snapshot(snapshot_id)\n",
      "   rc.snapshot.create_policy(name, schedule_info)\n",
      "   rc.snapshot.modify_policy(policy_id, name, schedule_info, if_match)\n",
      "   rc.snapshot.list_policies()\n",
      "   rc.snapshot.get_policy(policy_id)\n",
      "   rc.snapshot.delete_policy(policy_id)\n",
      "   rc.snapshot.get_total_used_capacity()\n",
      "   rc.snapshot.calculate_used_capacity(ids)\n",
      "\n",
      "--------------------------------------------------------------------------------\n",
      "Area: support.py\n",
      "   rc.support.get_config()\n",
      "   rc.support.set_config(enabled, mq_host, mq_port, s3_proxy_host ...)\n",
      "   rc.support.put_local_monitoring_status(status)\n",
      "   rc.support.get_vpn_keys()\n",
      "   rc.support.install_vpn_keys(vpn_keys)\n",
      "\n",
      "--------------------------------------------------------------------------------\n",
      "Area: time_config.py\n",
      "   rc.time_config.get_time()\n",
      "   rc.time_config.set_time(use_ad_for_primary, ntp_servers)\n",
      "   rc.time_config.get_time_status()\n",
      "   rc.time_config.list_timezones()\n",
      "\n",
      "--------------------------------------------------------------------------------\n",
      "Area: unconfigured_node_operations.py\n",
      "   rc.unconfigured_node_operations.unconfigured()\n",
      "   rc.unconfigured_node_operations.list_unconfigured_nodes()\n",
      "   rc.unconfigured_node_operations.add_node(node_uuids)\n",
      "\n",
      "--------------------------------------------------------------------------------\n",
      "Area: upgrade.py\n",
      "   rc.upgrade.config_get()\n",
      "   rc.upgrade.config_put(install_path, target, override_version)\n",
      "   rc.upgrade.status_get()\n",
      "\n",
      "--------------------------------------------------------------------------------\n",
      "Area: users.py\n",
      "   rc.users.list_users()\n",
      "   rc.users.add_user(name, primary_group, uid)\n",
      "   rc.users.list_user(user_id)\n",
      "   rc.users.modify_user(user_id, name, primary_group, uid ...)\n",
      "   rc.users.delete_user(user_id)\n",
      "   rc.users.list_groups_for_user(user_id)\n",
      "   rc.users.set_user_password(user_id, new_password)\n",
      "   rc.users.get_user_id(value)\n",
      "   rc.users.unpack_identity(auth_id)\n",
      "\n",
      "--------------------------------------------------------------------------------\n",
      "Area: version.py\n",
      "   rc.version.version()\n"
     ]
    }
   ],
   "source": [
    "qumulo_lib_path = os.path.dirname(qumulo.__file__) + '/rest'\n",
    "\n",
    "total_matches = 0\n",
    "for f in glob.glob(qumulo_lib_path + '/*.py'):\n",
    "    file_name = os.path.basename(f)\n",
    "    if file_name == '__init__.py':\n",
    "        continue\n",
    "    print \"\"\n",
    "    print \"-\"*80\n",
    "    print \"Area: %s\" % (file_name, )\n",
    "    c = open(f, 'r').read()\n",
    "    rx_str = '@request.request[ \\r\\n]+def ([^(]+)\\([ \\r\\n]*conninfo,[ \\r\\n]*credentials([^\\)]*)(.*?)(return|yield)'\n",
    "    ms = re.findall(rx_str, c, re.S|re.M)\n",
    "    for m in ms:\n",
    "        total_matches += 1\n",
    "        func_name = m[0]\n",
    "        \n",
    "        # get arguments\n",
    "        args = []\n",
    "        arg_ms = m[1].split(',')\n",
    "        for arg_m in arg_ms:\n",
    "            if arg_m.strip() != \"\":\n",
    "                args.append(re.sub('=.*', '', arg_m.strip()))\n",
    "\n",
    "        # method\n",
    "        method = \"GET\"\n",
    "        method_m = re.search('method[ ]*=[ ]*\"([A-Z]+)', m[2])\n",
    "        if method_m is not None:\n",
    "            method = method_m.group(1)\n",
    "\n",
    "        # uri, currently more work for fs methods\n",
    "        uri = \"/\"\n",
    "        uri_m = re.search('uri[ ]*=.*?\"([^\"]+)', m[2])\n",
    "        if uri_m is not None:\n",
    "            uri = uri_m.group(1)\n",
    "        uri_m = re.search('uri[ ]*=.*?\\'([^\\']+)', m[2])\n",
    "        if uri_m is not None:\n",
    "            uri = uri_m.group(1)\n",
    "\n",
    "        print \"   rc.%s.%s(%s)\" % (file_name.replace('.py', ''), \n",
    "                                   func_name, \n",
    "                                   ', '.join(args[:4]) + (' ...' if len(args)>4 else ''))\n"
   ]
  },
  {
   "cell_type": "markdown",
   "metadata": {
    "deletable": true,
    "editable": true
   },
   "source": [
    "### Create a new python REST client instance and login."
   ]
  },
  {
   "cell_type": "code",
   "execution_count": 5,
   "metadata": {
    "collapsed": false,
    "deletable": true,
    "editable": true,
    "scrolled": true
   },
   "outputs": [
    {
     "data": {
      "text/plain": [
       "<qumulo.lib.auth.Credentials at 0x10f7afa90>"
      ]
     },
     "execution_count": 5,
     "metadata": {},
     "output_type": "execute_result"
    }
   ],
   "source": [
    "# Create a new reset client and login.\n",
    "rc = RestClient(API_HOSTNAME, 8000)\n",
    "rc.login(API_USER, API_PASSWORD)"
   ]
  },
  {
   "cell_type": "markdown",
   "metadata": {
    "deletable": true,
    "editable": true
   },
   "source": [
    "### Show Qumulo API python client library version and Qumulo cluster software version"
   ]
  },
  {
   "cell_type": "code",
   "execution_count": 6,
   "metadata": {
    "collapsed": false,
    "deletable": true,
    "editable": true
   },
   "outputs": [
    {
     "name": "stdout",
     "output_type": "stream",
     "text": [
      "Qumulo API python library version: 2.6.2\n",
      "Qumulo Cluster software version: 2.6.2\n",
      "Qumulo Cluster software version is: 12 days old.\n"
     ]
    }
   ],
   "source": [
    "# if qumulo_api is installed via pip, this will return its version.\n",
    "cmd_output = !pip show qumulo_api\n",
    "\n",
    "# parse out results if \"pip show\"\n",
    "pip_version = '! Unknown !'\n",
    "for line in cmd_output:\n",
    "    parts = line.split(':')\n",
    "    if parts[0] == 'Version':\n",
    "        pip_version = parts[1]\n",
    "\n",
    "print(\"Qumulo API python library version: %s\" % (pip_version.strip(),))\n",
    "\n",
    "# get the Qumulo cluster software version via the API\n",
    "cluster_version = rc.version.version()\n",
    "print(\"Qumulo Cluster software version: %s\" % (cluster_version['revision_id'].replace('Qumulo Core ', ''),))\n",
    "\n",
    "# How old is the current build on the Qumulo cluster?\n",
    "build_time = int(date_parser.parse(cluster_version['build_date']).strftime('%s'))\n",
    "cur_time = time.time()\n",
    "print(\"Qumulo Cluster software version is: %d days old.\" % ((cur_time - build_time)/(60*60*24),))"
   ]
  },
  {
   "cell_type": "markdown",
   "metadata": {
    "deletable": true,
    "editable": true
   },
   "source": [
    "## Active Directory (ad) - list AD status"
   ]
  },
  {
   "cell_type": "code",
   "execution_count": 7,
   "metadata": {
    "collapsed": false,
    "deletable": true,
    "editable": true,
    "scrolled": false
   },
   "outputs": [
    {
     "data": {
      "text/plain": [
       "{u'base_dn': u'',\n",
       " u'domain': u'',\n",
       " u'domain_netbios': u'',\n",
       " u'ou': u'',\n",
       " u'status': u'NOT_IN_DOMAIN',\n",
       " u'use_ad_posix_attributes': False}"
      ]
     },
     "execution_count": 7,
     "metadata": {},
     "output_type": "execute_result"
    }
   ],
   "source": [
    "# Show the current status of the Cluster's AD relationship\n",
    "rc.ad.list_ad()"
   ]
  },
  {
   "cell_type": "markdown",
   "metadata": {
    "deletable": true,
    "editable": true
   },
   "source": [
    "## analytics - timeseries data"
   ]
  },
  {
   "cell_type": "code",
   "execution_count": 8,
   "metadata": {
    "collapsed": false,
    "deletable": true,
    "editable": true
   },
   "outputs": [
    {
     "name": "stdout",
     "output_type": "stream",
     "text": [
      "        iops.read.rate -       229.8\n",
      "       iops.write.rate -       709.2\n",
      " reclaim.deferred.rate -   1398101.3\n",
      " reclaim.snapshot.rate -         0.0\n",
      "  throughput.read.rate -   1691419.6\n",
      " throughput.write.rate -  11978974.0\n"
     ]
    }
   ],
   "source": [
    "# Get the latest minute's metrics from the timeseries data endpoint.\n",
    "# This data is used on the Qumulo web application's dashboard home page.\n",
    "# Show the average value for the last minute for each series.\n",
    "data = rc.analytics.time_series_get(begin_time=int(time.time() - 60))\n",
    "for series in data:\n",
    "    # skip totals since they are duplicated by the other metrics\n",
    "    if 'total' in series['id']:\n",
    "        continue\n",
    "    print \"%22s - %11s\" % (series['id'],\n",
    "                       round(sum(series['values']) / len(series['values']), 1))"
   ]
  },
  {
   "cell_type": "markdown",
   "metadata": {
    "deletable": true,
    "editable": true
   },
   "source": [
    "## Authentication and Authorization (auth) - get related identities"
   ]
  },
  {
   "cell_type": "code",
   "execution_count": 9,
   "metadata": {
    "collapsed": false,
    "deletable": true,
    "editable": true
   },
   "outputs": [
    {
     "name": "stdout",
     "output_type": "stream",
     "text": [
      "LOCAL_GROUP - Users\n",
      "NFS_UID - 0\n",
      "LOCAL_USER - admin\n"
     ]
    }
   ],
   "source": [
    "for a in rc.auth.local_username_to_all_related_identities('admin'):\n",
    "    print \"%(id_type)s - %(id_value)s\" % a"
   ]
  },
  {
   "cell_type": "markdown",
   "metadata": {
    "deletable": true,
    "editable": true
   },
   "source": [
    "## cluster - list nodes"
   ]
  },
  {
   "cell_type": "code",
   "execution_count": 10,
   "metadata": {
    "collapsed": false,
    "deletable": true,
    "editable": true
   },
   "outputs": [
    {
     "name": "stdout",
     "output_type": "stream",
     "text": [
      "Product-1/1 - Q0626\n",
      "Product-2/2 - Q0626\n",
      "Product-3/3 - Q0626\n",
      "Product-4/4 - Q0626\n"
     ]
    }
   ],
   "source": [
    "for n in rc.cluster.list_nodes():\n",
    "    print \"%(node_name)s/%(id)s - %(model_number)s\" % n"
   ]
  },
  {
   "cell_type": "markdown",
   "metadata": {
    "deletable": true,
    "editable": true
   },
   "source": [
    "## dns - resolve names from ip addresses"
   ]
  },
  {
   "cell_type": "code",
   "execution_count": 11,
   "metadata": {
    "collapsed": false,
    "deletable": true,
    "editable": true,
    "scrolled": true
   },
   "outputs": [
    {
     "name": "stdout",
     "output_type": "stream",
     "text": [
      "      127.0.0.1 -         OK - localhost\n",
      "   10.20.217.62 -         OK - dyn-010-020-217-062.corp.qumulo.com\n",
      "    192.168.0.1 -  NOT_FOUND - \n",
      "    192.168.1.1 -  NOT_FOUND - \n",
      "  192.168.154.1 -  NOT_FOUND - \n",
      "     172.16.1.1 -  NOT_FOUND - \n",
      "  10.120.246.43 -         OK - du68-10g.eng.qumulo.com\n",
      "      10.10.1.1 -  NOT_FOUND - \n"
     ]
    }
   ],
   "source": [
    "for d in rc.dns.resolve(['127.0.0.1', '10.20.217.62', '192.168.0.1', '192.168.1.1', \n",
    "                       '192.168.154.1', '172.16.1.1', '10.120.246.43', '10.10.1.1']):\n",
    "    print(\"%(ip_address)15s - %(result)10s - %(hostname)s\" % d)"
   ]
  },
  {
   "cell_type": "markdown",
   "metadata": {},
   "source": [
    "## File System (fs) - list files and read a file"
   ]
  },
  {
   "cell_type": "code",
   "execution_count": 6,
   "metadata": {
    "collapsed": false,
    "deletable": true,
    "editable": true,
    "scrolled": true
   },
   "outputs": [
    {
     "name": "stdout",
     "output_type": "stream",
     "text": [
      "Read file create-lots.py which is 2576 bytes, and print first 80 bytes\n",
      "import os\n",
      "import sys\n",
      "import random\n",
      "import platform\n",
      "import subprocess\n",
      "from multip\n"
     ]
    }
   ],
   "source": [
    "path = '/'\n",
    "dir_ent = rc.fs.read_directory(path=path)\n",
    "for d in dir_ent['files']:\n",
    "    if d['type'] == 'FS_FILE_TYPE_FILE':\n",
    "        fw = StringIO.StringIO()\n",
    "        print(\"Read file %(name)s which is %(size)s bytes, and print first 80 bytes\" % d)\n",
    "        rc.fs.read_file(fw, path = path + d['name'])\n",
    "        print fw.getvalue()[:80]\n",
    "        break\n"
   ]
  },
  {
   "cell_type": "markdown",
   "metadata": {},
   "source": [
    "## groups - list all groups in Qumulo"
   ]
  },
  {
   "cell_type": "code",
   "execution_count": 12,
   "metadata": {
    "collapsed": false
   },
   "outputs": [
    {
     "name": "stdout",
     "output_type": "stream",
     "text": [
      "          513            Users      S-1-5-21-2200309403-3182498638-1868133574-513\n",
      "  8000   1002        testgroup     S-1-5-21-2200309403-3182498638-1868133574-1002\n",
      "         1003       testgroup2     S-1-5-21-2200309403-3182498638-1868133574-1003\n",
      " 65534    514           Guests      S-1-5-21-2200309403-3182498638-1868133574-514\n"
     ]
    }
   ],
   "source": [
    "for g in rc.groups.list_groups():\n",
    "    print \"%(gid)6s %(id)6s %(name)16s %(sid)50s\" % g\n"
   ]
  },
  {
   "cell_type": "markdown",
   "metadata": {},
   "source": [
    "## network - show current connection counts to all nodes"
   ]
  },
  {
   "cell_type": "code",
   "execution_count": 36,
   "metadata": {
    "collapsed": false,
    "deletable": true,
    "editable": true
   },
   "outputs": [
    {
     "name": "stdout",
     "output_type": "stream",
     "text": [
      "Node  1 connection count:    1  ----  First 1: 10.120.247.95/NFS\n",
      "Node  2 connection count:    0  ----  First 0: \n",
      "Node  3 connection count:    1  ----  First 1: 10.120.247.91/NFS\n",
      "Node  4 connection count:    2  ----  First 2: 10.120.247.92/NFS, 10.120.247.92/NFS\n"
     ]
    }
   ],
   "source": [
    "for c in rc.network.connections():\n",
    "    print \"Node %2s connection count: %4s  ----  First %s: %s\" % (\n",
    "            c['id'], \n",
    "            len(c['connections']),\n",
    "            min(len(c['connections']), 10), \n",
    "            ', '.join([d['network_address'] + '/' + d['type'].replace('CONNECTION_TYPE_', '') \n",
    "                       for d in c['connections']]))"
   ]
  },
  {
   "cell_type": "markdown",
   "metadata": {
    "deletable": true,
    "editable": true
   },
   "source": [
    "## nfs - list shares"
   ]
  },
  {
   "cell_type": "code",
   "execution_count": 39,
   "metadata": {
    "collapsed": false,
    "deletable": true,
    "editable": true
   },
   "outputs": [
    {
     "name": "stdout",
     "output_type": "stream",
     "text": [
      "/ -> / - \n",
      "/users/hazel -> /users/hazel - NFS share user: hazel\n",
      "/users/tommy -> /users/tommy - NFS share user: tommy\n",
      "/users/keith -> /users/keith - NFS share user: keith\n",
      "/users/sarah -> /users/sarah - NFS share user: sarah\n",
      "/users/stephanie -> /users/stephanie - NFS share user: stephanie\n",
      "/users/mashton -> /users/mashton - \n"
     ]
    }
   ],
   "source": [
    "for share in rc.nfs.nfs_list_shares():\n",
    "    print \"%(export_path)s -> %(fs_path)s - %(description)s\" % share"
   ]
  },
  {
   "cell_type": "markdown",
   "metadata": {
    "deletable": true,
    "editable": true
   },
   "source": [
    "## node_state - get current node state"
   ]
  },
  {
   "cell_type": "code",
   "execution_count": 42,
   "metadata": {
    "collapsed": false,
    "deletable": true,
    "editable": true
   },
   "outputs": [
    {
     "name": "stdout",
     "output_type": "stream",
     "text": [
      "{u'state': u'ACTIVE', u'node_id': 1, u'cluster_id': u'dd7a29af-c798-4cf5-ab74-00e0f4124afe'}\n"
     ]
    }
   ],
   "source": [
    "print rc.node_state.get_node_state()\n",
    "# (only prints the state of the node the rest client is currently connected to)"
   ]
  },
  {
   "cell_type": "markdown",
   "metadata": {
    "deletable": true,
    "editable": true
   },
   "source": [
    "## quota - list current quotas and capacity used for each"
   ]
  },
  {
   "cell_type": "code",
   "execution_count": 51,
   "metadata": {
    "collapsed": false,
    "deletable": true,
    "editable": true
   },
   "outputs": [
    {
     "name": "stdout",
     "output_type": "stream",
     "text": [
      "/justin/test1/ - id: 1381143386 - 4096 bytes used of 10000000000\n",
      "/justin/demo3/ - id: 1388146039 - 4096 bytes used of 10000000000\n",
      "/justin/demo1/ - id: 1405146087 - 4096 bytes used of 10000000000\n",
      "/justin/demo2/ - id: 1406145934 - 4096 bytes used of 10000000000\n",
      "/justin/test2/ - id: 1435143613 - 4096 bytes used of 10000000000\n"
     ]
    }
   ],
   "source": [
    "for qd in rc.quota.get_all_quotas_with_status():\n",
    "    for q in qd['quotas']:\n",
    "        print \"%(path)s - id: %(id)s - %(capacity_usage)s bytes used of %(limit)s\" % q"
   ]
  },
  {
   "cell_type": "markdown",
   "metadata": {
    "deletable": true,
    "editable": true
   },
   "source": [
    "## smb - list shares"
   ]
  },
  {
   "cell_type": "code",
   "execution_count": 53,
   "metadata": {
    "collapsed": false,
    "deletable": true,
    "editable": true
   },
   "outputs": [
    {
     "name": "stdout",
     "output_type": "stream",
     "text": [
      "Files -> / - \n",
      "testmatt -> /testmatt - \n",
      "testmatt2 -> /testmatt2 - \n",
      "testmatt3 -> /testmatt3 - \n",
      "testmatt4 -> /testmatt4 - \n",
      "testmatt5 -> /testmatt5 - \n",
      "testwill -> /testwill - \n",
      "users -> /users - \n",
      "miketest -> /miketest - \n",
      "Music -> /Music/ - Test for demo\n",
      "replication -> /replication - Dirs for SE replication demos\n"
     ]
    }
   ],
   "source": [
    "for share in rc.smb.smb_list_shares():\n",
    "    print \"%(share_name)s -> %(fs_path)s - %(description)s\" % share"
   ]
  },
  {
   "cell_type": "markdown",
   "metadata": {
    "deletable": true,
    "editable": true
   },
   "source": [
    "## snapshots - list directory-level snapshots"
   ]
  },
  {
   "cell_type": "code",
   "execution_count": 57,
   "metadata": {
    "collapsed": false,
    "deletable": true,
    "editable": true
   },
   "outputs": [
    {
     "name": "stdout",
     "output_type": "stream",
     "text": [
      "TommyRootSnapshot - / - 82062_TommyRootSnapshot - 2017-03-10T18:45:36.259121052Z\n"
     ]
    }
   ],
   "source": [
    "for snap in rc.snapshot.list_snapshots()['entries']:\n",
    "    print(\"%(name)s - %(source_path)s - %(directory_name)s - %(timestamp)s\" % snap)"
   ]
  },
  {
   "cell_type": "markdown",
   "metadata": {
    "deletable": true,
    "editable": true
   },
   "source": [
    "## support - check support/monitoring status"
   ]
  },
  {
   "cell_type": "code",
   "execution_count": 59,
   "metadata": {
    "collapsed": false,
    "deletable": true,
    "editable": true
   },
   "outputs": [
    {
     "data": {
      "text/plain": [
       "{u'enabled': True,\n",
       " u'mq_host': u'missionq.qumulo.com',\n",
       " u'mq_port': 443,\n",
       " u'period': 60,\n",
       " u's3_proxy_disable_https': False,\n",
       " u's3_proxy_host': u'monitor.qumulo.com',\n",
       " u's3_proxy_port': 443,\n",
       " u'vpn_enabled': False,\n",
       " u'vpn_host': u'ep1.qumulo.com'}"
      ]
     },
     "execution_count": 59,
     "metadata": {},
     "output_type": "execute_result"
    }
   ],
   "source": [
    "rc.support.get_config()"
   ]
  },
  {
   "cell_type": "markdown",
   "metadata": {
    "deletable": true,
    "editable": true
   },
   "source": [
    "## time_config - get current time status"
   ]
  },
  {
   "cell_type": "code",
   "execution_count": 62,
   "metadata": {
    "collapsed": false,
    "deletable": true,
    "editable": true
   },
   "outputs": [
    {
     "data": {
      "text/plain": [
       "{u'config': {u'ntp_servers': [u'0.qumulo.pool.ntp.org',\n",
       "   u'1.qumulo.pool.ntp.org'],\n",
       "  u'use_ad_for_primary': True},\n",
       " u'time': u'2017-04-03T04:51:20.490766807Z'}"
      ]
     },
     "execution_count": 62,
     "metadata": {},
     "output_type": "execute_result"
    }
   ],
   "source": [
    "rc.time_config.get_time_status()"
   ]
  },
  {
   "cell_type": "markdown",
   "metadata": {
    "deletable": true,
    "editable": true
   },
   "source": [
    "## users - list users"
   ]
  },
  {
   "cell_type": "code",
   "execution_count": 68,
   "metadata": {
    "collapsed": false,
    "deletable": true,
    "editable": true
   },
   "outputs": [
    {
     "name": "stdout",
     "output_type": "stream",
     "text": [
      "    qumulo -       -  1000 -  513 - S-1-5-21-2200309403-3182498638-1868133574-1000\n",
      "     guest - 65534 -   501 -  514 - S-1-5-21-2200309403-3182498638-1868133574-501\n",
      "  testmatt -  2001 -  1001 -  513 - S-1-5-21-2200309403-3182498638-1868133574-1001\n",
      "      mike -       -  1004 -  513 - S-1-5-21-2200309403-3182498638-1868133574-1004\n",
      "        SE -       -  1005 -  513 - S-1-5-21-2200309403-3182498638-1868133574-1005\n",
      "     admin -     0 -   500 -  513 - S-1-5-21-2200309403-3182498638-1868133574-500\n"
     ]
    }
   ],
   "source": [
    "for user in rc.users.list_users():\n",
    "    print(\"%(name)10s - %(uid)5s - %(id)5s - %(primary_group)4s - %(sid)s\" % user)"
   ]
  },
  {
   "cell_type": "code",
   "execution_count": null,
   "metadata": {
    "collapsed": true
   },
   "outputs": [],
   "source": []
  }
 ],
 "metadata": {
  "kernelspec": {
   "display_name": "Python 2",
   "language": "python",
   "name": "python2"
  },
  "language_info": {
   "codemirror_mode": {
    "name": "ipython",
    "version": 2
   },
   "file_extension": ".py",
   "mimetype": "text/x-python",
   "name": "python",
   "nbconvert_exporter": "python",
   "pygments_lexer": "ipython2",
   "version": "2.7.12"
  }
 },
 "nbformat": 4,
 "nbformat_minor": 2
}
