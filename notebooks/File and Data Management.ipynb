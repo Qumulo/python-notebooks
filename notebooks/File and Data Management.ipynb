{
 "cells": [
  {
   "cell_type": "markdown",
   "metadata": {
    "deletable": true,
    "editable": true
   },
   "source": [
    "# File and Data Management with Qumulo API python bindings\n",
    "\n",
    "This jupyter notebook walks through some of the basics of file and data management with Qumulo API python bindings.\n",
    "\n"
   ]
  },
  {
   "cell_type": "code",
   "execution_count": 68,
   "metadata": {
    "collapsed": true,
    "deletable": true,
    "editable": true
   },
   "outputs": [],
   "source": [
    "import os\n",
    "import re\n",
    "import sys\n",
    "import StringIO\n",
    "from qumulo.lib.request import RequestError\n",
    "from qumulo.rest_client import RestClient"
   ]
  },
  {
   "cell_type": "code",
   "execution_count": 69,
   "metadata": {
    "collapsed": false,
    "deletable": true,
    "editable": true
   },
   "outputs": [],
   "source": [
    "# set your environment variables or fill in the variables below\n",
    "API_HOSTNAME = os.environ['API_HOSTNAME'] if 'API_HOSTNAME' in os.environ else '{your-cluster-hostname}'\n",
    "API_USER =     os.environ['API_USER']     if 'API_USER'     in os.environ else '{api-cluster-user}'\n",
    "API_PASSWORD = os.environ['API_PASSWORD'] if 'API_PASSWORD' in os.environ else '{api-cluster-password}'"
   ]
  },
  {
   "cell_type": "code",
   "execution_count": 70,
   "metadata": {
    "collapsed": false,
    "deletable": true,
    "editable": true
   },
   "outputs": [
    {
     "name": "stdout",
     "output_type": "stream",
     "text": [
      "logged in as: admin\n"
     ]
    }
   ],
   "source": [
    "rc = RestClient(API_HOSTNAME, 8000)\n",
    "rc.login(API_USER, API_PASSWORD)\n",
    "print(\"logged in as: %(name)s\" % rc.auth.who_am_i())"
   ]
  },
  {
   "cell_type": "markdown",
   "metadata": {},
   "source": [
    "# A few Qumulo API file and direcotory python bindings\n",
    "\n",
    "### fs.create_directory\n",
    "\n",
    "arguments:\n",
    "- **name**: Name of directory to be created\n",
    "- **dir_path**\\*: Destination path for the parent of created directory\n",
    "- **dir_id**\\*: Destination inode id for the parent of the created directory\n",
    "\n",
    "\\*Either **dir_path** or **dir_id** is required\n",
    "\n",
    "_________________________________________________________________________________\n",
    "\n",
    "\n",
    "### fs.create_file\n",
    "\n",
    "arguments:\n",
    "- **name**: Name of file to be created\n",
    "- **dir_path**: Destination path for the directory of created file\n",
    "- **dir_id**: Destination inode id for the directory of the created file\n",
    "\n",
    "_________________________________________________________________________________\n",
    "\n",
    "\n",
    "### fs.write_file\n",
    "\n",
    "arguments:\n",
    "- **data_file**: A python object of the local file's content\n",
    "- **path**: Destination file path on Qumulo \n",
    "- **id_**: Destination inode file id on Qumulo\n",
    "- **if_match**:\n",
    "\n",
    "_________________________________________________________________________________\n",
    "\n",
    "\n",
    "### fs.get_attr\n",
    "arguments:\n",
    "- **path**:\n",
    "- **id_**:\n",
    "- **snapshot**:"
   ]
  },
  {
   "cell_type": "markdown",
   "metadata": {},
   "source": [
    "## Create a working directory for this exercise"
   ]
  },
  {
   "cell_type": "code",
   "execution_count": 71,
   "metadata": {
    "collapsed": false
   },
   "outputs": [
    {
     "name": "stdout",
     "output_type": "stream",
     "text": [
      "Exception: fs_entry_exists_error - Details: Error 409: fs_entry_exists_error: { ino=2203379931 }\n",
      "\n",
      "                 id - 2203379931\n",
      "               size - 1024\n",
      "               path - /test-qumulo-fs-data/\n",
      "        change_time - 2017-05-02T19:24:26.493575055Z\n"
     ]
    }
   ],
   "source": [
    "base_path = '/'\n",
    "dir_name = 'test-qumulo-fs-data'\n",
    "\n",
    "try:\n",
    "    the_dir_meta = rc.fs.create_directory(dir_path=base_path, name=dir_name)\n",
    "    print(\"Successfully created %s%s.\" % (base_path, dir_name))\n",
    "except RequestError as e:\n",
    "    print(\"** Exception: %s - Details: %s\\n\" % (e.error_class,e))\n",
    "    if e.error_class == 'fs_entry_exists_error':\n",
    "        the_dir_meta = rc.fs.get_attr(base_path + dir_name)\n",
    "\n",
    "for k, v in the_dir_meta.iteritems():\n",
    "    if re.search('(id|size|path|change_time)', k):\n",
    "        print(\"%19s - %s\" % (k, v))"
   ]
  },
  {
   "cell_type": "markdown",
   "metadata": {},
   "source": [
    "## Create a file in an existing path"
   ]
  },
  {
   "cell_type": "code",
   "execution_count": 73,
   "metadata": {
    "collapsed": false,
    "scrolled": false
   },
   "outputs": [
    {
     "name": "stdout",
     "output_type": "stream",
     "text": [
      "** Exception: fs_entry_exists_error - Details: Error 409: fs_entry_exists_error: { ino=2206379876 }\n",
      "\n",
      "We've got a file. Its id is: 2206379876\n"
     ]
    }
   ],
   "source": [
    "file_name = 'first-file.txt'\n",
    "\n",
    "# relies on the base path and direcotry name created in the code above.\n",
    "try:\n",
    "    the_file_meta = rc.fs.create_file(name=file_name, dir_path=base_path + dir_name)\n",
    "except RequestError as e:\n",
    "    print(\"** Exception: %s - Details: %s\\n\" % (e.error_class,e))\n",
    "    if e.error_class == 'fs_entry_exists_error':\n",
    "        the_file_meta = rc.fs.get_attr(base_path + dir_name + '/' + file_name)\n",
    "print(\"We've got a file. Its id is: %s\" % the_file_meta['id'])"
   ]
  },
  {
   "cell_type": "code",
   "execution_count": 74,
   "metadata": {
    "collapsed": false
   },
   "outputs": [
    {
     "name": "stdout",
     "output_type": "stream",
     "text": [
      "name: /test-qumulo-fs-data/first-file.txt\n",
      "bytes: 5300\n",
      "mod time: 2017-05-02T19:45:00.372716888Z\n"
     ]
    }
   ],
   "source": [
    "# writing a local file from /tmp/ to the qumulo cluster\n",
    "fw = open(\"/tmp/local-file-from-temp.txt\", \"w\")\n",
    "fw.write(\"Let's write 100 sentences on this virtual chalkboard\\n\" * 100)\n",
    "fw.close()\n",
    "\n",
    "write_file_meta = rc.fs.write_file(data_file=open(\"/tmp/local-file-from-temp.txt\"), \n",
    "                                   path=base_path + dir_name + '/' + file_name)\n",
    "\n",
    "print(\"\"\"name: %(path)s\n",
    "bytes: %(size)s\n",
    "mod time: %(modification_time)s\"\"\" % write_file_meta)"
   ]
  },
  {
   "cell_type": "code",
   "execution_count": 75,
   "metadata": {
    "collapsed": false
   },
   "outputs": [
    {
     "name": "stdout",
     "output_type": "stream",
     "text": [
      "Exception: fs_entry_exists_error - Details: Error 409: fs_entry_exists_error: { ino=2142379950 }\n",
      "\n",
      "name: /test-qumulo-fs-data/write-from-string-io.txt\n",
      "bytes: 10600\n",
      "mod time: 2017-05-02T19:45:32.137036906Z\n"
     ]
    }
   ],
   "source": [
    "string_io_file_name = 'write-from-string-io.txt'\n",
    "\n",
    "try:\n",
    "    rc.fs.create_file(name=string_io_file_name, dir_path=base_path + dir_name)\n",
    "except RequestError as e:\n",
    "    print(\"Exception: %s - Details: %s\\n\" % (e.error_class,e))\n",
    "\n",
    "fw = StringIO.StringIO()\n",
    "fw.write(\"Let's write 200 sentences on this virtual chalkboard\\n\" * 200)\n",
    "write_file_meta = rc.fs.write_file(data_file=fw, \n",
    "                                   path=base_path + dir_name + '/' + string_io_file_name)\n",
    "fw.close()\n",
    "print(\"\"\"name: %(path)s\n",
    "bytes: %(size)s\n",
    "mod time: %(modification_time)s\"\"\" % write_file_meta)"
   ]
  },
  {
   "cell_type": "code",
   "execution_count": null,
   "metadata": {
    "collapsed": true
   },
   "outputs": [],
   "source": []
  }
 ],
 "metadata": {
  "kernelspec": {
   "display_name": "Python 2",
   "language": "python",
   "name": "python2"
  },
  "language_info": {
   "codemirror_mode": {
    "name": "ipython",
    "version": 2
   },
   "file_extension": ".py",
   "mimetype": "text/x-python",
   "name": "python",
   "nbconvert_exporter": "python",
   "pygments_lexer": "ipython2",
   "version": "2.7.12"
  }
 },
 "nbformat": 4,
 "nbformat_minor": 2
}
