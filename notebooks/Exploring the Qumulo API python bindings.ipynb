{
 "cells": [
  {
   "cell_type": "markdown",
   "metadata": {},
   "source": [
    "# Deep dive into the Qumulo API python bindings\n",
    "\n",
    "**<span style=\"background-color: #FFBBAA; padding: 5px;\">This data is current as of Qumulo Version 2.14.0</span>**\n",
    "\n",
    "This notebook helps a user explore the Qumulo API python bindings. First, it will list out all of the supported Qunmulo API python modules and functions. **Don't forget to run <code>pip install qumulo_api</code> first.**\n",
    "\n",
    "After listing all of the defined python functions, it demonstrates one (ore more) functions inside each of python modules. All code examples below are will only read data and configuration from your Qumulo cluster."
   ]
  },
  {
   "cell_type": "code",
   "execution_count": 1,
   "metadata": {},
   "outputs": [],
   "source": [
    "import qumulo\n",
    "import os\n",
    "import glob\n",
    "import re\n",
    "import time\n",
    "import StringIO\n",
    "from datetime import datetime\n",
    "import dateutil.parser as date_parser\n",
    "from qumulo.rest_client import RestClient"
   ]
  },
  {
   "cell_type": "code",
   "execution_count": 2,
   "metadata": {},
   "outputs": [
    {
     "data": {
      "application/javascript": [
       "// this will prevent the large output window below from being boxed in.\n",
       "IPython.OutputArea.auto_scroll_threshold = 9999;"
      ],
      "text/plain": [
       "<IPython.core.display.Javascript object>"
      ]
     },
     "metadata": {},
     "output_type": "display_data"
    }
   ],
   "source": [
    "%%javascript\n",
    "// this will prevent the large output window below from being boxed in.\n",
    "IPython.OutputArea.auto_scroll_threshold = 9999;"
   ]
  },
  {
   "cell_type": "code",
   "execution_count": 3,
   "metadata": {},
   "outputs": [],
   "source": [
    "# set your environment variables or fill in the variables below\n",
    "API_HOSTNAME = os.environ['API_HOSTNAME'] if 'API_HOSTNAME' in os.environ else 'product'\n",
    "API_USER =     os.environ['API_USER']     if 'API_USER'     in os.environ else 'admin'\n",
    "API_PASSWORD = os.environ['API_PASSWORD'] if 'API_PASSWORD' in os.environ else ''"
   ]
  },
  {
   "cell_type": "markdown",
   "metadata": {},
   "source": [
    "### Inspect all of the Qumulo python bindings and show methods"
   ]
  },
  {
   "cell_type": "code",
   "execution_count": 4,
   "metadata": {},
   "outputs": [
    {
     "name": "stdout",
     "output_type": "stream",
     "text": [
      "\n",
      "--------------------------------------------------------------------------------\n",
      "Area: auth.py\n",
      "   rc.auth.change_password(old_password, new_password)\n",
      "   rc.auth.who_am_i()\n",
      "   rc.auth.auth_id_to_all_related_identities(auth_id)\n",
      "   rc.auth.posix_uid_to_all_related_identities(posix_uid)\n",
      "   rc.auth.posix_gid_to_all_related_identities(posix_gid)\n",
      "   rc.auth.sid_to_all_related_identities(sid)\n",
      "   rc.auth.local_username_to_all_related_identities(username)\n",
      "   rc.auth.get_identity_attributes(auth_id)\n",
      "   rc.auth.set_identity_attributes(auth_id, attributes)\n",
      "   rc.auth.delete_identity_attributes(auth_id)\n",
      "   rc.auth.user_defined_mappings_set(mappings)\n",
      "   rc.auth.user_defined_mappings_get()\n",
      "   rc.auth.clear_cache()\n",
      "   rc.auth.expand_identity(_id, aux_equivalent_ids, aux_group_ids)\n",
      "\n",
      "--------------------------------------------------------------------------------\n",
      "Area: ldap.py\n",
      "   rc.ldap.settings_set_v2(bind_uri, base_distinguished_names, use_ldap, user ...)\n",
      "   rc.ldap.settings_get_v2()\n",
      "   rc.ldap.settings_update_v2(bind_uri, base_distinguished_names, use_ldap, user ...)\n",
      "   rc.ldap.status_get()\n",
      "   rc.ldap.uid_number_to_login_name_get(uid_number)\n",
      "   rc.ldap.login_name_to_gid_numbers_get(login_name)\n",
      "   rc.ldap.login_name_to_uid_numbers_get(uid)\n",
      "\n",
      "--------------------------------------------------------------------------------\n",
      "Area: support.py\n",
      "   rc.support.get_config()\n",
      "   rc.support.set_config(enabled, mq_host, mq_port, mq_proxy_host ...)\n",
      "   rc.support.get_monitoring_status()\n",
      "   rc.support.put_local_monitoring_status(status)\n",
      "   rc.support.get_vpn_keys()\n",
      "   rc.support.install_vpn_keys(vpn_keys)\n",
      "\n",
      "--------------------------------------------------------------------------------\n",
      "Area: version.py\n",
      "   rc.version.version()\n",
      "\n",
      "--------------------------------------------------------------------------------\n",
      "Area: audit.py\n",
      "   rc.audit.get_config()\n",
      "   rc.audit.set_config(enabled, server_address, server_port, etag)\n",
      "   rc.audit.get_status()\n",
      "\n",
      "--------------------------------------------------------------------------------\n",
      "Area: time_config.py\n",
      "   rc.time_config.get_time()\n",
      "   rc.time_config.set_time(use_ad_for_primary, ntp_servers)\n",
      "   rc.time_config.get_time_status()\n",
      "   rc.time_config.list_timezones()\n",
      "\n",
      "--------------------------------------------------------------------------------\n",
      "Area: dns.py\n",
      "   rc.dns.resolve(ips)\n",
      "   rc.dns.resolve_ips_to_names(ips)\n",
      "   rc.dns.resolve_names_to_ips(ips)\n",
      "   rc.dns.lookup_overrides_get()\n",
      "   rc.dns.lookup_overrides_set(overrides)\n",
      "\n",
      "--------------------------------------------------------------------------------\n",
      "Area: users.py\n",
      "   rc.users.list_users()\n",
      "   rc.users.add_user(name, primary_group, uid, home_directory)\n",
      "   rc.users.list_user(user_id)\n",
      "   rc.users.modify_user(user_id, name, primary_group, uid ...)\n",
      "   rc.users.delete_user(user_id)\n",
      "   rc.users.list_groups_for_user(user_id)\n",
      "   rc.users.set_user_password(user_id, new_password)\n",
      "   rc.users.get_user_id(value)\n",
      "   rc.users.unpack_identity(auth_id)\n",
      "\n",
      "--------------------------------------------------------------------------------\n",
      "Area: roles.py\n",
      "   rc.roles.list_roles()\n",
      "   rc.roles.list_role(role_name)\n",
      "   rc.roles.add_member(role_name, **attrs)\n",
      "   rc.roles.remove_member(role_name, **attrs)\n",
      "\n",
      "--------------------------------------------------------------------------------\n",
      "Area: smb.py\n",
      "   rc.smb.smb_list_shares_v1()\n",
      "   rc.smb.smb_list_share_v1(id_)\n",
      "   rc.smb.smb_list_shares()\n",
      "   rc.smb.smb_list_share(id_, name)\n",
      "   rc.smb.smb_add_share(share_name, fs_path, description, read_only ...)\n",
      "   rc.smb.smb_modify_share(id_, old_name, share_name, fs_path ...)\n",
      "   rc.smb.smb_set_share(id_, share_name, fs_path, description ...)\n",
      "   rc.smb.smb_delete_share(id_, name)\n",
      "   rc.smb.set_smb_settings(setting)\n",
      "   rc.smb.patch_smb_settings(setting)\n",
      "   rc.smb.get_smb_settings()\n",
      "\n",
      "--------------------------------------------------------------------------------\n",
      "Area: node_state.py\n",
      "   rc.node_state.get_node_state()\n",
      "\n",
      "--------------------------------------------------------------------------------\n",
      "Area: quota.py\n",
      "   rc.quota.get_all_quotas(page_size, if_match)\n",
      "   rc.quota.get_all_quotas_with_status(page_size, if_match)\n",
      "   rc.quota.get_quota_with_status(id_, if_match)\n",
      "   rc.quota.get_quota(id_, if_match)\n",
      "   rc.quota.create_quota(id_, limit_in_bytes)\n",
      "   rc.quota.update_quota(id_, limit_in_bytes, if_match)\n",
      "   rc.quota.delete_quota(id_, if_match)\n",
      "\n",
      "--------------------------------------------------------------------------------\n",
      "Area: shutdown.py\n",
      "   rc.shutdown.halt()\n",
      "   rc.shutdown.restart()\n",
      "   rc.shutdown.halt_cluster()\n",
      "   rc.shutdown.restart_cluster()\n",
      "\n",
      "--------------------------------------------------------------------------------\n",
      "Area: groups.py\n",
      "   rc.groups.list_groups()\n",
      "   rc.groups.add_group(name, gid)\n",
      "   rc.groups.list_group(group_id)\n",
      "   rc.groups.modify_group(group_id, name, gid, if_match)\n",
      "   rc.groups.delete_group(group_id)\n",
      "   rc.groups.group_get_members(group_id)\n",
      "   rc.groups.group_add_member(group_id, member_id)\n",
      "   rc.groups.group_remove_member(group_id, member_id)\n",
      "   rc.groups.get_group_id(value)\n",
      "\n",
      "--------------------------------------------------------------------------------\n",
      "Area: unconfigured_node_operations.py\n",
      "   rc.unconfigured_node_operations.unconfigured()\n",
      "   rc.unconfigured_node_operations.list_unconfigured_nodes()\n",
      "   rc.unconfigured_node_operations.add_node(node_uuids)\n",
      "\n",
      "--------------------------------------------------------------------------------\n",
      "Area: upgrade.py\n",
      "   rc.upgrade.config_get()\n",
      "   rc.upgrade.config_put(install_path, target, override_version)\n",
      "   rc.upgrade.status_get()\n",
      "\n",
      "--------------------------------------------------------------------------------\n",
      "Area: cluster.py\n",
      "   rc.cluster.list_nodes()\n",
      "   rc.cluster.list_node(node)\n",
      "   rc.cluster.get_cluster_conf()\n",
      "   rc.cluster.put_cluster_conf(cluster_name)\n",
      "   rc.cluster.set_ssl_certificate(certificate, private_key)\n",
      "   rc.cluster.set_ssl_ca_certificate(ca_cert)\n",
      "   rc.cluster.get_ssl_ca_certificate()\n",
      "   rc.cluster.delete_ssl_ca_certificate()\n",
      "   rc.cluster.get_cluster_slots_status()\n",
      "   rc.cluster.get_cluster_slot_status(slot)\n",
      "   rc.cluster.get_restriper_status()\n",
      "   rc.cluster.get_protection_status()\n",
      "   rc.cluster.set_node_identify_light(node, light_visible)\n",
      "   rc.cluster.get_node_chassis_status(node)\n",
      "   rc.cluster.create_cluster(cluster_name, admin_password, node_uuids, node_ips ...)\n",
      "   rc.cluster.add_node(node_uuids, node_ips)\n",
      "\n",
      "--------------------------------------------------------------------------------\n",
      "Area: fs.py\n",
      "   rc.fs.read_fs_stats()\n",
      "   rc.fs.set_acl(path, id_, control, aces ...)\n",
      "   rc.fs.set_acl_v2(acl, path, id_, if_match)\n",
      "   rc.fs.get_attr(path, id_, snapshot)\n",
      "   rc.fs.set_attr(mode, owner, group, modification_time ...)\n",
      "   rc.fs.get_file_attr(id_, path, snapshot, stream_id)\n",
      "   rc.fs.set_file_attr(mode, owner, group, size ...)\n",
      "   rc.fs.write_file(data_file, path, id_, if_match ...)\n",
      "   rc.fs.get_acl(path, id_, snapshot)\n",
      "   rc.fs.get_acl_v2(path, id_, snapshot)\n",
      "   rc.fs.read_directory(page_size, path, id_, snapshot ...)\n",
      "   rc.fs.read_file(file_, path, id_, snapshot ...)\n",
      "   rc.fs.create_file(name, dir_path, dir_id)\n",
      "   rc.fs.create_unix_file(name, file_type, major_minor_numbers, dir_path ...)\n",
      "   rc.fs.create_directory(name, dir_path, dir_id)\n",
      "   rc.fs.create_symlink(name, target, dir_path, dir_id ...)\n",
      "   rc.fs.create_link(name, target, dir_path, dir_id)\n",
      "   rc.fs.rename(name, source, dir_path, dir_id ...)\n",
      "   rc.fs.delete(path, id_)\n",
      "   rc.fs.delete_tree(path, id_)\n",
      "   rc.fs.tree_delete_status(path, id_)\n",
      "   rc.fs.read_dir_aggregates(path, recursive, max_entries, max_depth ...)\n",
      "   rc.fs.get_file_samples(path, count, by_value, id_)\n",
      "   rc.fs.resolve_paths(ids, snapshot)\n",
      "   rc.fs.punch_hole(offset, size, path, id_ ...)\n",
      "   rc.fs.list_waiters_by_file(protocol, lock_type, file_path, file_id ...)\n",
      "   rc.fs.list_waiters_by_client(protocol, lock_type, owner_name, owner_address ...)\n",
      "   rc.fs.list_all_waiters_by_file(protocol, lock_type, file_path, file_id ...)\n",
      "   rc.fs.list_all_waiters_by_client(protocol, lock_type, owner_name, owner_address ...)\n",
      "   rc.fs.list_locks_by_file(protocol, lock_type, file_path, file_id ...)\n",
      "   rc.fs.list_locks_by_client(protocol, lock_type, owner_name, owner_address ...)\n",
      "   rc.fs.list_all_locks_by_file(protocol, lock_type, file_path, file_id ...)\n",
      "   rc.fs.list_all_locks_by_client(protocol, lock_type, owner_name, owner_address ...)\n",
      "   rc.fs.release_nlm_locks_by_client(owner_name, owner_address)\n",
      "   rc.fs.release_nlm_lock(offset, size, owner_id, file_path ...)\n",
      "   rc.fs.read_entire_directory(page_size, path, id_, snapshot ...)\n",
      "   rc.fs.enumerate_entire_directory(**kwargs)\n",
      "   rc.fs.tree_walk_preorder(path)\n",
      "   rc.fs.tree_walk_postorder(path)\n",
      "   rc.fs.delete_tree_sync(path, id_, poll_interval)\n",
      "   rc.fs.acl_explain_chmod(path, id_, mode)\n",
      "   rc.fs.acl_explain_rights(user, group, ids, path ...)\n",
      "   rc.fs.get_permissions_settings()\n",
      "   rc.fs.set_permissions_settings(mode)\n",
      "   rc.fs.list_named_streams(path, id_, snapshot)\n",
      "   rc.fs.create_stream(stream_name, path, id_)\n",
      "   rc.fs.remove_stream(stream_id, path, id_)\n",
      "   rc.fs.rename_stream(old_id, new_name, path, id_ ...)\n",
      "\n",
      "--------------------------------------------------------------------------------\n",
      "Area: replication.py\n",
      "   rc.replication.replicate(relationship)\n",
      "   rc.replication.create_source_relationship(target_path, address, source_id, source_path ...)\n",
      "   rc.replication.list_source_relationships()\n",
      "   rc.replication.get_source_relationship(relationship_id)\n",
      "   rc.replication.delete_source_relationship(relationship_id)\n",
      "   rc.replication.delete_target_relationship(relationship_id)\n",
      "   rc.replication.modify_source_relationship(relationship_id, new_target_address, new_target_port, source_root_read_only ...)\n",
      "   rc.replication.list_source_relationship_statuses()\n",
      "   rc.replication.list_target_relationship_statuses()\n",
      "   rc.replication.get_source_relationship_status(relationship_id)\n",
      "   rc.replication.get_target_relationship_status(relationship_id)\n",
      "   rc.replication.authorize(relationship_id, allow_non_empty_directory, allow_fs_path_create)\n",
      "   rc.replication.reconnect_target_relationship(relationship_id)\n",
      "   rc.replication.abort_replication(relationship_id)\n",
      "   rc.replication.make_target_writable(relationship_id)\n",
      "   rc.replication.reverse_target_relationship(relationship_id, source_address, source_port)\n",
      "   rc.replication.dismiss_source_relationship_error(relationship_id)\n",
      "   rc.replication.dismiss_target_relationship_error(relationship_id)\n",
      "   rc.replication.list_queued_snapshots(relationship_id)\n",
      "   rc.replication.release_queued_snapshot(relationship_id, snapshot_id)\n",
      "\n",
      "--------------------------------------------------------------------------------\n",
      "Area: network.py\n",
      "   rc.network.get_cluster_network_config()\n",
      "   rc.network.modify_cluster_network_config(**kwargs)\n",
      "   rc.network.list_network_status()\n",
      "   rc.network.get_network_status(node)\n",
      "   rc.network.list_interfaces()\n",
      "   rc.network.get_interface(interface_id)\n",
      "   rc.network.list_networks(interface_id)\n",
      "   rc.network.get_network(interface_id, network_id)\n",
      "   rc.network.modify_interface(interface_id, **kwargs)\n",
      "   rc.network.add_network(interface_id, **kwargs)\n",
      "   rc.network.delete_network(interface_id, network_id)\n",
      "   rc.network.modify_network(interface_id, network_id, **kwargs)\n",
      "   rc.network.set_dhcp_network(interface_id, network_id, name, floating_ip_ranges ...)\n",
      "   rc.network.list_network_status_v2(interface_id)\n",
      "   rc.network.get_network_status_v2(interface_id, node_id)\n",
      "   rc.network.get_static_ip_allocation(try_ranges, try_netmask, try_floating_ranges)\n",
      "   rc.network.get_floating_ip_allocation()\n",
      "   rc.network.connections()\n",
      "\n",
      "--------------------------------------------------------------------------------\n",
      "Area: kerberos.py\n",
      "   rc.kerberos.set_keytab_file(keytab_file)\n",
      "   rc.kerberos.set_keytab(keytab_contents)\n",
      "   rc.kerberos.delete_keytab()\n",
      "   rc.kerberos.get_keytab()\n",
      "   rc.kerberos.modify_settings(use_alt_security_identities_mapping)\n",
      "   rc.kerberos.get_settings()\n",
      "\n",
      "--------------------------------------------------------------------------------\n",
      "Area: nfs.py\n",
      "   rc.nfs.nfs_list_shares()\n",
      "   rc.nfs.nfs_add_share(export_path, fs_path, description, restrictions ...)\n",
      "   rc.nfs.nfs_list_share(id_)\n",
      "   rc.nfs.nfs_modify_share(id_, export_path, fs_path, description ...)\n",
      "   rc.nfs.nfs_delete_share(id_)\n",
      "   rc.nfs.nfs_list_exports()\n",
      "   rc.nfs.nfs_add_export(export_path, fs_path, description, restrictions ...)\n",
      "   rc.nfs.nfs_get_export(id_, export_path)\n",
      "   rc.nfs.nfs_modify_export(id_, export_path, fs_path, description ...)\n",
      "   rc.nfs.nfs_delete_export(id_, export_path)\n",
      "\n",
      "--------------------------------------------------------------------------------\n",
      "Area: analytics.py\n",
      "   rc.analytics.time_series_get(begin_time)\n",
      "   rc.analytics.iops_get(specific_type)\n",
      "   rc.analytics.current_activity_get(specific_type)\n",
      "   rc.analytics.capacity_history_get(interval, begin_time, end_time)\n",
      "   rc.analytics.capacity_history_files_get(timestamp)\n",
      "\n",
      "--------------------------------------------------------------------------------\n",
      "Area: ad.py\n",
      "   rc.ad.list_ad()\n",
      "   rc.ad.poll_ad()\n",
      "   rc.ad.join_ad(domain, username, password, ou ...)\n",
      "   rc.ad.leave_ad(domain, username, password)\n",
      "   rc.ad.cancel_ad()\n",
      "   rc.ad.uid_to_sid_get(uid)\n",
      "   rc.ad.username_to_sid_get(name)\n",
      "   rc.ad.name_to_ad_accounts(name)\n",
      "   rc.ad.sid_to_uid_get(sid)\n",
      "   rc.ad.sid_to_username_get(sid)\n",
      "   rc.ad.sid_to_gid_get(sid)\n",
      "   rc.ad.sid_to_ad_account(sid)\n",
      "   rc.ad.gid_to_sid_get(gid)\n",
      "   rc.ad.sid_to_expanded_group_sids_get(sid)\n",
      "   rc.ad.clear_cache_post()\n",
      "   rc.ad.distinguished_name_to_ad_account(distinguished_name)\n",
      "\n",
      "--------------------------------------------------------------------------------\n",
      "Area: ftp.py\n",
      "   rc.ftp.get_status()\n",
      "   rc.ftp.get_settings()\n",
      "   rc.ftp.modify_settings(enabled, check_remote_host, log_operations, chroot_users ...)\n",
      "\n",
      "--------------------------------------------------------------------------------\n",
      "Area: snapshot.py\n",
      "   rc.snapshot.create_snapshot(name, expiration, time_to_live, path ...)\n",
      "   rc.snapshot.modify_snapshot(snapshot_id, expiration, time_to_live)\n",
      "   rc.snapshot.list_snapshots(include_in_delete)\n",
      "   rc.snapshot.get_snapshot(snapshot_id)\n",
      "   rc.snapshot.list_snapshot_statuses()\n",
      "   rc.snapshot.get_snapshot_status(snapshot_id)\n",
      "   rc.snapshot.delete_snapshot(snapshot_id)\n",
      "   rc.snapshot.create_policy(name, schedule_info, directory_id, enabled)\n",
      "   rc.snapshot.modify_policy(policy_id, name, schedule_info, enabled ...)\n",
      "   rc.snapshot.list_policies()\n",
      "   rc.snapshot.get_policy(policy_id)\n",
      "   rc.snapshot.delete_policy(policy_id)\n",
      "   rc.snapshot.list_policy_statuses()\n",
      "   rc.snapshot.get_policy_status(policy_id)\n",
      "   rc.snapshot.get_total_used_capacity()\n",
      "   rc.snapshot.calculate_used_capacity(ids)\n",
      "   rc.snapshot.capacity_used_per_snapshot()\n",
      "   rc.snapshot.capacity_used_by_snapshot(snapshot_id)\n",
      "   rc.snapshot.get_snapshot_tree_diff(newer_snap, older_snap, limit, after)\n",
      "   rc.snapshot.get_all_snapshot_tree_diff(newer_snap, older_snap, limit)\n",
      "   rc.snapshot.get_snapshot_file_diff(newer_snap, older_snap, path, file_id ...)\n",
      "   rc.snapshot.get_all_snapshot_file_diff(newer_snap, older_snap, path, file_id ...)\n"
     ]
    }
   ],
   "source": [
    "qumulo_lib_path = os.path.dirname(qumulo.__file__) + '/rest'\n",
    "\n",
    "total_matches = 0\n",
    "for f in glob.glob(qumulo_lib_path + '/*.py'):\n",
    "    file_name = os.path.basename(f)\n",
    "    if file_name == '__init__.py':\n",
    "        continue\n",
    "    print \"\"\n",
    "    print \"-\"*80\n",
    "    print \"Area: %s\" % (file_name, )\n",
    "    c = open(f, 'r').read()\n",
    "    rx_str = '@request.request[ \\r\\n]+def ([^(]+)\\([ \\r\\n]*conninfo,[ \\r\\n]*credentials([^\\)]*)(.*?)(return|yield)'\n",
    "    ms = re.findall(rx_str, c, re.S|re.M)\n",
    "    for m in ms:\n",
    "        total_matches += 1\n",
    "        func_name = m[0]\n",
    "        \n",
    "        # get arguments\n",
    "        args = []\n",
    "        arg_ms = m[1].split(',')\n",
    "        for arg_m in arg_ms:\n",
    "            if arg_m.strip() != \"\":\n",
    "                args.append(re.sub('=.*', '', arg_m.strip()))\n",
    "\n",
    "        # method\n",
    "        method = \"GET\"\n",
    "        method_m = re.search('method[ ]*=[ ]*\"([A-Z]+)', m[2])\n",
    "        if method_m is not None:\n",
    "            method = method_m.group(1)\n",
    "\n",
    "        # uri, currently more work for fs methods\n",
    "        uri = \"/\"\n",
    "        uri_m = re.search('uri[ ]*=.*?\"([^\"]+)', m[2])\n",
    "        if uri_m is not None:\n",
    "            uri = uri_m.group(1)\n",
    "        uri_m = re.search('uri[ ]*=.*?\\'([^\\']+)', m[2])\n",
    "        if uri_m is not None:\n",
    "            uri = uri_m.group(1)\n",
    "\n",
    "        print \"   rc.%s.%s(%s)\" % (file_name.replace('.py', ''), \n",
    "                                   func_name, \n",
    "                                   ', '.join(args[:4]) + (' ...' if len(args)>4 else ''))\n"
   ]
  },
  {
   "cell_type": "markdown",
   "metadata": {},
   "source": [
    "### Create a new python REST client instance and login."
   ]
  },
  {
   "cell_type": "code",
   "execution_count": 5,
   "metadata": {
    "scrolled": true
   },
   "outputs": [
    {
     "data": {
      "text/plain": [
       "<qumulo.lib.auth.Credentials at 0x10fa25210>"
      ]
     },
     "execution_count": 5,
     "metadata": {},
     "output_type": "execute_result"
    }
   ],
   "source": [
    "# Create a new reset client and login.\n",
    "rc = RestClient(API_HOSTNAME, 8000)\n",
    "rc.login(API_USER, API_PASSWORD)"
   ]
  },
  {
   "cell_type": "markdown",
   "metadata": {},
   "source": [
    "### Show Qumulo API python client library version and Qumulo cluster software version"
   ]
  },
  {
   "cell_type": "code",
   "execution_count": 6,
   "metadata": {},
   "outputs": [
    {
     "name": "stdout",
     "output_type": "stream",
     "text": [
      "Qumulo API python library version: 2.14.0\n",
      "Qumulo Cluster software version: 2.14.0\n",
      "Qumulo Cluster software version is: 31 days old.\n"
     ]
    }
   ],
   "source": [
    "# if qumulo_api is installed via pip, this will return its version.\n",
    "cmd_output = !pip show qumulo_api\n",
    "\n",
    "# parse out results if \"pip show\"\n",
    "pip_version = '! Unknown !'\n",
    "for line in cmd_output:\n",
    "    parts = line.split(':')\n",
    "    if parts[0] == 'Version':\n",
    "        pip_version = parts[1]\n",
    "\n",
    "print(\"Qumulo API python library version: %s\" % (pip_version.strip(),))\n",
    "\n",
    "# get the Qumulo cluster software version via the API\n",
    "cluster_version = rc.version.version()\n",
    "print(\"Qumulo Cluster software version: %s\" % (cluster_version['revision_id'].replace('Qumulo Core ', ''),))\n",
    "\n",
    "# How old is the current build on the Qumulo cluster?\n",
    "build_time = int(date_parser.parse(cluster_version['build_date']).strftime('%s'))\n",
    "cur_time = time.time()\n",
    "print(\"Qumulo Cluster software version is: %d days old.\" % ((cur_time - build_time)/(60*60*24),))"
   ]
  },
  {
   "cell_type": "markdown",
   "metadata": {},
   "source": [
    "## Active Directory (ad) - list AD status"
   ]
  },
  {
   "cell_type": "code",
   "execution_count": 7,
   "metadata": {
    "scrolled": false
   },
   "outputs": [
    {
     "data": {
      "text/plain": [
       "{u'base_dn': u'CN=Users,DC=ad,DC=qumulo,DC=com',\n",
       " u'dcs': [{u'address': u'10.220.248.156', u'name': u'cfwdc1.ad.qumulo.com'}],\n",
       " u'domain': u'ad.qumulo.com',\n",
       " u'domain_netbios': u'AD',\n",
       " u'ldap_connection_states': [{u'base_dn_vec': [u'CN=Users,DC=ad,DC=qumulo,DC=com'],\n",
       "   u'bind_account': u'product$',\n",
       "   u'bind_domain': u'ad.qumulo.com',\n",
       "   u'node_id': 1,\n",
       "   u'servers': [{u'bind_uri': u'ldap://cfwdc1.ad.qumulo.com',\n",
       "     u'kdc_address': u'10.220.248.156'}]},\n",
       "  {u'base_dn_vec': [u'CN=Users,DC=ad,DC=qumulo,DC=com'],\n",
       "   u'bind_account': u'product$',\n",
       "   u'bind_domain': u'ad.qumulo.com',\n",
       "   u'node_id': 2,\n",
       "   u'servers': [{u'bind_uri': u'ldap://cfwdc1.ad.qumulo.com',\n",
       "     u'kdc_address': u'10.220.248.156'}]},\n",
       "  {u'base_dn_vec': [u'CN=Users,DC=ad,DC=qumulo,DC=com'],\n",
       "   u'bind_account': u'product$',\n",
       "   u'bind_domain': u'ad.qumulo.com',\n",
       "   u'node_id': 3,\n",
       "   u'servers': [{u'bind_uri': u'ldap://cfwdc1.ad.qumulo.com',\n",
       "     u'kdc_address': u'10.220.248.156'}]},\n",
       "  {u'base_dn_vec': [u'CN=Users,DC=ad,DC=qumulo,DC=com'],\n",
       "   u'bind_account': u'product$',\n",
       "   u'bind_domain': u'ad.qumulo.com',\n",
       "   u'node_id': 4,\n",
       "   u'servers': [{u'bind_uri': u'ldap://cfwdc1.ad.qumulo.com',\n",
       "     u'kdc_address': u'10.220.248.156'}]}],\n",
       " u'ou': u'',\n",
       " u'status': u'JOINED_TO_DOMAIN',\n",
       " u'use_ad_posix_attributes': True}"
      ]
     },
     "execution_count": 7,
     "metadata": {},
     "output_type": "execute_result"
    }
   ],
   "source": [
    "# Show the current status of the Cluster's AD relationship\n",
    "rc.ad.list_ad()"
   ]
  },
  {
   "cell_type": "markdown",
   "metadata": {},
   "source": [
    "## analytics - timeseries data"
   ]
  },
  {
   "cell_type": "code",
   "execution_count": 8,
   "metadata": {},
   "outputs": [
    {
     "name": "stdout",
     "output_type": "stream",
     "text": [
      "        iops.read.rate -         9.9\n",
      "       iops.write.rate -         8.7\n",
      " reclaim.deferred.rate -         0.0\n",
      " reclaim.snapshot.rate -         0.0\n",
      "  throughput.read.rate -   4119905.7\n",
      " throughput.write.rate -   1960931.9\n"
     ]
    }
   ],
   "source": [
    "# Get the latest minute's metrics from the timeseries data endpoint.\n",
    "# This data is used on the Qumulo web application's dashboard home page.\n",
    "# Show the average value for the last minute for each series.\n",
    "data = rc.analytics.time_series_get(begin_time=int(time.time() - 60))\n",
    "for series in data:\n",
    "    # skip totals since they are duplicated by the other metrics\n",
    "    if 'total' in series['id']:\n",
    "        continue\n",
    "    print \"%22s - %11s\" % (series['id'],\n",
    "                       round(sum(series['values']) / len(series['values']), 1))"
   ]
  },
  {
   "cell_type": "markdown",
   "metadata": {},
   "source": [
    "## Authentication and Authorization (auth) - get related identities"
   ]
  },
  {
   "cell_type": "code",
   "execution_count": 9,
   "metadata": {},
   "outputs": [
    {
     "name": "stdout",
     "output_type": "stream",
     "text": [
      "NFS_UID - 0\n",
      "LOCAL_GROUP - Users\n",
      "LOCAL_USER - admin\n"
     ]
    }
   ],
   "source": [
    "for a in rc.auth.local_username_to_all_related_identities('admin'):\n",
    "    print \"%(id_type)s - %(id_value)s\" % a"
   ]
  },
  {
   "cell_type": "markdown",
   "metadata": {},
   "source": [
    "## cluster - list nodes"
   ]
  },
  {
   "cell_type": "code",
   "execution_count": 10,
   "metadata": {},
   "outputs": [
    {
     "name": "stdout",
     "output_type": "stream",
     "text": [
      "product-1/1 - Q0626\n",
      "product-2/2 - Q0626\n",
      "product-3/3 - Q0626\n",
      "product-4/4 - Q0626\n"
     ]
    }
   ],
   "source": [
    "for n in rc.cluster.list_nodes():\n",
    "    print \"%(node_name)s/%(id)s - %(model_number)s\" % n"
   ]
  },
  {
   "cell_type": "markdown",
   "metadata": {},
   "source": [
    "## dns - resolve names from ip addresses"
   ]
  },
  {
   "cell_type": "code",
   "execution_count": 11,
   "metadata": {
    "scrolled": true
   },
   "outputs": [
    {
     "name": "stdout",
     "output_type": "stream",
     "text": [
      "      127.0.0.1 -         OK - localhost\n",
      "   10.20.217.62 -         OK - dyn-010-020-217-062.corp.qumulo.com\n",
      "    192.168.0.1 -  NOT_FOUND - \n",
      "    192.168.1.1 -  NOT_FOUND - \n",
      "  192.168.154.1 -  NOT_FOUND - \n",
      "     172.16.1.1 -  NOT_FOUND - \n",
      "  10.120.246.43 -         OK - af9-100g.eng.qumulo.com\n",
      "      10.10.1.1 -  NOT_FOUND - \n"
     ]
    }
   ],
   "source": [
    "for d in rc.dns.resolve(['127.0.0.1', '10.20.217.62', '192.168.0.1', '192.168.1.1', \n",
    "                       '192.168.154.1', '172.16.1.1', '10.120.246.43', '10.10.1.1']):\n",
    "    print(\"%(ip_address)15s - %(result)10s - %(hostname)s\" % d)"
   ]
  },
  {
   "cell_type": "markdown",
   "metadata": {},
   "source": [
    "## File System (fs) - list files and read a file"
   ]
  },
  {
   "cell_type": "code",
   "execution_count": 12,
   "metadata": {
    "scrolled": true
   },
   "outputs": [
    {
     "name": "stdout",
     "output_type": "stream",
     "text": [
      "Read file ._.DS_Store which is 4096 bytes, and print first 80 bytes\n",
      "\u0000\u0005\u0016\u0007\u0000\u0002\u0000\u0000Mac OS X        \u0000\u0002\u0000\u0000\u0000\t\u0000\u0000\u00002\u0000\u0000\u000e�\u0000\u0000\u0000\u0002\u0000\u0000\u000e�\u0000\u0000\u0001\u001e",
      "        @\u0010\u0000\u0000\u0000\u0000\u0000\u0000\u0000\u0000\u0000\u0000\u0000\u0000\u0000\u0000\u0000\u0000\u0000\u0000\u0000\u0000\n"
     ]
    }
   ],
   "source": [
    "path = '/'\n",
    "dir_ent = rc.fs.read_directory(path=path)\n",
    "for d in dir_ent['files']:\n",
    "    if d['type'] == 'FS_FILE_TYPE_FILE':\n",
    "        fw = StringIO.StringIO()\n",
    "        print(\"Read file %(name)s which is %(size)s bytes, and print first 80 bytes\" % d)\n",
    "        rc.fs.read_file(fw, path = path + d['name'])\n",
    "        print fw.getvalue()[:80]\n",
    "        break\n"
   ]
  },
  {
   "cell_type": "markdown",
   "metadata": {},
   "source": [
    "## groups - list all groups in Qumulo"
   ]
  },
  {
   "cell_type": "code",
   "execution_count": 13,
   "metadata": {},
   "outputs": [
    {
     "name": "stdout",
     "output_type": "stream",
     "text": [
      " 65534    514           Guests       S-1-5-21-794736294-2450901474-4127211561-514\n",
      "          513            Users       S-1-5-21-794736294-2450901474-4127211561-513\n"
     ]
    }
   ],
   "source": [
    "for g in rc.groups.list_groups():\n",
    "    print \"%(gid)6s %(id)6s %(name)16s %(sid)50s\" % g\n"
   ]
  },
  {
   "cell_type": "markdown",
   "metadata": {},
   "source": [
    "## network - show current connection counts to all nodes"
   ]
  },
  {
   "cell_type": "code",
   "execution_count": 14,
   "metadata": {},
   "outputs": [
    {
     "name": "stdout",
     "output_type": "stream",
     "text": [
      "Node  1 connection count:    2  ----  First 2: 10.20.218.226/NFS, 10.220.246.241/NFS\n",
      "Node  2 connection count:    0  ----  First 0: \n",
      "Node  3 connection count:    0  ----  First 0: \n",
      "Node  4 connection count:    1  ----  First 1: 10.220.246.245/NFS\n"
     ]
    }
   ],
   "source": [
    "for c in rc.network.connections():\n",
    "    print \"Node %2s connection count: %4s  ----  First %s: %s\" % (\n",
    "            c['id'], \n",
    "            len(c['connections']),\n",
    "            min(len(c['connections']), 10), \n",
    "            ', '.join([d['network_address'] + '/' + d['type'].replace('CONNECTION_TYPE_', '') \n",
    "                       for d in c['connections']]))"
   ]
  },
  {
   "cell_type": "markdown",
   "metadata": {},
   "source": [
    "## nfs - list shares"
   ]
  },
  {
   "cell_type": "code",
   "execution_count": 15,
   "metadata": {},
   "outputs": [
    {
     "name": "stdout",
     "output_type": "stream",
     "text": [
      "/ -> / - \n",
      "/test-export -> /test-export - \n",
      "/testing-tommy -> /testing-tommy - \n",
      "/Zaher  -> /Zaher  - \n",
      "/qumulo-audit-logs -> /qumulo-audit-logs - \n"
     ]
    }
   ],
   "source": [
    "for share in rc.nfs.nfs_list_shares():\n",
    "    print \"%(export_path)s -> %(fs_path)s - %(description)s\" % share"
   ]
  },
  {
   "cell_type": "markdown",
   "metadata": {},
   "source": [
    "## node_state - get current node state"
   ]
  },
  {
   "cell_type": "code",
   "execution_count": 16,
   "metadata": {},
   "outputs": [
    {
     "name": "stdout",
     "output_type": "stream",
     "text": [
      "{u'state': u'ACTIVE', u'node_id': 1, u'cluster_id': u'fa3b2fa0-57bc-4e0b-9d75-5f5ddff5a34c'}\n"
     ]
    }
   ],
   "source": [
    "print rc.node_state.get_node_state()\n",
    "# (only prints the state of the node the rest client is currently connected to)"
   ]
  },
  {
   "cell_type": "markdown",
   "metadata": {},
   "source": [
    "## quota - list first 20 quotas and capacity used for each"
   ]
  },
  {
   "cell_type": "code",
   "execution_count": 20,
   "metadata": {},
   "outputs": [
    {
     "name": "stdout",
     "output_type": "stream",
     "text": [
      "/test/ - id: 26000004 - 1478684233728 bytes used of 10000000000000\n",
      "/users/dept/u-400/ - id: 14243563876 - 4096 bytes used of 1000000000\n",
      "/users/dept/u-3000/ - id: 14243563877 - 4096 bytes used of 1000000000\n",
      "/users/dept/u-401/ - id: 14243563879 - 4096 bytes used of 1000000000\n",
      "/users/dept/u-3001/ - id: 14243563880 - 4096 bytes used of 1000000000\n",
      "/users/dept/u-402/ - id: 14243563881 - 4096 bytes used of 1000000000\n",
      "/users/dept/u-3002/ - id: 14243563882 - 4096 bytes used of 1000000000\n",
      "/users/dept/u-403/ - id: 14243563883 - 4096 bytes used of 1000000000\n",
      "/users/dept/u-3003/ - id: 14243563884 - 4096 bytes used of 1000000000\n",
      "/users/dept/u-404/ - id: 14243563885 - 4096 bytes used of 1000000000\n",
      "/users/dept/u-3004/ - id: 14243563886 - 4096 bytes used of 1000000000\n",
      "/users/dept/u-405/ - id: 14243563887 - 4096 bytes used of 1000000000\n",
      "/users/dept/u-3005/ - id: 14243563888 - 4096 bytes used of 1000000000\n",
      "/users/dept/u-406/ - id: 14243563889 - 4096 bytes used of 1000000000\n",
      "/users/dept/u-3006/ - id: 14243563891 - 4096 bytes used of 1000000000\n",
      "/users/dept/u-407/ - id: 14243563893 - 4096 bytes used of 1000000000\n",
      "/users/dept/u-3007/ - id: 14243563894 - 4096 bytes used of 1000000000\n",
      "/users/dept/u-408/ - id: 14243563895 - 4096 bytes used of 1000000000\n",
      "/users/dept/u-3008/ - id: 14243563896 - 4096 bytes used of 1000000000\n",
      "/users/dept/u-409/ - id: 14243563897 - 4096 bytes used of 1000000000\n"
     ]
    }
   ],
   "source": [
    "quota_count = 0\n",
    "for qd in rc.quota.get_all_quotas_with_status():\n",
    "    for q in qd['quotas']:\n",
    "        quota_count += 1\n",
    "        if quota_count > 20:\n",
    "            break\n",
    "        print \"%(path)s - id: %(id)s - %(capacity_usage)s bytes used of %(limit)s\" % q"
   ]
  },
  {
   "cell_type": "markdown",
   "metadata": {},
   "source": [
    "## smb - list shares"
   ]
  },
  {
   "cell_type": "code",
   "execution_count": 21,
   "metadata": {},
   "outputs": [
    {
     "name": "stdout",
     "output_type": "stream",
     "text": [
      "Files -> / - \n",
      "jsturgeon -> /home/jsturgeon - \n",
      "smb-share -> /smb-share - \n",
      "ozgur -> /home/ozgur - just demo\n",
      "stefan1 -> /home/stefan1 - for testing audit - read only \n",
      "qumulo-audit-logs -> /qumulo-audit-logs - \n",
      "LasVegas -> /LasVegas - BRIAN: Ultimate Software POC\n",
      "no-access -> /no-access - \n",
      "test -> /test - testing test test\n"
     ]
    }
   ],
   "source": [
    "for share in rc.smb.smb_list_shares():\n",
    "    print \"%(share_name)s -> %(fs_path)s - %(description)s\" % share"
   ]
  },
  {
   "cell_type": "markdown",
   "metadata": {},
   "source": [
    "## snapshots - list directory-level snapshots"
   ]
  },
  {
   "cell_type": "code",
   "execution_count": 25,
   "metadata": {},
   "outputs": [
    {
     "name": "stdout",
     "output_type": "stream",
     "text": [
      "Replication from baby-groot - 14179051126 - 396201_Replication from baby-groot - 2019-08-30T18:25:51.016772228Z\n",
      "Replication from baby-groot - 14179051126 - 425374_Replication from baby-groot - 2019-09-27T13:21:54.835507389Z\n",
      "replication_to_music - 153000050 - 438360_replication_to_music - 2019-10-09T00:01:29.191201784Z\n",
      "replication_from_newgravytrain - 14152071783 - 454346_replication_from_newgravytrain - 2019-10-24T17:56:05.6006577Z\n",
      "Cluster Root - 2 - 454350_Cluster Root - 2019-10-27T16:09:00.000528751Z\n",
      "Cluster Root - 2 - 455937_Cluster Root - 2019-11-03T17:09:00.00080422Z\n",
      "user u-0 - 14243793681 - 455938_user u-0 - 2019-11-08T16:42:54.798627239Z\n",
      "user u-0 - 14243793681 - 455939_user u-0 - 2019-11-08T16:43:30.746198256Z\n",
      "user u-1 - 14243793683 - 455940_user u-1 - 2019-11-08T16:43:30.754319848Z\n",
      "user u-2 - 14243793685 - 455941_user u-2 - 2019-11-08T16:43:30.759718014Z\n"
     ]
    }
   ],
   "source": [
    "for snap in rc.snapshot.list_snapshots()['entries'][:10]:\n",
    "    print(\"%(name)s - %(source_file_id)s - %(directory_name)s - %(timestamp)s\" % snap)"
   ]
  },
  {
   "cell_type": "markdown",
   "metadata": {},
   "source": [
    "## support - check support/monitoring status"
   ]
  },
  {
   "cell_type": "code",
   "execution_count": 26,
   "metadata": {},
   "outputs": [
    {
     "data": {
      "text/plain": [
       "{u'enabled': True,\n",
       " u'mq_host': u'missionq.qumulo.com',\n",
       " u'mq_port': 443,\n",
       " u'mq_proxy_host': u'',\n",
       " u'mq_proxy_port': 0,\n",
       " u'period': 60,\n",
       " u's3_proxy_disable_https': False,\n",
       " u's3_proxy_host': u'monitor.qumulo.com',\n",
       " u's3_proxy_port': 443,\n",
       " u'vpn_enabled': True,\n",
       " u'vpn_host': u'ep1.qumulo.com'}"
      ]
     },
     "execution_count": 26,
     "metadata": {},
     "output_type": "execute_result"
    }
   ],
   "source": [
    "rc.support.get_config()"
   ]
  },
  {
   "cell_type": "markdown",
   "metadata": {},
   "source": [
    "## time_config - get current time status"
   ]
  },
  {
   "cell_type": "code",
   "execution_count": 27,
   "metadata": {},
   "outputs": [
    {
     "data": {
      "text/plain": [
       "{u'config': {u'ntp_servers': [u'0.qumulo.pool.ntp.org',\n",
       "   u'1.qumulo.pool.ntp.org'],\n",
       "  u'use_ad_for_primary': True},\n",
       " u'time': u'2019-11-20T02:22:33.248152991Z'}"
      ]
     },
     "execution_count": 27,
     "metadata": {},
     "output_type": "execute_result"
    }
   ],
   "source": [
    "rc.time_config.get_time_status()"
   ]
  },
  {
   "cell_type": "markdown",
   "metadata": {},
   "source": [
    "## users - list users"
   ]
  },
  {
   "cell_type": "code",
   "execution_count": 28,
   "metadata": {},
   "outputs": [
    {
     "name": "stdout",
     "output_type": "stream",
     "text": [
      "     brian -       -  1009 -  513 - S-1-5-21-794736294-2450901474-4127211561-1009\n",
      "    stefan -       -  1008 -  513 - S-1-5-21-794736294-2450901474-4127211561-1008\n",
      "  ftp-user -       -  1006 -  513 - S-1-5-21-794736294-2450901474-4127211561-1006\n",
      "     guest - 65534 -   501 -  514 - S-1-5-21-794736294-2450901474-4127211561-501\n",
      "     admin -     0 -   500 -  513 - S-1-5-21-794736294-2450901474-4127211561-500\n",
      "     jason -       -  1000 -  513 - S-1-5-21-794736294-2450901474-4127211561-1000\n",
      "     tommy -       -  1010 -  513 - S-1-5-21-794736294-2450901474-4127211561-1010\n",
      "  api-user -       -  1007 -  513 - S-1-5-21-794736294-2450901474-4127211561-1007\n"
     ]
    }
   ],
   "source": [
    "for user in rc.users.list_users():\n",
    "    print(\"%(name)10s - %(uid)5s - %(id)5s - %(primary_group)4s - %(sid)s\" % user)"
   ]
  },
  {
   "cell_type": "code",
   "execution_count": null,
   "metadata": {
    "collapsed": true
   },
   "outputs": [],
   "source": []
  }
 ],
 "metadata": {
  "kernelspec": {
   "display_name": "Python 2",
   "language": "python",
   "name": "python2"
  },
  "language_info": {
   "codemirror_mode": {
    "name": "ipython",
    "version": 2
   },
   "file_extension": ".py",
   "mimetype": "text/x-python",
   "name": "python",
   "nbconvert_exporter": "python",
   "pygments_lexer": "ipython2",
   "version": "2.7.16"
  }
 },
 "nbformat": 4,
 "nbformat_minor": 2
}
