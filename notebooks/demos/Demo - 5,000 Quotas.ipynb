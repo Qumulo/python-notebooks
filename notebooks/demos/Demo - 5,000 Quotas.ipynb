{
 "cells": [
  {
   "cell_type": "code",
   "execution_count": null,
   "metadata": {
    "collapsed": true,
    "scrolled": false
   },
   "outputs": [],
   "source": [
    "# imports\n",
    "import os\n",
    "import sys\n",
    "import time\n",
    "import traceback\n",
    "import threading\n",
    "\n",
    "from qumulo.rest_client import RestClient"
   ]
  },
  {
   "cell_type": "markdown",
   "metadata": {},
   "source": [
    "### Setup credentials, create the parent directory"
   ]
  },
  {
   "cell_type": "code",
   "execution_count": null,
   "metadata": {
    "collapsed": true,
    "scrolled": true
   },
   "outputs": [],
   "source": [
    "rc = RestClient(\"product\", 8000)\n",
    "rc.login(\"admin\", \"admin\")\n",
    "\n",
    "def create_dir(rc, name, dir_path='/'):\n",
    "    try:\n",
    "        rc.fs.create_directory(name = name, dir_path = dir_path)\n",
    "    except:\n",
    "        exc_type, exc_value, exc_traceback = sys.exc_info()\n",
    "        print(\"Exception: %s\" % exc_value)\n",
    "\n",
    "# Create base user directory, if it doesn't already exist\n",
    "create_dir(rc, name='users', dir_path='/')\n",
    "create_dir(rc, name='dept', dir_path='/users')"
   ]
  },
  {
   "cell_type": "markdown",
   "metadata": {},
   "source": [
    "### Create 5,000 Quotas"
   ]
  },
  {
   "cell_type": "code",
   "execution_count": null,
   "metadata": {
    "collapsed": true,
    "scrolled": true
   },
   "outputs": [],
   "source": [
    "threads = []\n",
    "thread_count = 20\n",
    "dir_count = 5000\n",
    "\n",
    "def create_quotas(start_dir, end_dir):\n",
    "    rc = RestClient(\"product\", 8000)\n",
    "    rc.login(\"admin\", \"admin\")\n",
    "    for dir_num in range(start_dir, end_dir):\n",
    "        dir_name = 'u-' + str(dir_num)\n",
    "        try:\n",
    "            dir_res = rc.fs.get_attr(path='/users/dept/' + dir_name)\n",
    "        except:\n",
    "            dir_res = rc.fs.create_directory(name=dir_name, dir_path='/users/dept')\n",
    "        dir_id = dir_res['file_number']\n",
    "        quota_res = rc.quota.create_quota(id_ = dir_id, limit_in_bytes = 1000000000)\n",
    "\n",
    "        \n",
    "for proc_num in range(0, thread_count):\n",
    "    start_dir = proc_num*dir_count / thread_count\n",
    "    end_dir = (proc_num+1)*dir_count / thread_count\n",
    "    t = threading.Thread(target=create_quotas, args=(start_dir, end_dir))\n",
    "    threads.append(t)\n",
    "    t.start()\n",
    "\n",
    "# Check aggregates to see when all directories and quotas exist\n",
    "while int(rc.fs.read_dir_aggregates(path='/users/dept/')['total_directories']) < 5000:\n",
    "    print(int(rc.fs.read_dir_aggregates(path='/users/dept/')['total_directories']))\n",
    "    time.sleep(2.5)\n",
    "\n",
    "print(\"Done!\")"
   ]
  },
  {
   "cell_type": "markdown",
   "metadata": {},
   "source": [
    "### Enumerate all quotas and show a specific one"
   ]
  },
  {
   "cell_type": "code",
   "execution_count": null,
   "metadata": {
    "collapsed": true,
    "scrolled": true
   },
   "outputs": [],
   "source": [
    "for d in rc.quota.get_all_quotas_with_status():\n",
    "    for q in d['quotas']:\n",
    "        if q['path'] == '/users/dept/u-238/':\n",
    "            print q"
   ]
  },
  {
   "cell_type": "code",
   "execution_count": null,
   "metadata": {
    "collapsed": true,
    "scrolled": true
   },
   "outputs": [],
   "source": [
    "rc.quota.get_quota_with_status(148001821)"
   ]
  },
  {
   "cell_type": "markdown",
   "metadata": {},
   "source": [
    "### Create and write a 1 GB file"
   ]
  },
  {
   "cell_type": "code",
   "execution_count": null,
   "metadata": {
    "collapsed": true,
    "scrolled": true
   },
   "outputs": [],
   "source": [
    "new_file = rc.fs.create_file(name=\"1GB.txt\", dir_path=\"/users/dept/u-238\")"
   ]
  },
  {
   "cell_type": "code",
   "execution_count": null,
   "metadata": {
    "collapsed": true,
    "scrolled": true
   },
   "outputs": [],
   "source": [
    "import StringIO\n",
    "f = StringIO.StringIO()\n",
    "f.write('0'*1000000000)\n",
    "written_file = rc.fs.write_file(data_file = f, path=new_file['path'])"
   ]
  },
  {
   "cell_type": "markdown",
   "metadata": {},
   "source": [
    "### Can we still write to this directory?"
   ]
  },
  {
   "cell_type": "code",
   "execution_count": null,
   "metadata": {
    "collapsed": true,
    "scrolled": true
   },
   "outputs": [],
   "source": [
    "new_file = rc.fs.create_file(name=\"just-one-more---please.txt\", dir_path=\"/users/dept/u-238\")"
   ]
  },
  {
   "cell_type": "markdown",
   "metadata": {},
   "source": [
    "### Delete all quotas"
   ]
  },
  {
   "cell_type": "code",
   "execution_count": null,
   "metadata": {
    "collapsed": true,
    "scrolled": true
   },
   "outputs": [],
   "source": [
    "d = rc.quota.get_all_quotas_with_status()\n",
    "for q in d:\n",
    "    for quota in q['quotas']:\n",
    "        # but only delete them if they are in /users/dept\n",
    "        if '/users/dept' in quota['path']:\n",
    "            rc.quota.delete_quota(id_ = quota['id'])"
   ]
  },
  {
   "cell_type": "markdown",
   "metadata": {},
   "source": [
    "### Tree delete all of the user directories and check if it's gone"
   ]
  },
  {
   "cell_type": "code",
   "execution_count": null,
   "metadata": {
    "collapsed": true,
    "scrolled": true
   },
   "outputs": [],
   "source": [
    "rc.fs.delete_tree(path='/users/dept/')"
   ]
  },
  {
   "cell_type": "code",
   "execution_count": null,
   "metadata": {
    "collapsed": true,
    "scrolled": true
   },
   "outputs": [],
   "source": [
    "rc.fs.read_directory(path='/users/')"
   ]
  },
  {
   "cell_type": "code",
   "execution_count": null,
   "metadata": {
    "collapsed": true
   },
   "outputs": [],
   "source": []
  }
 ],
 "metadata": {
  "kernelspec": {
   "display_name": "Python 2",
   "language": "python",
   "name": "python2"
  },
  "language_info": {
   "codemirror_mode": {
    "name": "ipython",
    "version": 2
   },
   "file_extension": ".py",
   "mimetype": "text/x-python",
   "name": "python",
   "nbconvert_exporter": "python",
   "pygments_lexer": "ipython2",
   "version": "2.7.14"
  }
 },
 "nbformat": 4,
 "nbformat_minor": 2
}
