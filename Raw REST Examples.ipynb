{
 "cells": [
  {
   "cell_type": "markdown",
   "metadata": {},
   "source": [
    "# Raw python requests for the Qumulo API via REST\n",
    "\n",
    "This Python example is intended to illustrate how raw RESTful requests might work against the Qumulo API. These patterns could be used if you wish to create other language bindings against Qumulo. While they are one method of using python to interact with Qumulo, we recommend using Qumulo's python bindings installed via <code>**pip install qumulo_api**</code>"
   ]
  },
  {
   "cell_type": "code",
   "execution_count": 5,
   "metadata": {
    "collapsed": false,
    "deletable": true,
    "editable": true
   },
   "outputs": [],
   "source": [
    "import requests\n",
    "import json\n",
    "import pprint\n",
    "# python + ssl on MacOSX is rather noisy against dev clusters\n",
    "requests.packages.urllib3.disable_warnings()"
   ]
  },
  {
   "cell_type": "code",
   "execution_count": 6,
   "metadata": {
    "collapsed": true,
    "deletable": true,
    "editable": true
   },
   "outputs": [],
   "source": [
    "# Qumulo API credentials. You will need to change these to your Qumulo Cluster's API credentials to run this code\n",
    "API_HOSTNAME = 'cluster.qumulo.net'\n",
    "API_USER = 'user'\n",
    "API_PASSWORD = 'password'"
   ]
  },
  {
   "cell_type": "code",
   "execution_count": 7,
   "metadata": {
    "collapsed": true,
    "deletable": true,
    "editable": true
   },
   "outputs": [],
   "source": [
    "# Setting up URLs and default header parameters\n",
    "root_url = 'https://' + API_HOSTNAME + ':8000'\n",
    "\n",
    "who_am_i_url   = root_url + '/v1/session/who-am-i'\n",
    "login_url      = root_url + '/v1/session/login'\n",
    "\n",
    "default_header = {'content-type': 'application/json'}"
   ]
  },
  {
   "cell_type": "markdown",
   "metadata": {},
   "source": [
    "### Login to the Qumulo cluster via a \"POST\" to the login_url"
   ]
  },
  {
   "cell_type": "code",
   "execution_count": 8,
   "metadata": {
    "collapsed": false,
    "deletable": true,
    "editable": true
   },
   "outputs": [
    {
     "name": "stdout",
     "output_type": "stream",
     "text": [
      "{u'algorithm': u'hmac-sha-256',\n",
      " u'bearer_token': u'1:AUQAAABlSno3dWVGV0JBTVF6TFM5RGFZTmdQZ0xJd01ZTURKQmFHWWtOb3dQVThNT3hHeEFISk9Za3B1WjV3ZGtBUUR4RWduTCAAAACglkeDZJ6t6b3SjbvH5e9DQb8yCxgTl9daT/uSs2HVrQ==',\n",
      " u'key': u'oJZHg2Serem90o27x+XvQ0G/MgsYE5fXWk/7krNh1a0=',\n",
      " u'key_id': u'eJz7ueFWBAMQzLS9DaYNgPgLIwMYMDJBaGYkNowPU8MOxGxAHJOYkpuZ5wdkAQDxEgnL'}\n"
     ]
    }
   ],
   "source": [
    "post_data = {'username': API_USER, 'password': API_PASSWORD}\n",
    "\n",
    "resp = requests.post(login_url, \n",
    "                  data=json.dumps(post_data), \n",
    "                  headers=default_header, \n",
    "                  verify=False)\n",
    "\n",
    "resp_data = json.loads(resp.text)\n",
    "\n",
    "# print the response for the login attempt\n",
    "pprint.pprint(resp_data)"
   ]
  },
  {
   "cell_type": "markdown",
   "metadata": {},
   "source": [
    "### Set up the Authorization bearer token header"
   ]
  },
  {
   "cell_type": "code",
   "execution_count": 9,
   "metadata": {
    "collapsed": false,
    "deletable": true,
    "editable": true
   },
   "outputs": [
    {
     "name": "stdout",
     "output_type": "stream",
     "text": [
      "{'Authorization': u'Bearer 1:AUQAAABlSno3dWVGV0JBTVF6TFM5RGFZTmdQZ0xJd01ZTURKQmFHWWtOb3dQVThNT3hHeEFISk9Za3B1WjV3ZGtBUUR4RWduTCAAAACglkeDZJ6t6b3SjbvH5e9DQb8yCxgTl9daT/uSs2HVrQ==',\n",
      " 'content-type': 'application/json'}\n"
     ]
    }
   ],
   "source": [
    "default_header['Authorization'] = 'Bearer ' + resp_data['bearer_token']\n",
    "\n",
    "# let's take a look at our default requests header now\n",
    "pprint.pprint(default_header)"
   ]
  },
  {
   "cell_type": "markdown",
   "metadata": {},
   "source": [
    "### Run who am I via a raw \"GET\" request"
   ]
  },
  {
   "cell_type": "code",
   "execution_count": 12,
   "metadata": {
    "collapsed": false,
    "deletable": true,
    "editable": true
   },
   "outputs": [
    {
     "name": "stdout",
     "output_type": "stream",
     "text": [
      "{u'id': u'500',\n",
      " u'name': u'admin',\n",
      " u'primary_group': u'513',\n",
      " u'sid': u'S-1-5-21-2200309403-3182498638-1868133574-500',\n",
      " u'uid': u'0'}\n"
     ]
    }
   ],
   "source": [
    "resp = requests.get(who_am_i_url, \n",
    "                  headers=default_header, \n",
    "                  verify=False)\n",
    "\n",
    "# print the response. Will include the id, sid, and uid\n",
    "pprint.pprint(json.loads(resp.text))"
   ]
  }
 ],
 "metadata": {
  "kernelspec": {
   "display_name": "Python 2",
   "language": "python",
   "name": "python2"
  },
  "language_info": {
   "codemirror_mode": {
    "name": "ipython",
    "version": 2
   },
   "file_extension": ".py",
   "mimetype": "text/x-python",
   "name": "python",
   "nbconvert_exporter": "python",
   "pygments_lexer": "ipython2",
   "version": "2.7.13"
  }
 },
 "nbformat": 4,
 "nbformat_minor": 2
}
