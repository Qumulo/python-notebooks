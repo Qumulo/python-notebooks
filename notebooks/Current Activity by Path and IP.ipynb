{
 "cells": [
  {
   "cell_type": "markdown",
   "metadata": {},
   "source": [
    "# Qumulo API Activity Data exmaples"
   ]
  },
  {
   "cell_type": "code",
   "execution_count": 1,
   "metadata": {},
   "outputs": [],
   "source": [
    "from qumulo.rest_client import RestClient"
   ]
  },
  {
   "cell_type": "code",
   "execution_count": 3,
   "metadata": {
    "collapsed": true
   },
   "outputs": [],
   "source": [
    "# change these to your Qumulo API cluster and credentials\n",
    "rc = RestClient('<qumulo-cluster>', 8000)\n",
    "rc.login('<login>', '<password>');"
   ]
  },
  {
   "cell_type": "markdown",
   "metadata": {},
   "source": [
    "### make the current activity api call that we'll be using below"
   ]
  },
  {
   "cell_type": "code",
   "execution_count": 20,
   "metadata": {},
   "outputs": [],
   "source": [
    "activity_data = rc.analytics.current_activity_get()"
   ]
  },
  {
   "cell_type": "markdown",
   "metadata": {},
   "source": [
    "### Show all of types of activity data"
   ]
  },
  {
   "cell_type": "code",
   "execution_count": 21,
   "metadata": {
    "scrolled": true
   },
   "outputs": [
    {
     "data": {
      "text/plain": [
       "[u'file-iops-write',\n",
       " u'file-throughput-read',\n",
       " u'file-iops-read',\n",
       " u'metadata-iops-read',\n",
       " u'metadata-iops-write',\n",
       " u'file-throughput-write']"
      ]
     },
     "execution_count": 21,
     "metadata": {},
     "output_type": "execute_result"
    }
   ],
   "source": [
    "list(set([d['type'] for d in activity_data['entries']]))"
   ]
  },
  {
   "cell_type": "markdown",
   "metadata": {},
   "source": [
    "### Sum up the rates by activity type"
   ]
  },
  {
   "cell_type": "code",
   "execution_count": 22,
   "metadata": {
    "scrolled": true
   },
   "outputs": [
    {
     "name": "stdout",
     "output_type": "stream",
     "text": [
      "       file-iops-write - 4.9\n",
      "  file-throughput-read - 9147.7\n",
      "        file-iops-read - 0.7\n",
      "    metadata-iops-read - 13.0\n",
      "   metadata-iops-write - 1.6\n",
      " file-throughput-write - 254429.9\n"
     ]
    }
   ],
   "source": [
    "types_data = {}\n",
    "for d in activity_data['entries']:\n",
    "    if d['type'] not in types_data:\n",
    "        types_data[d['type']] = 0\n",
    "    types_data[d['type']] += d['rate']\n",
    "for t, val in types_data.iteritems():\n",
    "    print(\"%22s - %.1f\" % (t, val))"
   ]
  },
  {
   "cell_type": "markdown",
   "metadata": {},
   "source": [
    "### Report clients by throughput from highest to lowest"
   ]
  },
  {
   "cell_type": "code",
   "execution_count": 23,
   "metadata": {},
   "outputs": [
    {
     "name": "stdout",
     "output_type": "stream",
     "text": [
      "        10.220.246.245 - 238045.9\n",
      "        10.220.246.241 - 25531.7\n"
     ]
    }
   ],
   "source": [
    "ip_data = {}\n",
    "for d in activity_data['entries']:\n",
    "    if 'throughput' in d['type']:\n",
    "        if d['ip'] not in ip_data:\n",
    "            ip_data[d['ip']] = 0\n",
    "        ip_data[d['ip']] += d['rate']\n",
    "for ip, val in sorted(ip_data.items(), key=lambda x: x[1], reverse=True):\n",
    "    print(\"%22s - %.1f\" % (ip, val))"
   ]
  },
  {
   "cell_type": "markdown",
   "metadata": {},
   "source": [
    "### Resolve ids to paths"
   ]
  },
  {
   "cell_type": "code",
   "execution_count": 24,
   "metadata": {},
   "outputs": [
    {
     "name": "stdout",
     "output_type": "stream",
     "text": [
      "Resolved 433 ids to paths.\n"
     ]
    }
   ],
   "source": [
    "batch_size = 1000\n",
    "ids_to_paths = {}\n",
    "\n",
    "ids = list(set([d['id'] for d in activity_data['entries']]))\n",
    "\n",
    "for offset in range(0, len(ids), batch_size):\n",
    "    resolve_data = rc.fs.resolve_paths(ids[offset:offset+batch_size])\n",
    "    for id_path in resolve_data:\n",
    "        ids_to_paths[id_path['id']] = id_path['path']\n",
    "\n",
    "print(\"Resolved %s ids to paths.\" % len(ids_to_paths))"
   ]
  },
  {
   "cell_type": "markdown",
   "metadata": {},
   "source": [
    "### Resolve ips to hostnames"
   ]
  },
  {
   "cell_type": "code",
   "execution_count": 25,
   "metadata": {},
   "outputs": [
    {
     "name": "stdout",
     "output_type": "stream",
     "text": [
      "Resolved 2 ips to hosts.\n"
     ]
    }
   ],
   "source": [
    "batch_size = 100\n",
    "ips_to_names = {}\n",
    "\n",
    "ips = list(set([d['ip'] for d in activity_data['entries']]))\n",
    "\n",
    "for offset in range(0, len(ips), batch_size):\n",
    "    resolve_data = rc.dns.resolve_ips_to_names(ips[offset:offset+batch_size])\n",
    "    for d in resolve_data:\n",
    "        ips_to_names[d['ip_address']] = d['hostname']\n",
    "\n",
    "print(\"Resolved %s ips to hosts.\" % len(ips_to_names))"
   ]
  },
  {
   "cell_type": "markdown",
   "metadata": {},
   "source": [
    "### Summarize the most active directories by total throughput"
   ]
  },
  {
   "cell_type": "code",
   "execution_count": 26,
   "metadata": {},
   "outputs": [
    {
     "name": "stdout",
     "output_type": "stream",
     "text": [
      "                       /query_db - 194764.8\n",
      "                               / - 36659.2\n",
      "                  /elasticsearch - 14540.8\n",
      "                      /databases - 6690.1\n",
      "                    /power-tools - 6485.3\n",
      "              /qumulo-audit-logs - 4437.3\n"
     ]
    }
   ],
   "source": [
    "directory_levels = 1\n",
    "path_data = {}\n",
    "\n",
    "for d in activity_data['entries']:\n",
    "    path = ids_to_paths[d['id']]\n",
    "    if path == '':\n",
    "        path = '/'\n",
    "    path = '/'.join(path.split('/')[0:directory_levels+1])\n",
    "    if 'throughput' in d['type']:\n",
    "        if path not in path_data:\n",
    "            path_data[path] = 0\n",
    "        path_data[path] += d['rate']\n",
    "\n",
    "for path, val in sorted(path_data.items(), key=lambda x: x[1], reverse=True):\n",
    "    print(\"%32s - %.1f\" % (path, val))"
   ]
  },
  {
   "cell_type": "markdown",
   "metadata": {},
   "source": [
    "### Summarize the most active clients by total throughput"
   ]
  },
  {
   "cell_type": "code",
   "execution_count": 27,
   "metadata": {},
   "outputs": [
    {
     "name": "stdout",
     "output_type": "stream",
     "text": [
      "mc-25.eng.qumulo.com (10.220.246.241)  - 7304.5\n",
      "mc-29.eng.qumulo.com (10.220.246.245)  - 341.3\n"
     ]
    }
   ],
   "source": [
    "ip_data = {}\n",
    "\n",
    "for d in activity_data['entries']:\n",
    "    if 'throughput' in d['type']:\n",
    "        if d['ip'] not in path_data:\n",
    "            ip_data[d['ip']] = 0\n",
    "        ip_data[d['ip']] += d['rate']\n",
    "\n",
    "for ip, val in sorted(ip_data.items(), key=lambda x: x[1], reverse=True):\n",
    "    print(\"%20s (%s)  - %.1f\" % (ips_to_names[ip], ip, val))"
   ]
  }
 ],
 "metadata": {
  "kernelspec": {
   "display_name": "Python 2",
   "language": "python",
   "name": "python2"
  },
  "language_info": {
   "codemirror_mode": {
    "name": "ipython",
    "version": 2
   },
   "file_extension": ".py",
   "mimetype": "text/x-python",
   "name": "python",
   "nbconvert_exporter": "python",
   "pygments_lexer": "ipython2",
   "version": "2.7.16"
  }
 },
 "nbformat": 4,
 "nbformat_minor": 2
}
