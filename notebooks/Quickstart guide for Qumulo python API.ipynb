{
 "cells": [
  {
   "cell_type": "markdown",
   "metadata": {},
   "source": [
    "# Quickstart guide Qumulo API python bindings\n",
    "\n",
    "This jupyter notebook is intended to provide a quick walkup experience for using the Qumulo API python bindings.\n",
    "\n",
    "### Setup steps\n",
    "1. Prerequisites: python 3.7, pip, jupyter-notebook\n",
    "2. Make sure you have access to a Qumulo cluster as well as api credentials.\n",
    "3. Install the Qumulo API python library: <code>**pip install qumulo_api**</code>\n",
    "4. Run <code>**jupyter-notebook**</code> from the location of this github repo on your local machine."
   ]
  },
  {
   "cell_type": "code",
   "execution_count": 4,
   "metadata": {},
   "outputs": [],
   "source": [
    "import os\n",
    "from qumulo.rest_client import RestClient"
   ]
  },
  {
   "cell_type": "code",
   "execution_count": 5,
   "metadata": {},
   "outputs": [],
   "source": [
    "# set your environment variables or fill in the variables below\n",
    "API_HOSTNAME = os.environ['API_HOSTNAME'] if 'API_HOSTNAME' in os.environ else '{your-cluster-hostname}'\n",
    "API_USER =     os.environ['API_USER']     if 'API_USER'     in os.environ else '{api-cluster-user}'\n",
    "API_PASSWORD = os.environ['API_PASSWORD'] if 'API_PASSWORD' in os.environ else '{api-cluster-password}'"
   ]
  },
  {
   "cell_type": "code",
   "execution_count": 6,
   "metadata": {},
   "outputs": [
    {
     "data": {
      "text/plain": [
       "{u'home_directory': None,\n",
       " u'id': u'500',\n",
       " u'name': u'admin',\n",
       " u'primary_group': u'513',\n",
       " u'sid': u'S-1-5-21-794736294-2450901474-4127211561-500',\n",
       " u'uid': u'0'}"
      ]
     },
     "execution_count": 6,
     "metadata": {},
     "output_type": "execute_result"
    }
   ],
   "source": [
    "rc = RestClient(API_HOSTNAME, 8000)\n",
    "rc.login(API_USER, API_PASSWORD)\n",
    "rc.auth.who_am_i()"
   ]
  },
  {
   "cell_type": "markdown",
   "metadata": {
    "scrolled": true
   },
   "source": [
    "### List all cluster's nodes\n",
    "\n",
    "Show  each node and it's corresponding status and serial number."
   ]
  },
  {
   "cell_type": "code",
   "execution_count": 7,
   "metadata": {
    "scrolled": true
   },
   "outputs": [
    {
     "name": "stdout",
     "output_type": "stream",
     "text": [
      "Node:  1/product-1 - Status: online - Serial: sCC121500C\n",
      "Node:  2/product-2 - Status: online - Serial: sCC120Z001\n",
      "Node:  3/product-3 - Status: online - Serial: sCC120Z004\n",
      "Node:  4/product-4 - Status: online - Serial: sCC130400F\n"
     ]
    }
   ],
   "source": [
    "all_nodes = rc.cluster.list_nodes()\n",
    "for node in all_nodes:\n",
    "    print \"Node: %(id)2s/%(node_name)s - Status: %(node_status)s - Serial: %(serial_number)s\" % node"
   ]
  },
  {
   "cell_type": "markdown",
   "metadata": {},
   "source": [
    "### Filesystem stats\n",
    "\n",
    "Shows the usable capacity of the cluster as well as used capacity."
   ]
  },
  {
   "cell_type": "code",
   "execution_count": 8,
   "metadata": {},
   "outputs": [
    {
     "name": "stdout",
     "output_type": "stream",
     "text": [
      "Usable Capacity (TB): 47.95\n",
      "Used Capacity   (TB): 27.02 (56.4%)\n"
     ]
    }
   ],
   "source": [
    "file_system_stats = rc.fs.read_fs_stats()\n",
    "free_bytes = float(file_system_stats['free_size_bytes'])\n",
    "usable_bytes = float(file_system_stats['total_size_bytes'])\n",
    "used_perc = (usable_bytes-free_bytes) / usable_bytes\n",
    "print(\"Usable Capacity (TB): %s\" % (round(usable_bytes/pow(1000,4), 2), ))\n",
    "print(\"Used Capacity   (TB): %s (%s%%)\" % (round((usable_bytes-free_bytes)/pow(1000,4), 2), round(100*used_perc,1)))"
   ]
  },
  {
   "cell_type": "markdown",
   "metadata": {},
   "source": [
    "### Protection details & status\n",
    "\n",
    "Show the cluster's data protection status and details."
   ]
  },
  {
   "cell_type": "code",
   "execution_count": 9,
   "metadata": {},
   "outputs": [
    {
     "name": "stdout",
     "output_type": "stream",
     "text": [
      "\n",
      "                    Type: PROTECTION_SYSTEM_TYPE_EC\n",
      "           Encoding size: 6/4\n",
      "      Max drive failures: 2\n",
      "       Max node failures: 1\n",
      "Remaining drive failures: 2\n",
      " Remaining node failures: 1\n",
      "\n"
     ]
    }
   ],
   "source": [
    "protection_details = rc.cluster.get_protection_status()\n",
    "data_str = \"\"\"\n",
    "                    Type: %(protection_system_type)s\n",
    "           Encoding size: %(blocks_per_stripe)s/%(data_blocks_per_stripe)s\n",
    "      Max drive failures: %(max_drive_failures)s\n",
    "       Max node failures: %(max_node_failures)s\n",
    "Remaining drive failures: %(remaining_drive_failures)s\n",
    " Remaining node failures: %(remaining_node_failures)s\n",
    "\"\"\"\n",
    "print(data_str % protection_details)"
   ]
  },
  {
   "cell_type": "markdown",
   "metadata": {},
   "source": [
    "### HDD and SSD drives status\n",
    "\n",
    "Enumerate each node's SSDs and HDDs as well as their status, size, and model."
   ]
  },
  {
   "cell_type": "code",
   "execution_count": 10,
   "metadata": {},
   "outputs": [
    {
     "name": "stdout",
     "output_type": "stream",
     "text": [
      "------------------------------------------------------------\n",
      "   1.1 - SSD - healthy - 800 GB - INTEL_SSDSC2BB800G4\n",
      "   1.2 - SSD - healthy - 800 GB - INTEL_SSDSC2BB800G4\n",
      "   1.3 - HDD - healthy -   6 TB - HGST_HUS726060ALA640\n",
      "   1.4 - HDD - healthy -   6 TB - HGST_HUS726060ALA640\n",
      "   1.5 - HDD - healthy -   6 TB - HGST_HUS726060ALA640\n",
      "   1.6 - HDD - healthy -   6 TB - HGST_HUS726060ALA640\n",
      "------------------------------------------------------------\n",
      "   2.1 - SSD - healthy - 800 GB - INTEL_SSDSC2BB800G4\n",
      "   2.2 - SSD - healthy - 800 GB - INTEL_SSDSC2BB800G4\n",
      "   2.3 - HDD - healthy -   6 TB - HGST_HUS726060ALA640\n",
      "   2.4 - HDD - healthy -   6 TB - HGST_HUS726060ALA640\n",
      "   2.5 - HDD - healthy -   6 TB - HGST_HUS726060ALA640\n",
      "   2.6 - HDD - healthy -   6 TB - HGST_HUS726060ALA640\n",
      "------------------------------------------------------------\n",
      "   3.1 - SSD - healthy - 800 GB - INTEL_SSDSC2BB800G4\n",
      "   3.2 - SSD - healthy - 800 GB - INTEL_SSDSC2BB800G4\n",
      "   3.3 - HDD - healthy -   6 TB - HGST_HUS726060ALA640\n",
      "   3.4 - HDD - healthy -   6 TB - HGST_HUS726060ALA640\n",
      "   3.5 - HDD - healthy -   6 TB - HGST_HUS726060ALA640\n",
      "   3.6 - HDD - healthy -   6 TB - HGST_HUS726060ALA640\n",
      "------------------------------------------------------------\n",
      "   4.1 - SSD - healthy - 800 GB - INTEL_SSDSC2BB800G4\n",
      "   4.2 - SSD - healthy - 800 GB - INTEL_SSDSC2BB800G4\n",
      "   4.3 - HDD - healthy -   6 TB - HGST_HUS726060ALA640\n",
      "   4.4 - HDD - healthy -   6 TB - HGST_HUS726060ALA640\n",
      "   4.5 - HDD - healthy -   6 TB - HGST_HUS726060ALA640\n",
      "   4.6 - HDD - healthy -   6 TB - HGST_HUS726060ALA640\n"
     ]
    }
   ],
   "source": [
    "all_drives = rc.cluster.get_cluster_slots_status()\n",
    "node_num = 0\n",
    "for drive in all_drives:\n",
    "    if drive['node_id'] != node_num:\n",
    "        print \"-\" * 60\n",
    "        node_num = drive['node_id']\n",
    "    cap = float(drive['capacity'])/pow(1000,4)\n",
    "    if cap > 1:\n",
    "        cap = str(int(cap)) + \" TB\"\n",
    "    else:\n",
    "        cap = str(int(cap * 1001)) + \" GB\"\n",
    "    drive['cap'] = cap\n",
    "    print \"%(node_id)4s.%(slot)s - %(slot_type)s - %(state)s - %(cap)6s - %(disk_model)s\" % drive"
   ]
  }
 ],
 "metadata": {
  "kernelspec": {
   "display_name": "Python 2",
   "language": "python",
   "name": "python2"
  },
  "language_info": {
   "codemirror_mode": {
    "name": "ipython",
    "version": 2
   },
   "file_extension": ".py",
   "mimetype": "text/x-python",
   "name": "python",
   "nbconvert_exporter": "python",
   "pygments_lexer": "ipython2",
   "version": "2.7.16"
  }
 },
 "nbformat": 4,
 "nbformat_minor": 2
}
